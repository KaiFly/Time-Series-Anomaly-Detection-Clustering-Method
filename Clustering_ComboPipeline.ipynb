{
 "cells": [
  {
   "cell_type": "markdown",
   "metadata": {},
   "source": [
    "## Importing Libraries"
   ]
  },
  {
   "cell_type": "code",
   "execution_count": 1,
   "metadata": {},
   "outputs": [],
   "source": [
    "import math\n",
    "import numpy as np\n",
    "from datetime import timedelta\n",
    "import matplotlib.pyplot as plt\n",
    "import matplotlib as mpl\n",
    "import pandas as pd\n",
    "import seaborn as sns\n",
    "import random as rd\n",
    "\n",
    "import warnings\n",
    "warnings.filterwarnings('ignore')\n",
    "\n",
    "from sklearn.preprocessing import StandardScaler\n",
    "from sklearn.preprocessing import normalize\n",
    "from sklearn.decomposition import PCA\n",
    "\n",
    "import utils\n",
    "import utils_cl\n",
    "\n",
    "import warnings\n",
    "warnings.filterwarnings('ignore')\n",
    "\n",
    "%matplotlib notebook\n",
    "%load_ext autoreload"
   ]
  },
  {
   "cell_type": "markdown",
   "metadata": {},
   "source": [
    "## Loading data"
   ]
  },
  {
   "cell_type": "code",
   "execution_count": 2,
   "metadata": {},
   "outputs": [],
   "source": [
    "summary_df = pd.read_csv(\"dataset/weekly_applied_fraud_milestones_2.csv\", index_col=0)\n",
    "summary_df['START_WEEKDAY'] = pd.to_datetime(summary_df['START_WEEKDAY'])"
   ]
  },
  {
   "cell_type": "code",
   "execution_count": 3,
   "metadata": {},
   "outputs": [],
   "source": [
    "def get_start_week(str_date):\n",
    "    return pd.Timestamp(str_date).to_period('W').start_time\n",
    "#summary_df = summary_df[summary_df['START_WEEKDAY'] < get_start_week('2017-4-1')]\n",
    "#summary_df = summary_df[summary_df['START_WEEKDAY'] > get_start_week('2017-3-1')]"
   ]
  },
  {
   "cell_type": "code",
   "execution_count": 5,
   "metadata": {},
   "outputs": [
    {
     "name": "stdout",
     "output_type": "stream",
     "text": [
      "(66543, 31)\n"
     ]
    },
    {
     "data": {
      "text/html": [
       "<div>\n",
       "<style scoped>\n",
       "    .dataframe tbody tr th:only-of-type {\n",
       "        vertical-align: middle;\n",
       "    }\n",
       "\n",
       "    .dataframe tbody tr th {\n",
       "        vertical-align: top;\n",
       "    }\n",
       "\n",
       "    .dataframe thead th {\n",
       "        text-align: right;\n",
       "    }\n",
       "</style>\n",
       "<table border=\"1\" class=\"dataframe\">\n",
       "  <thead>\n",
       "    <tr style=\"text-align: right;\">\n",
       "      <th></th>\n",
       "      <th>MA_DIEMDO</th>\n",
       "      <th>START_WEEKDAY</th>\n",
       "      <th>TIME_1</th>\n",
       "      <th>TIME_2</th>\n",
       "      <th>TIME_3</th>\n",
       "      <th>TIME_4</th>\n",
       "      <th>TIME_5</th>\n",
       "      <th>TIME_6</th>\n",
       "      <th>TIME_7</th>\n",
       "      <th>TIME_8</th>\n",
       "      <th>...</th>\n",
       "      <th>TIME_20</th>\n",
       "      <th>TIME_21</th>\n",
       "      <th>TIME_22</th>\n",
       "      <th>TIME_23</th>\n",
       "      <th>TIME_24</th>\n",
       "      <th>TIME_25</th>\n",
       "      <th>TIME_26</th>\n",
       "      <th>TIME_27</th>\n",
       "      <th>TIME_28</th>\n",
       "      <th>IS_FRAUD</th>\n",
       "    </tr>\n",
       "  </thead>\n",
       "  <tbody>\n",
       "    <tr>\n",
       "      <th>0</th>\n",
       "      <td>PP01000100340001</td>\n",
       "      <td>2017-01-02</td>\n",
       "      <td>1.071990</td>\n",
       "      <td>1.071990</td>\n",
       "      <td>0.950588</td>\n",
       "      <td>1.272025</td>\n",
       "      <td>0.521183</td>\n",
       "      <td>0.521183</td>\n",
       "      <td>1.371933</td>\n",
       "      <td>1.025683</td>\n",
       "      <td>...</td>\n",
       "      <td>0.952474</td>\n",
       "      <td>0.503377</td>\n",
       "      <td>0.503377</td>\n",
       "      <td>0.632368</td>\n",
       "      <td>0.632368</td>\n",
       "      <td>0.428766</td>\n",
       "      <td>0.428766</td>\n",
       "      <td>1.130079</td>\n",
       "      <td>0.787332</td>\n",
       "      <td>False</td>\n",
       "    </tr>\n",
       "    <tr>\n",
       "      <th>1</th>\n",
       "      <td>PP01000100340001</td>\n",
       "      <td>2017-01-09</td>\n",
       "      <td>0.763673</td>\n",
       "      <td>0.763673</td>\n",
       "      <td>0.763673</td>\n",
       "      <td>0.763673</td>\n",
       "      <td>0.763673</td>\n",
       "      <td>0.763673</td>\n",
       "      <td>1.522158</td>\n",
       "      <td>0.876736</td>\n",
       "      <td>...</td>\n",
       "      <td>0.880946</td>\n",
       "      <td>0.597618</td>\n",
       "      <td>0.597618</td>\n",
       "      <td>0.867206</td>\n",
       "      <td>2.178154</td>\n",
       "      <td>1.050095</td>\n",
       "      <td>1.050095</td>\n",
       "      <td>0.223318</td>\n",
       "      <td>0.762987</td>\n",
       "      <td>False</td>\n",
       "    </tr>\n",
       "    <tr>\n",
       "      <th>2</th>\n",
       "      <td>PP01000100340001</td>\n",
       "      <td>2017-01-16</td>\n",
       "      <td>0.506998</td>\n",
       "      <td>0.506998</td>\n",
       "      <td>0.897201</td>\n",
       "      <td>0.767088</td>\n",
       "      <td>0.728221</td>\n",
       "      <td>0.728221</td>\n",
       "      <td>0.813047</td>\n",
       "      <td>0.746418</td>\n",
       "      <td>...</td>\n",
       "      <td>0.955296</td>\n",
       "      <td>0.599409</td>\n",
       "      <td>0.599409</td>\n",
       "      <td>0.888135</td>\n",
       "      <td>1.177667</td>\n",
       "      <td>0.640047</td>\n",
       "      <td>0.640047</td>\n",
       "      <td>1.571213</td>\n",
       "      <td>0.766795</td>\n",
       "      <td>False</td>\n",
       "    </tr>\n",
       "    <tr>\n",
       "      <th>3</th>\n",
       "      <td>PP01000100340001</td>\n",
       "      <td>2017-01-23</td>\n",
       "      <td>0.675018</td>\n",
       "      <td>0.675018</td>\n",
       "      <td>1.109636</td>\n",
       "      <td>1.117002</td>\n",
       "      <td>0.570628</td>\n",
       "      <td>0.570628</td>\n",
       "      <td>1.406446</td>\n",
       "      <td>0.836815</td>\n",
       "      <td>...</td>\n",
       "      <td>0.534937</td>\n",
       "      <td>0.986200</td>\n",
       "      <td>0.986200</td>\n",
       "      <td>1.002349</td>\n",
       "      <td>1.075476</td>\n",
       "      <td>0.967791</td>\n",
       "      <td>0.967791</td>\n",
       "      <td>1.493868</td>\n",
       "      <td>0.626669</td>\n",
       "      <td>False</td>\n",
       "    </tr>\n",
       "    <tr>\n",
       "      <th>4</th>\n",
       "      <td>PP01000100340001</td>\n",
       "      <td>2017-01-30</td>\n",
       "      <td>0.811750</td>\n",
       "      <td>0.811750</td>\n",
       "      <td>0.903721</td>\n",
       "      <td>1.238893</td>\n",
       "      <td>0.768862</td>\n",
       "      <td>0.768862</td>\n",
       "      <td>3.122375</td>\n",
       "      <td>1.813596</td>\n",
       "      <td>...</td>\n",
       "      <td>0.782079</td>\n",
       "      <td>0.618889</td>\n",
       "      <td>0.618889</td>\n",
       "      <td>1.766039</td>\n",
       "      <td>1.025119</td>\n",
       "      <td>0.935988</td>\n",
       "      <td>0.935988</td>\n",
       "      <td>1.405387</td>\n",
       "      <td>1.235285</td>\n",
       "      <td>False</td>\n",
       "    </tr>\n",
       "  </tbody>\n",
       "</table>\n",
       "<p>5 rows × 31 columns</p>\n",
       "</div>"
      ],
      "text/plain": [
       "          MA_DIEMDO START_WEEKDAY    TIME_1    TIME_2    TIME_3    TIME_4  \\\n",
       "0  PP01000100340001    2017-01-02  1.071990  1.071990  0.950588  1.272025   \n",
       "1  PP01000100340001    2017-01-09  0.763673  0.763673  0.763673  0.763673   \n",
       "2  PP01000100340001    2017-01-16  0.506998  0.506998  0.897201  0.767088   \n",
       "3  PP01000100340001    2017-01-23  0.675018  0.675018  1.109636  1.117002   \n",
       "4  PP01000100340001    2017-01-30  0.811750  0.811750  0.903721  1.238893   \n",
       "\n",
       "     TIME_5    TIME_6    TIME_7    TIME_8  ...   TIME_20   TIME_21   TIME_22  \\\n",
       "0  0.521183  0.521183  1.371933  1.025683  ...  0.952474  0.503377  0.503377   \n",
       "1  0.763673  0.763673  1.522158  0.876736  ...  0.880946  0.597618  0.597618   \n",
       "2  0.728221  0.728221  0.813047  0.746418  ...  0.955296  0.599409  0.599409   \n",
       "3  0.570628  0.570628  1.406446  0.836815  ...  0.534937  0.986200  0.986200   \n",
       "4  0.768862  0.768862  3.122375  1.813596  ...  0.782079  0.618889  0.618889   \n",
       "\n",
       "    TIME_23   TIME_24   TIME_25   TIME_26   TIME_27   TIME_28  IS_FRAUD  \n",
       "0  0.632368  0.632368  0.428766  0.428766  1.130079  0.787332     False  \n",
       "1  0.867206  2.178154  1.050095  1.050095  0.223318  0.762987     False  \n",
       "2  0.888135  1.177667  0.640047  0.640047  1.571213  0.766795     False  \n",
       "3  1.002349  1.075476  0.967791  0.967791  1.493868  0.626669     False  \n",
       "4  1.766039  1.025119  0.935988  0.935988  1.405387  1.235285     False  \n",
       "\n",
       "[5 rows x 31 columns]"
      ]
     },
     "execution_count": 5,
     "metadata": {},
     "output_type": "execute_result"
    }
   ],
   "source": [
    "print(summary_df.shape)\n",
    "summary_df.head()"
   ]
  },
  {
   "cell_type": "code",
   "execution_count": null,
   "metadata": {},
   "outputs": [],
   "source": []
  },
  {
   "cell_type": "code",
   "execution_count": 6,
   "metadata": {},
   "outputs": [],
   "source": [
    "list_mdd = list(set(summary_df['MA_DIEMDO']))\n",
    "list_fraud_mdd = list(set(summary_df[summary_df['IS_FRAUD'] == True]['MA_DIEMDO']))\n",
    "list_normal_mdd = [_mdd for _mdd in list_mdd if _mdd not in list_fraud_mdd]"
   ]
  },
  {
   "cell_type": "markdown",
   "metadata": {},
   "source": [
    "## Clustering"
   ]
  },
  {
   "cell_type": "code",
   "execution_count": 7,
   "metadata": {},
   "outputs": [
    {
     "name": "stdout",
     "output_type": "stream",
     "text": [
      "Normal :  64922\n",
      "Fraud :  1621\n"
     ]
    }
   ],
   "source": [
    "# Scale Data\n",
    "summary_df = summary_df.sort_values(by=[\"IS_FRAUD\"])\n",
    "normal_df = summary_df[summary_df['IS_FRAUD'] == False]\n",
    "fraud_df = summary_df[summary_df['IS_FRAUD'] == True]\n",
    "print(\"Normal : \", normal_df.shape[0])\n",
    "print(\"Fraud : \", fraud_df.shape[0])"
   ]
  },
  {
   "cell_type": "code",
   "execution_count": 8,
   "metadata": {},
   "outputs": [],
   "source": [
    "X = summary_df.iloc[:, 2:-1].values\n",
    "\n",
    "scaler = StandardScaler()\n",
    "X_scaled = scaler.fit_transform(X)\n",
    "X_scaled = pd.DataFrame(X_scaled)"
   ]
  },
  {
   "cell_type": "code",
   "execution_count": 9,
   "metadata": {},
   "outputs": [],
   "source": [
    "#pca = PCA(n_components = 7)\n",
    "#X_normalized = pca.fit_transform(X_scaled)\n",
    "#X_normalized = pd.DataFrame(X_normalized)"
   ]
  },
  {
   "cell_type": "code",
   "execution_count": 10,
   "metadata": {},
   "outputs": [],
   "source": [
    "X_normalized = X_scaled"
   ]
  },
  {
   "cell_type": "code",
   "execution_count": 11,
   "metadata": {},
   "outputs": [],
   "source": [
    "\n",
    "n_normal = normal_df.shape[0]\n",
    "X_normal = X_normalized.iloc[:n_normal, :]\n",
    "X_fraud = X_normalized.iloc[n_normal:, :]"
   ]
  },
  {
   "cell_type": "code",
   "execution_count": 12,
   "metadata": {},
   "outputs": [],
   "source": [
    "# Split Normal data into Train & Test set\n",
    "X_normal_train = X_normal.sample(frac = 0.5, random_state = 0)\n",
    "X_normal_test = X_normal.drop(X_normal_train.index)"
   ]
  },
  {
   "cell_type": "markdown",
   "metadata": {},
   "source": [
    "## Clean Normal Train Set"
   ]
  },
  {
   "cell_type": "code",
   "execution_count": null,
   "metadata": {},
   "outputs": [],
   "source": [
    "from sklearn.cluster import DBSCAN\n",
    "from collections import Counter"
   ]
  },
  {
   "cell_type": "code",
   "execution_count": null,
   "metadata": {},
   "outputs": [],
   "source": [
    "# DBSCAN\n",
    "eps = 0.625\n",
    "min_samples = 5\n",
    "labels_db = utils_cl._DBSCAN(X_normal_train, eps, min_samples)"
   ]
  },
  {
   "cell_type": "code",
   "execution_count": null,
   "metadata": {},
   "outputs": [],
   "source": [
    "print(Counter(labels_db))"
   ]
  },
  {
   "cell_type": "code",
   "execution_count": 23,
   "metadata": {},
   "outputs": [
    {
     "ename": "AttributeError",
     "evalue": "'DataFrame' object has no attribute 'hea'",
     "output_type": "error",
     "traceback": [
      "\u001b[1;31m---------------------------------------------------------------------------\u001b[0m",
      "\u001b[1;31mAttributeError\u001b[0m                            Traceback (most recent call last)",
      "\u001b[1;32m<ipython-input-23-b8913e72adc9>\u001b[0m in \u001b[0;36m<module>\u001b[1;34m\u001b[0m\n\u001b[1;32m----> 1\u001b[1;33m \u001b[0mX_normal_train\u001b[0m\u001b[1;33m.\u001b[0m\u001b[0mhea\u001b[0m\u001b[1;33m(\u001b[0m\u001b[1;36m5\u001b[0m\u001b[1;33m)\u001b[0m\u001b[1;33m\u001b[0m\u001b[1;33m\u001b[0m\u001b[0m\n\u001b[0m",
      "\u001b[1;32mD:\\Anaconda\\lib\\site-packages\\pandas\\core\\generic.py\u001b[0m in \u001b[0;36m__getattr__\u001b[1;34m(self, name)\u001b[0m\n\u001b[0;32m   5272\u001b[0m             \u001b[1;32mif\u001b[0m \u001b[0mself\u001b[0m\u001b[1;33m.\u001b[0m\u001b[0m_info_axis\u001b[0m\u001b[1;33m.\u001b[0m\u001b[0m_can_hold_identifiers_and_holds_name\u001b[0m\u001b[1;33m(\u001b[0m\u001b[0mname\u001b[0m\u001b[1;33m)\u001b[0m\u001b[1;33m:\u001b[0m\u001b[1;33m\u001b[0m\u001b[1;33m\u001b[0m\u001b[0m\n\u001b[0;32m   5273\u001b[0m                 \u001b[1;32mreturn\u001b[0m \u001b[0mself\u001b[0m\u001b[1;33m[\u001b[0m\u001b[0mname\u001b[0m\u001b[1;33m]\u001b[0m\u001b[1;33m\u001b[0m\u001b[1;33m\u001b[0m\u001b[0m\n\u001b[1;32m-> 5274\u001b[1;33m             \u001b[1;32mreturn\u001b[0m \u001b[0mobject\u001b[0m\u001b[1;33m.\u001b[0m\u001b[0m__getattribute__\u001b[0m\u001b[1;33m(\u001b[0m\u001b[0mself\u001b[0m\u001b[1;33m,\u001b[0m \u001b[0mname\u001b[0m\u001b[1;33m)\u001b[0m\u001b[1;33m\u001b[0m\u001b[1;33m\u001b[0m\u001b[0m\n\u001b[0m\u001b[0;32m   5275\u001b[0m \u001b[1;33m\u001b[0m\u001b[0m\n\u001b[0;32m   5276\u001b[0m     \u001b[1;32mdef\u001b[0m \u001b[0m__setattr__\u001b[0m\u001b[1;33m(\u001b[0m\u001b[0mself\u001b[0m\u001b[1;33m,\u001b[0m \u001b[0mname\u001b[0m\u001b[1;33m:\u001b[0m \u001b[0mstr\u001b[0m\u001b[1;33m,\u001b[0m \u001b[0mvalue\u001b[0m\u001b[1;33m)\u001b[0m \u001b[1;33m->\u001b[0m \u001b[1;32mNone\u001b[0m\u001b[1;33m:\u001b[0m\u001b[1;33m\u001b[0m\u001b[1;33m\u001b[0m\u001b[0m\n",
      "\u001b[1;31mAttributeError\u001b[0m: 'DataFrame' object has no attribute 'hea'"
     ]
    }
   ],
   "source": [
    "X_normal_train.head(5)"
   ]
  },
  {
   "cell_type": "code",
   "execution_count": 31,
   "metadata": {},
   "outputs": [
    {
     "data": {
      "text/html": [
       "<div>\n",
       "<style scoped>\n",
       "    .dataframe tbody tr th:only-of-type {\n",
       "        vertical-align: middle;\n",
       "    }\n",
       "\n",
       "    .dataframe tbody tr th {\n",
       "        vertical-align: top;\n",
       "    }\n",
       "\n",
       "    .dataframe thead th {\n",
       "        text-align: right;\n",
       "    }\n",
       "</style>\n",
       "<table border=\"1\" class=\"dataframe\">\n",
       "  <thead>\n",
       "    <tr style=\"text-align: right;\">\n",
       "      <th></th>\n",
       "      <th>0</th>\n",
       "      <th>1</th>\n",
       "      <th>2</th>\n",
       "      <th>3</th>\n",
       "      <th>4</th>\n",
       "      <th>5</th>\n",
       "      <th>6</th>\n",
       "      <th>7</th>\n",
       "      <th>8</th>\n",
       "      <th>9</th>\n",
       "      <th>...</th>\n",
       "      <th>18</th>\n",
       "      <th>19</th>\n",
       "      <th>20</th>\n",
       "      <th>21</th>\n",
       "      <th>22</th>\n",
       "      <th>23</th>\n",
       "      <th>24</th>\n",
       "      <th>25</th>\n",
       "      <th>26</th>\n",
       "      <th>27</th>\n",
       "    </tr>\n",
       "  </thead>\n",
       "  <tbody>\n",
       "    <tr>\n",
       "      <th>38927</th>\n",
       "      <td>-0.340280</td>\n",
       "      <td>-0.308281</td>\n",
       "      <td>-0.217182</td>\n",
       "      <td>0.419723</td>\n",
       "      <td>-0.270792</td>\n",
       "      <td>-0.289673</td>\n",
       "      <td>-0.270808</td>\n",
       "      <td>0.243766</td>\n",
       "      <td>-0.312018</td>\n",
       "      <td>-0.255458</td>\n",
       "      <td>...</td>\n",
       "      <td>-0.308967</td>\n",
       "      <td>0.464783</td>\n",
       "      <td>-0.355105</td>\n",
       "      <td>-0.238496</td>\n",
       "      <td>-0.263176</td>\n",
       "      <td>0.327523</td>\n",
       "      <td>-0.288701</td>\n",
       "      <td>-0.241108</td>\n",
       "      <td>-0.345594</td>\n",
       "      <td>0.364262</td>\n",
       "    </tr>\n",
       "    <tr>\n",
       "      <th>42250</th>\n",
       "      <td>0.122120</td>\n",
       "      <td>-0.085933</td>\n",
       "      <td>-0.106507</td>\n",
       "      <td>-0.064548</td>\n",
       "      <td>0.688767</td>\n",
       "      <td>-0.164193</td>\n",
       "      <td>-0.188649</td>\n",
       "      <td>0.062968</td>\n",
       "      <td>-0.073762</td>\n",
       "      <td>0.137746</td>\n",
       "      <td>...</td>\n",
       "      <td>0.179758</td>\n",
       "      <td>0.130787</td>\n",
       "      <td>-0.022910</td>\n",
       "      <td>0.143779</td>\n",
       "      <td>0.147992</td>\n",
       "      <td>0.002502</td>\n",
       "      <td>-0.075828</td>\n",
       "      <td>0.055381</td>\n",
       "      <td>0.068145</td>\n",
       "      <td>-0.008436</td>\n",
       "    </tr>\n",
       "    <tr>\n",
       "      <th>21592</th>\n",
       "      <td>-0.410396</td>\n",
       "      <td>-0.260404</td>\n",
       "      <td>-0.343557</td>\n",
       "      <td>-0.289733</td>\n",
       "      <td>-0.347195</td>\n",
       "      <td>-0.284656</td>\n",
       "      <td>-0.041757</td>\n",
       "      <td>-0.455097</td>\n",
       "      <td>-0.202313</td>\n",
       "      <td>-0.270645</td>\n",
       "      <td>...</td>\n",
       "      <td>-0.383848</td>\n",
       "      <td>-0.322600</td>\n",
       "      <td>-0.409851</td>\n",
       "      <td>-0.214818</td>\n",
       "      <td>-0.242461</td>\n",
       "      <td>-0.183339</td>\n",
       "      <td>-0.279159</td>\n",
       "      <td>-0.240776</td>\n",
       "      <td>-0.151004</td>\n",
       "      <td>-0.415721</td>\n",
       "    </tr>\n",
       "    <tr>\n",
       "      <th>21613</th>\n",
       "      <td>-0.286118</td>\n",
       "      <td>-0.122722</td>\n",
       "      <td>-0.145237</td>\n",
       "      <td>-0.156001</td>\n",
       "      <td>-0.317404</td>\n",
       "      <td>-0.361010</td>\n",
       "      <td>-0.376657</td>\n",
       "      <td>-0.325075</td>\n",
       "      <td>-0.107730</td>\n",
       "      <td>-0.187848</td>\n",
       "      <td>...</td>\n",
       "      <td>0.079590</td>\n",
       "      <td>-0.236222</td>\n",
       "      <td>0.045472</td>\n",
       "      <td>-0.027092</td>\n",
       "      <td>-0.107418</td>\n",
       "      <td>-0.072144</td>\n",
       "      <td>-0.045023</td>\n",
       "      <td>-0.056449</td>\n",
       "      <td>-0.076847</td>\n",
       "      <td>0.129110</td>\n",
       "    </tr>\n",
       "    <tr>\n",
       "      <th>1640</th>\n",
       "      <td>-0.650955</td>\n",
       "      <td>-0.532307</td>\n",
       "      <td>-0.570200</td>\n",
       "      <td>-0.599006</td>\n",
       "      <td>-0.675177</td>\n",
       "      <td>-0.530880</td>\n",
       "      <td>-0.575187</td>\n",
       "      <td>-0.610614</td>\n",
       "      <td>-0.689084</td>\n",
       "      <td>-0.513319</td>\n",
       "      <td>...</td>\n",
       "      <td>-0.570720</td>\n",
       "      <td>-0.614303</td>\n",
       "      <td>-0.650148</td>\n",
       "      <td>-0.414585</td>\n",
       "      <td>-0.482906</td>\n",
       "      <td>-0.502405</td>\n",
       "      <td>-0.511407</td>\n",
       "      <td>-0.376775</td>\n",
       "      <td>-0.484247</td>\n",
       "      <td>-0.675873</td>\n",
       "    </tr>\n",
       "  </tbody>\n",
       "</table>\n",
       "<p>5 rows × 28 columns</p>\n",
       "</div>"
      ],
      "text/plain": [
       "             0         1         2         3         4         5         6   \\\n",
       "38927 -0.340280 -0.308281 -0.217182  0.419723 -0.270792 -0.289673 -0.270808   \n",
       "42250  0.122120 -0.085933 -0.106507 -0.064548  0.688767 -0.164193 -0.188649   \n",
       "21592 -0.410396 -0.260404 -0.343557 -0.289733 -0.347195 -0.284656 -0.041757   \n",
       "21613 -0.286118 -0.122722 -0.145237 -0.156001 -0.317404 -0.361010 -0.376657   \n",
       "1640  -0.650955 -0.532307 -0.570200 -0.599006 -0.675177 -0.530880 -0.575187   \n",
       "\n",
       "             7         8         9   ...        18        19        20  \\\n",
       "38927  0.243766 -0.312018 -0.255458  ... -0.308967  0.464783 -0.355105   \n",
       "42250  0.062968 -0.073762  0.137746  ...  0.179758  0.130787 -0.022910   \n",
       "21592 -0.455097 -0.202313 -0.270645  ... -0.383848 -0.322600 -0.409851   \n",
       "21613 -0.325075 -0.107730 -0.187848  ...  0.079590 -0.236222  0.045472   \n",
       "1640  -0.610614 -0.689084 -0.513319  ... -0.570720 -0.614303 -0.650148   \n",
       "\n",
       "             21        22        23        24        25        26        27  \n",
       "38927 -0.238496 -0.263176  0.327523 -0.288701 -0.241108 -0.345594  0.364262  \n",
       "42250  0.143779  0.147992  0.002502 -0.075828  0.055381  0.068145 -0.008436  \n",
       "21592 -0.214818 -0.242461 -0.183339 -0.279159 -0.240776 -0.151004 -0.415721  \n",
       "21613 -0.027092 -0.107418 -0.072144 -0.045023 -0.056449 -0.076847  0.129110  \n",
       "1640  -0.414585 -0.482906 -0.502405 -0.511407 -0.376775 -0.484247 -0.675873  \n",
       "\n",
       "[5 rows x 28 columns]"
      ]
     },
     "execution_count": 31,
     "metadata": {},
     "output_type": "execute_result"
    }
   ],
   "source": [
    "X_normal_train.head()"
   ]
  },
  {
   "cell_type": "code",
   "execution_count": null,
   "metadata": {},
   "outputs": [],
   "source": []
  },
  {
   "cell_type": "code",
   "execution_count": null,
   "metadata": {},
   "outputs": [],
   "source": []
  },
  {
   "cell_type": "code",
   "execution_count": null,
   "metadata": {},
   "outputs": [],
   "source": []
  },
  {
   "cell_type": "code",
   "execution_count": null,
   "metadata": {},
   "outputs": [],
   "source": []
  },
  {
   "cell_type": "code",
   "execution_count": 244,
   "metadata": {},
   "outputs": [],
   "source": [
    "distance_used = utils_cl.distance_ED\n",
    "cluster_number = 3\n",
    "n_iters = 500"
   ]
  },
  {
   "cell_type": "code",
   "execution_count": 245,
   "metadata": {},
   "outputs": [],
   "source": [
    "def AgglomerativeClustering():\n",
    "    distance = \"euclidean\"\n",
    "    from sklearn.cluster import AgglomerativeClustering\n",
    "    distance_used = utils_cl.distance_ED\n",
    "    agg = AgglomerativeClustering(n_clusters=cluster_number, affinitys=distance)\n",
    "    y_agg = agg.fit_predict(X_normal_train)\n",
    "    centroid_sum = np.zeros((cluster_number, X_normal_train.shape[1]))\n",
    "    count_cluster = [0]*cluster_number\n",
    "    for i, j in enumerate(y_agg):\n",
    "        centroid_sum[j] = centroid_sum[j] + np.array(X_normal_train.iloc[i, :])\n",
    "        count_cluster[j] = count_cluster[j] + 1\n",
    "    centroids = [a/b for (a, b) in zip (centroid_sum, count_cluster)]\n",
    "    return y_agg, centroids"
   ]
  },
  {
   "cell_type": "code",
   "execution_count": 246,
   "metadata": {},
   "outputs": [],
   "source": [
    "def K_MeanClustering():\n",
    "    # k-means minimizes within-cluster variance, which equals squared Euclidean distances.\n",
    "    from sklearn.cluster import KMeans\n",
    "    n_cluster = cluster_number\n",
    "    km = KMeans(\n",
    "        n_clusters=n_cluster, init='random',\n",
    "        n_init=10, max_iter=n_iters, \n",
    "        tol=1e-04, random_state=200\n",
    "    )\n",
    "    y_km = km.fit_predict(X_normal_train)\n",
    "    centroids = km.cluster_centers_\n",
    "    return y_km, centroids"
   ]
  },
  {
   "cell_type": "code",
   "execution_count": 247,
   "metadata": {},
   "outputs": [],
   "source": [
    "def K_MedoidsClustering():\n",
    "    # k-medians minimizes absolute deviations, which equals Manhattan distance.\n",
    "    from sklearn_extra.cluster import KMedoids\n",
    "    kmed = KMedoids(n_clusters=cluster_number, random_state=0)\n",
    "    y_kmed = kmed.fit_predict(X_normal_train)\n",
    "    centroids = kmed.cluster_centers_\n",
    "    return y_kmed, centroids"
   ]
  },
  {
   "cell_type": "code",
   "execution_count": 248,
   "metadata": {},
   "outputs": [],
   "source": [
    "def SpectralClustering():\n",
    "    from sklearn.cluster import SpectralClustering    \n",
    "    sc = SpectralClustering(n_clusters=cluster_number, random_state=0)\n",
    "    y_sc = sc.fit_predict(X_normal_train)\n",
    "    \n",
    "    centroid_sum = np.zeros((cluster_number, X_normal_train.shape[1]))\n",
    "    count_cluster = [0]*cluster_number\n",
    "    for i, j in enumerate(y_sc):\n",
    "        centroid_sum[j] = centroid_sum[j] + np.array(X_normal_train.iloc[i, :])\n",
    "        count_cluster[j] = count_cluster[j] + 1\n",
    "    centroids = [a/b for (a, b) in zip (centroid_sum, count_cluster)]\n",
    "    return y_sc, centroids"
   ]
  },
  {
   "cell_type": "code",
   "execution_count": 249,
   "metadata": {},
   "outputs": [],
   "source": [
    "def GaussianMixture():\n",
    "    from sklearn.mixture import GaussianMixture\n",
    "    gm = GaussianMixture(n_components=cluster_number, max_iter=n_iters)\n",
    "    y_gm = gm.fit_predict(X_normal_train)\n",
    "    \n",
    "    centroid_sum = np.zeros((cluster_number, X_normal_train.shape[1]))\n",
    "    count_cluster = [0]*cluster_number\n",
    "    for i, j in enumerate(y_gm):\n",
    "        centroid_sum[j] = centroid_sum[j] + np.array(X_normal_train.iloc[i, :])\n",
    "        count_cluster[j] = count_cluster[j] + 1\n",
    "    centroids = [a/b for (a, b) in zip (centroid_sum, count_cluster)]\n",
    "    return y_gm, centroids\n",
    "    "
   ]
  },
  {
   "cell_type": "code",
   "execution_count": null,
   "metadata": {},
   "outputs": [],
   "source": []
  },
  {
   "cell_type": "code",
   "execution_count": 250,
   "metadata": {},
   "outputs": [],
   "source": [
    "y_predicted, centroids = K_MeanClustering()"
   ]
  },
  {
   "cell_type": "code",
   "execution_count": 251,
   "metadata": {},
   "outputs": [
    {
     "name": "stdout",
     "output_type": "stream",
     "text": [
      "average_radius : [16.608752912365752, 1.260118543821881, 3.2821288230969428]\n",
      "max_radius : [68.95248468049479, 7.111417341539943, 46.89148020098964]\n",
      "quantile_radius : [20.581242189581005, 1.5130638285282747, 3.128718514630948]\n"
     ]
    }
   ],
   "source": [
    "dict_DC = {}\n",
    "for i in range(cluster_number):\n",
    "    dict_DC[i+1] = []\n",
    "    \n",
    "for i, j in enumerate(y_predicted):\n",
    "    dict_DC[j+1].append(distance_used(centroids[j], X_normal_train.iloc[i, :]))\n",
    "    \n",
    "average_radius = []\n",
    "for j in range(cluster_number):\n",
    "    average_radius.append(sum(dict_DC[j+1])/len(dict_DC[j+1]))\n",
    "max_radius = []\n",
    "for j in range(cluster_number):\n",
    "    max_radius.append(max(dict_DC[j+1]))\n",
    "quantile_radius = []\n",
    "percentile = 0.7\n",
    "for j in range(cluster_number):\n",
    "    quantile_radius.append(pd.DataFrame(dict_DC[j+1]).quantile(percentile, axis = 0)[0])\n",
    "print(\"average_radius :\",  average_radius)\n",
    "print(\"max_radius :\",  max_radius)\n",
    "print(\"quantile_radius :\",  quantile_radius)"
   ]
  },
  {
   "cell_type": "code",
   "execution_count": 252,
   "metadata": {},
   "outputs": [],
   "source": [
    "radius_cent = average_radius  "
   ]
  },
  {
   "cell_type": "code",
   "execution_count": 253,
   "metadata": {},
   "outputs": [],
   "source": [
    "# Predicting 2\n",
    "def test_mdd_fraud_2(test_mdd, thresh_KM, radius_cent):\n",
    "    ED_test2c = [distance_used(test_mdd, _cent) for _cent in centroids]\n",
    "    distance_nearest = min(ED_test2c)\n",
    "    cluster_nearest = ED_test2c.index(distance_nearest) + 1\n",
    "    is_fraud = (distance_nearest > radius_cent[cluster_nearest-1] * thresh_KM)\n",
    "    return is_fraud\n",
    "\n",
    "def prediction_result_2(test_set, radius_cent, thresh_KM = 1.0):\n",
    "    total_fraud = 0\n",
    "    N = test_set.shape[0]\n",
    "    for i in range(N):\n",
    "        test_mdd_i = test_set.iloc[i, :]\n",
    "        test_mdd_fraud_res = test_mdd_fraud_2(test_mdd_i, thresh_KM, radius_cent)\n",
    "        if test_mdd_fraud_res:\n",
    "            total_fraud += 1\n",
    "    print(\"Total fraud predicted      : \", total_fraud )\n",
    "    print(\"Total test samples         : \", N)\n",
    "    print(total_fraud/N)\n",
    "    return [total_fraud, N, total_fraud/N]"
   ]
  },
  {
   "cell_type": "markdown",
   "metadata": {},
   "source": [
    "## Pred"
   ]
  },
  {
   "cell_type": "code",
   "execution_count": 254,
   "metadata": {},
   "outputs": [
    {
     "name": "stdout",
     "output_type": "stream",
     "text": [
      "Total fraud predicted      :  1079\n",
      "Total test samples         :  1621\n",
      "0.6656384947563233\n"
     ]
    }
   ],
   "source": [
    "thresh_KM = 1\n",
    "\n",
    "test_set_fraud = X_fraud\n",
    "\n",
    "test_wrong = prediction_result_2(test_set_fraud, radius_cent, thresh_KM)"
   ]
  },
  {
   "cell_type": "code",
   "execution_count": 255,
   "metadata": {},
   "outputs": [
    {
     "name": "stdout",
     "output_type": "stream",
     "text": [
      "Total fraud predicted      :  12896\n",
      "Total test samples         :  32461\n",
      "0.3972767320784942\n"
     ]
    }
   ],
   "source": [
    "thresh_KM = 1\n",
    "\n",
    "test_set_normal = X_normal_test\n",
    "\n",
    "test_wrong = prediction_result_2(test_set_normal, average_radius , thresh_KM)"
   ]
  },
  {
   "cell_type": "code",
   "execution_count": null,
   "metadata": {},
   "outputs": [],
   "source": []
  },
  {
   "cell_type": "markdown",
   "metadata": {},
   "source": [
    "## Tunning Cluster_no & Thresh_TM"
   ]
  },
  {
   "cell_type": "code",
   "execution_count": 194,
   "metadata": {},
   "outputs": [
    {
     "name": "stderr",
     "output_type": "stream",
     "text": [
      "\n",
      "  0%|                                                                                           | 0/13 [00:00<?, ?it/s]\u001b[A\n",
      "\n",
      "  0%|                                                                                            | 0/3 [00:00<?, ?it/s]\u001b[A\u001b[A"
     ]
    },
    {
     "name": "stdout",
     "output_type": "stream",
     "text": [
      "Total fraud predicted      :  1199\n",
      "Total test samples         :  1621\n",
      "0.7396668723010488\n"
     ]
    },
    {
     "name": "stderr",
     "output_type": "stream",
     "text": [
      "\n",
      "\n",
      " 33%|████████████████████████████                                                        | 1/3 [00:05<00:11,  5.97s/it]\u001b[A\u001b[A"
     ]
    },
    {
     "name": "stdout",
     "output_type": "stream",
     "text": [
      "Total fraud predicted      :  15208\n",
      "Total test samples         :  32461\n",
      "0.46850066233326143\n",
      "Total fraud predicted      :  1084\n",
      "Total test samples         :  1621\n",
      "0.6687230104873535\n"
     ]
    },
    {
     "name": "stderr",
     "output_type": "stream",
     "text": [
      "\n",
      "\n",
      " 67%|████████████████████████████████████████████████████████                            | 2/3 [00:12<00:06,  6.03s/it]\u001b[A\u001b[A"
     ]
    },
    {
     "name": "stdout",
     "output_type": "stream",
     "text": [
      "Total fraud predicted      :  12399\n",
      "Total test samples         :  32461\n",
      "0.3819660515695758\n",
      "Total fraud predicted      :  1005\n",
      "Total test samples         :  1621\n",
      "0.6199876619370759\n"
     ]
    },
    {
     "name": "stderr",
     "output_type": "stream",
     "text": [
      "\n",
      "\n",
      "100%|████████████████████████████████████████████████████████████████████████████████████| 3/3 [00:23<00:00,  7.68s/it]\u001b[A\u001b[A\n",
      "\n",
      "  8%|██████▍                                                                            | 1/13 [00:28<05:42, 28.52s/it]\u001b[A"
     ]
    },
    {
     "name": "stdout",
     "output_type": "stream",
     "text": [
      "Total fraud predicted      :  11280\n",
      "Total test samples         :  32461\n",
      "0.3474939157758541\n"
     ]
    },
    {
     "name": "stderr",
     "output_type": "stream",
     "text": [
      "\n",
      "\n",
      "  0%|                                                                                            | 0/3 [00:00<?, ?it/s]\u001b[A\u001b[A"
     ]
    },
    {
     "name": "stdout",
     "output_type": "stream",
     "text": [
      "Total fraud predicted      :  1232\n",
      "Total test samples         :  1621\n",
      "0.7600246761258482\n"
     ]
    },
    {
     "name": "stderr",
     "output_type": "stream",
     "text": [
      "\n",
      "\n",
      " 33%|████████████████████████████                                                        | 1/3 [00:07<00:14,  7.14s/it]\u001b[A\u001b[A"
     ]
    },
    {
     "name": "stdout",
     "output_type": "stream",
     "text": [
      "Total fraud predicted      :  17711\n",
      "Total test samples         :  32461\n",
      "0.5456085764455808\n",
      "Total fraud predicted      :  1160\n",
      "Total test samples         :  1621\n",
      "0.7156076495990129\n"
     ]
    },
    {
     "name": "stderr",
     "output_type": "stream",
     "text": [
      "\n",
      "\n",
      " 67%|████████████████████████████████████████████████████████                            | 2/3 [00:14<00:07,  7.11s/it]\u001b[A\u001b[A"
     ]
    },
    {
     "name": "stdout",
     "output_type": "stream",
     "text": [
      "Total fraud predicted      :  14838\n",
      "Total test samples         :  32461\n",
      "0.45710236899664214\n",
      "Total fraud predicted      :  1115\n",
      "Total test samples         :  1621\n",
      "0.6878470080197409\n"
     ]
    },
    {
     "name": "stderr",
     "output_type": "stream",
     "text": [
      "\n",
      "\n",
      "100%|████████████████████████████████████████████████████████████████████████████████████| 3/3 [00:20<00:00,  6.99s/it]\u001b[A\u001b[A\n",
      "\n",
      " 15%|████████████▊                                                                      | 2/13 [00:57<05:14, 28.60s/it]\u001b[A"
     ]
    },
    {
     "name": "stdout",
     "output_type": "stream",
     "text": [
      "Total fraud predicted      :  13664\n",
      "Total test samples         :  32461\n",
      "0.42093589230153106\n"
     ]
    },
    {
     "name": "stderr",
     "output_type": "stream",
     "text": [
      "\n",
      "\n",
      "  0%|                                                                                            | 0/3 [00:00<?, ?it/s]\u001b[A\u001b[A"
     ]
    },
    {
     "name": "stdout",
     "output_type": "stream",
     "text": [
      "Total fraud predicted      :  1259\n",
      "Total test samples         :  1621\n",
      "0.7766810610734115\n"
     ]
    },
    {
     "name": "stderr",
     "output_type": "stream",
     "text": [
      "\n",
      "\n",
      " 33%|████████████████████████████                                                        | 1/3 [00:07<00:15,  7.70s/it]\u001b[A\u001b[A"
     ]
    },
    {
     "name": "stdout",
     "output_type": "stream",
     "text": [
      "Total fraud predicted      :  18946\n",
      "Total test samples         :  32461\n",
      "0.5836542312313238\n",
      "Total fraud predicted      :  1172\n",
      "Total test samples         :  1621\n",
      "0.7230104873534855\n"
     ]
    },
    {
     "name": "stderr",
     "output_type": "stream",
     "text": [
      "\n",
      "\n",
      " 67%|████████████████████████████████████████████████████████                            | 2/3 [00:19<00:08,  8.90s/it]\u001b[A\u001b[A"
     ]
    },
    {
     "name": "stdout",
     "output_type": "stream",
     "text": [
      "Total fraud predicted      :  15862\n",
      "Total test samples         :  32461\n",
      "0.4886479159606913\n",
      "Total fraud predicted      :  1137\n",
      "Total test samples         :  1621\n",
      "0.7014188772362739\n"
     ]
    },
    {
     "name": "stderr",
     "output_type": "stream",
     "text": [
      "\n",
      "\n",
      "100%|████████████████████████████████████████████████████████████████████████████████████| 3/3 [00:29<00:00,  9.94s/it]\u001b[A\u001b[A\n",
      "\n",
      " 23%|███████████████████▏                                                               | 3/13 [01:33<05:09, 30.95s/it]\u001b[A"
     ]
    },
    {
     "name": "stdout",
     "output_type": "stream",
     "text": [
      "Total fraud predicted      :  14538\n",
      "Total test samples         :  32461\n",
      "0.44786050953451834\n"
     ]
    },
    {
     "name": "stderr",
     "output_type": "stream",
     "text": [
      "\n",
      "\n",
      "  0%|                                                                                            | 0/3 [00:00<?, ?it/s]\u001b[A\u001b[A"
     ]
    },
    {
     "name": "stdout",
     "output_type": "stream",
     "text": [
      "Total fraud predicted      :  1255\n",
      "Total test samples         :  1621\n",
      "0.7742134484885873\n"
     ]
    },
    {
     "name": "stderr",
     "output_type": "stream",
     "text": [
      "\n",
      "\n",
      " 33%|████████████████████████████                                                        | 1/3 [00:09<00:19,  9.88s/it]\u001b[A\u001b[A"
     ]
    },
    {
     "name": "stdout",
     "output_type": "stream",
     "text": [
      "Total fraud predicted      :  18937\n",
      "Total test samples         :  32461\n",
      "0.58337697544746\n",
      "Total fraud predicted      :  1167\n",
      "Total test samples         :  1621\n",
      "0.7199259716224553\n"
     ]
    },
    {
     "name": "stderr",
     "output_type": "stream",
     "text": [
      "\n",
      "\n",
      " 67%|████████████████████████████████████████████████████████                            | 2/3 [00:19<00:09,  9.70s/it]\u001b[A\u001b[A"
     ]
    },
    {
     "name": "stdout",
     "output_type": "stream",
     "text": [
      "Total fraud predicted      :  15826\n",
      "Total test samples         :  32461\n",
      "0.48753889282523644\n",
      "Total fraud predicted      :  1131\n",
      "Total test samples         :  1621\n",
      "0.6977174583590376\n"
     ]
    },
    {
     "name": "stderr",
     "output_type": "stream",
     "text": [
      "\n",
      "\n",
      "100%|████████████████████████████████████████████████████████████████████████████████████| 3/3 [00:28<00:00,  9.47s/it]\u001b[A\u001b[A\n",
      "\n",
      " 31%|█████████████████████████▌                                                         | 4/13 [02:13<05:03, 33.71s/it]\u001b[A"
     ]
    },
    {
     "name": "stdout",
     "output_type": "stream",
     "text": [
      "Total fraud predicted      :  14506\n",
      "Total test samples         :  32461\n",
      "0.4468747111918918\n"
     ]
    },
    {
     "name": "stderr",
     "output_type": "stream",
     "text": [
      "\n",
      "\n",
      "  0%|                                                                                            | 0/3 [00:00<?, ?it/s]\u001b[A\u001b[A"
     ]
    },
    {
     "name": "stdout",
     "output_type": "stream",
     "text": [
      "Total fraud predicted      :  1264\n",
      "Total test samples         :  1621\n",
      "0.7797655768044417\n"
     ]
    },
    {
     "name": "stderr",
     "output_type": "stream",
     "text": [
      "\n",
      "\n",
      " 33%|████████████████████████████                                                        | 1/3 [00:10<00:20, 10.35s/it]\u001b[A\u001b[A"
     ]
    },
    {
     "name": "stdout",
     "output_type": "stream",
     "text": [
      "Total fraud predicted      :  19030\n",
      "Total test samples         :  32461\n",
      "0.5862419518807184\n",
      "Total fraud predicted      :  1187\n",
      "Total test samples         :  1621\n",
      "0.7322640345465762\n"
     ]
    },
    {
     "name": "stderr",
     "output_type": "stream",
     "text": [
      "\n",
      "\n",
      " 67%|████████████████████████████████████████████████████████                            | 2/3 [00:20<00:10, 10.26s/it]\u001b[A\u001b[A"
     ]
    },
    {
     "name": "stdout",
     "output_type": "stream",
     "text": [
      "Total fraud predicted      :  15965\n",
      "Total test samples         :  32461\n",
      "0.49182095437602047\n",
      "Total fraud predicted      :  1149\n",
      "Total test samples         :  1621\n",
      "0.7088217149907464\n"
     ]
    },
    {
     "name": "stderr",
     "output_type": "stream",
     "text": [
      "\n",
      "\n",
      "100%|████████████████████████████████████████████████████████████████████████████████████| 3/3 [00:30<00:00, 10.16s/it]\u001b[A\u001b[A\n",
      "\n",
      " 38%|███████████████████████████████▉                                                   | 5/13 [02:57<04:52, 36.57s/it]\u001b[A"
     ]
    },
    {
     "name": "stdout",
     "output_type": "stream",
     "text": [
      "Total fraud predicted      :  14609\n",
      "Total test samples         :  32461\n",
      "0.450047749607221\n"
     ]
    },
    {
     "name": "stderr",
     "output_type": "stream",
     "text": [
      "\n",
      "\n",
      "  0%|                                                                                            | 0/3 [00:00<?, ?it/s]\u001b[A\u001b[A"
     ]
    },
    {
     "name": "stdout",
     "output_type": "stream",
     "text": [
      "Total fraud predicted      :  1322\n",
      "Total test samples         :  1621\n",
      "0.8155459592843923\n"
     ]
    },
    {
     "name": "stderr",
     "output_type": "stream",
     "text": [
      "\n",
      "\n",
      " 33%|████████████████████████████                                                        | 1/3 [00:11<00:22, 11.39s/it]\u001b[A\u001b[A"
     ]
    },
    {
     "name": "stdout",
     "output_type": "stream",
     "text": [
      "Total fraud predicted      :  19778\n",
      "Total test samples         :  32461\n",
      "0.6092849881396137\n",
      "Total fraud predicted      :  1231\n",
      "Total test samples         :  1621\n",
      "0.7594077729796422\n"
     ]
    },
    {
     "name": "stderr",
     "output_type": "stream",
     "text": [
      "\n",
      "\n",
      " 67%|████████████████████████████████████████████████████████                            | 2/3 [00:22<00:11, 11.31s/it]\u001b[A\u001b[A"
     ]
    },
    {
     "name": "stdout",
     "output_type": "stream",
     "text": [
      "Total fraud predicted      :  16454\n",
      "Total test samples         :  32461\n",
      "0.5068851852992822\n",
      "Total fraud predicted      :  1176\n",
      "Total test samples         :  1621\n",
      "0.7254780999383097\n"
     ]
    },
    {
     "name": "stderr",
     "output_type": "stream",
     "text": [
      "\n",
      "\n",
      "100%|████████████████████████████████████████████████████████████████████████████████████| 3/3 [00:36<00:00, 12.04s/it]\u001b[A\u001b[A\n",
      "\n",
      " 46%|██████████████████████████████████████▎                                            | 6/13 [03:44<04:39, 39.94s/it]\u001b[A"
     ]
    },
    {
     "name": "stdout",
     "output_type": "stream",
     "text": [
      "Total fraud predicted      :  14893\n",
      "Total test samples         :  32461\n",
      "0.4587967098980315\n"
     ]
    },
    {
     "name": "stderr",
     "output_type": "stream",
     "text": [
      "\n",
      "\n",
      "  0%|                                                                                            | 0/3 [00:00<?, ?it/s]\u001b[A\u001b[A"
     ]
    },
    {
     "name": "stdout",
     "output_type": "stream",
     "text": [
      "Total fraud predicted      :  1325\n",
      "Total test samples         :  1621\n",
      "0.8173966687230105\n"
     ]
    },
    {
     "name": "stderr",
     "output_type": "stream",
     "text": [
      "\n",
      "\n",
      " 33%|████████████████████████████                                                        | 1/3 [00:13<00:26, 13.44s/it]\u001b[A\u001b[A"
     ]
    },
    {
     "name": "stdout",
     "output_type": "stream",
     "text": [
      "Total fraud predicted      :  19870\n",
      "Total test samples         :  32461\n",
      "0.612119158374665\n",
      "Total fraud predicted      :  1244\n",
      "Total test samples         :  1621\n",
      "0.7674275138803208\n"
     ]
    },
    {
     "name": "stderr",
     "output_type": "stream",
     "text": [
      "\n",
      "\n",
      " 67%|████████████████████████████████████████████████████████                            | 2/3 [00:27<00:13, 13.76s/it]\u001b[A\u001b[A"
     ]
    },
    {
     "name": "stdout",
     "output_type": "stream",
     "text": [
      "Total fraud predicted      :  16465\n",
      "Total test samples         :  32461\n",
      "0.5072240534795601\n",
      "Total fraud predicted      :  1201\n",
      "Total test samples         :  1621\n",
      "0.7409006785934609\n"
     ]
    },
    {
     "name": "stderr",
     "output_type": "stream",
     "text": [
      "\n",
      "\n",
      "100%|████████████████████████████████████████████████████████████████████████████████████| 3/3 [00:40<00:00, 13.43s/it]\u001b[A\u001b[A\n",
      "\n",
      " 54%|████████████████████████████████████████████▋                                      | 7/13 [04:41<04:28, 44.78s/it]\u001b[A"
     ]
    },
    {
     "name": "stdout",
     "output_type": "stream",
     "text": [
      "Total fraud predicted      :  14977\n",
      "Total test samples         :  32461\n",
      "0.4613844305474261\n"
     ]
    },
    {
     "name": "stderr",
     "output_type": "stream",
     "text": [
      "\n",
      "\n",
      "  0%|                                                                                            | 0/3 [00:00<?, ?it/s]\u001b[A\u001b[A"
     ]
    },
    {
     "name": "stdout",
     "output_type": "stream",
     "text": [
      "Total fraud predicted      :  1290\n",
      "Total test samples         :  1621\n",
      "0.7958050586057989\n"
     ]
    },
    {
     "name": "stderr",
     "output_type": "stream",
     "text": [
      "\n",
      "\n",
      " 33%|████████████████████████████                                                        | 1/3 [00:12<00:25, 12.97s/it]\u001b[A\u001b[A"
     ]
    },
    {
     "name": "stdout",
     "output_type": "stream",
     "text": [
      "Total fraud predicted      :  20210\n",
      "Total test samples         :  32461\n",
      "0.6225932657650719\n",
      "Total fraud predicted      :  1226\n",
      "Total test samples         :  1621\n",
      "0.7563232572486119\n"
     ]
    },
    {
     "name": "stderr",
     "output_type": "stream",
     "text": [
      "\n",
      "\n",
      " 67%|████████████████████████████████████████████████████████                            | 2/3 [00:26<00:13, 13.13s/it]\u001b[A\u001b[A"
     ]
    },
    {
     "name": "stdout",
     "output_type": "stream",
     "text": [
      "Total fraud predicted      :  16701\n",
      "Total test samples         :  32461\n",
      "0.5144943162564308\n",
      "Total fraud predicted      :  1174\n",
      "Total test samples         :  1621\n",
      "0.7242442936458976\n"
     ]
    },
    {
     "name": "stderr",
     "output_type": "stream",
     "text": [
      "\n",
      "\n",
      "100%|████████████████████████████████████████████████████████████████████████████████████| 3/3 [00:39<00:00, 13.09s/it]\u001b[A\u001b[A\n",
      "\n",
      " 62%|███████████████████████████████████████████████████                                | 8/13 [05:36<04:00, 48.03s/it]\u001b[A"
     ]
    },
    {
     "name": "stdout",
     "output_type": "stream",
     "text": [
      "Total fraud predicted      :  15065\n",
      "Total test samples         :  32461\n",
      "0.4640953759896491\n"
     ]
    },
    {
     "name": "stderr",
     "output_type": "stream",
     "text": [
      "\n",
      "\n",
      "  0%|                                                                                            | 0/3 [00:00<?, ?it/s]\u001b[A\u001b[A"
     ]
    },
    {
     "name": "stdout",
     "output_type": "stream",
     "text": [
      "Total fraud predicted      :  1271\n",
      "Total test samples         :  1621\n",
      "0.784083898827884\n"
     ]
    },
    {
     "name": "stderr",
     "output_type": "stream",
     "text": [
      "\n",
      "\n",
      " 33%|████████████████████████████                                                        | 1/3 [00:14<00:28, 14.45s/it]\u001b[A\u001b[A"
     ]
    },
    {
     "name": "stdout",
     "output_type": "stream",
     "text": [
      "Total fraud predicted      :  20271\n",
      "Total test samples         :  32461\n",
      "0.6244724438557038\n",
      "Total fraud predicted      :  1206\n",
      "Total test samples         :  1621\n",
      "0.7439851943244911\n"
     ]
    },
    {
     "name": "stderr",
     "output_type": "stream",
     "text": [
      "\n",
      "\n",
      " 67%|████████████████████████████████████████████████████████                            | 2/3 [00:28<00:14, 14.46s/it]\u001b[A\u001b[A"
     ]
    },
    {
     "name": "stdout",
     "output_type": "stream",
     "text": [
      "Total fraud predicted      :  16672\n",
      "Total test samples         :  32461\n",
      "0.5136009365084255\n",
      "Total fraud predicted      :  1169\n",
      "Total test samples         :  1621\n",
      "0.7211597779148674\n"
     ]
    },
    {
     "name": "stderr",
     "output_type": "stream",
     "text": [
      "\n",
      "\n",
      "100%|████████████████████████████████████████████████████████████████████████████████████| 3/3 [00:42<00:00, 14.20s/it]\u001b[A\u001b[A\n",
      "\n",
      " 69%|█████████████████████████████████████████████████████████▍                         | 9/13 [06:37<03:27, 51.77s/it]\u001b[A"
     ]
    },
    {
     "name": "stdout",
     "output_type": "stream",
     "text": [
      "Total fraud predicted      :  15022\n",
      "Total test samples         :  32461\n",
      "0.4627707094667447\n"
     ]
    },
    {
     "name": "stderr",
     "output_type": "stream",
     "text": [
      "\n",
      "\n",
      "  0%|                                                                                            | 0/3 [00:00<?, ?it/s]\u001b[A\u001b[A"
     ]
    },
    {
     "name": "stdout",
     "output_type": "stream",
     "text": [
      "Total fraud predicted      :  1274\n",
      "Total test samples         :  1621\n",
      "0.7859346082665022\n"
     ]
    },
    {
     "name": "stderr",
     "output_type": "stream",
     "text": [
      "\n",
      "\n",
      " 33%|████████████████████████████                                                        | 1/3 [00:14<00:28, 14.05s/it]\u001b[A\u001b[A"
     ]
    },
    {
     "name": "stdout",
     "output_type": "stream",
     "text": [
      "Total fraud predicted      :  20363\n",
      "Total test samples         :  32461\n",
      "0.627306614090755\n",
      "Total fraud predicted      :  1198\n",
      "Total test samples         :  1621\n",
      "0.7390499691548427\n"
     ]
    },
    {
     "name": "stderr",
     "output_type": "stream",
     "text": [
      "\n",
      "\n",
      " 67%|████████████████████████████████████████████████████████                            | 2/3 [00:28<00:14, 14.07s/it]\u001b[A\u001b[A"
     ]
    },
    {
     "name": "stdout",
     "output_type": "stream",
     "text": [
      "Total fraud predicted      :  16694\n",
      "Total test samples         :  32461\n",
      "0.5142786728689812\n",
      "Total fraud predicted      :  1165\n",
      "Total test samples         :  1621\n",
      "0.7186921653300432\n"
     ]
    },
    {
     "name": "stderr",
     "output_type": "stream",
     "text": [
      "\n",
      "\n",
      "100%|████████████████████████████████████████████████████████████████████████████████████| 3/3 [00:42<00:00, 14.04s/it]\u001b[A\u001b[A\n",
      "\n",
      " 77%|███████████████████████████████████████████████████████████████                   | 10/13 [07:37<02:43, 54.48s/it]\u001b[A"
     ]
    },
    {
     "name": "stdout",
     "output_type": "stream",
     "text": [
      "Total fraud predicted      :  15052\n",
      "Total test samples         :  32461\n",
      "0.4636948954129571\n"
     ]
    },
    {
     "name": "stderr",
     "output_type": "stream",
     "text": [
      "\n",
      "\n",
      "  0%|                                                                                            | 0/3 [00:00<?, ?it/s]\u001b[A\u001b[A"
     ]
    },
    {
     "name": "stdout",
     "output_type": "stream",
     "text": [
      "Total fraud predicted      :  1287\n",
      "Total test samples         :  1621\n",
      "0.7939543491671808\n"
     ]
    },
    {
     "name": "stderr",
     "output_type": "stream",
     "text": [
      "\n",
      "\n",
      " 33%|████████████████████████████                                                        | 1/3 [00:15<00:31, 15.84s/it]\u001b[A\u001b[A"
     ]
    },
    {
     "name": "stdout",
     "output_type": "stream",
     "text": [
      "Total fraud predicted      :  20444\n",
      "Total test samples         :  32461\n",
      "0.6298019161455285\n",
      "Total fraud predicted      :  1209\n",
      "Total test samples         :  1621\n",
      "0.7458359037631092\n"
     ]
    },
    {
     "name": "stderr",
     "output_type": "stream",
     "text": [
      "\n",
      "\n",
      " 67%|████████████████████████████████████████████████████████                            | 2/3 [00:33<00:16, 16.33s/it]\u001b[A\u001b[A"
     ]
    },
    {
     "name": "stdout",
     "output_type": "stream",
     "text": [
      "Total fraud predicted      :  16679\n",
      "Total test samples         :  32461\n",
      "0.513816579895875\n",
      "Total fraud predicted      :  1177\n",
      "Total test samples         :  1621\n",
      "0.7260950030845157\n"
     ]
    },
    {
     "name": "stderr",
     "output_type": "stream",
     "text": [
      "\n",
      "\n",
      "100%|████████████████████████████████████████████████████████████████████████████████████| 3/3 [00:51<00:00, 17.05s/it]\u001b[A\u001b[A\n",
      "\n",
      " 85%|█████████████████████████████████████████████████████████████████████▍            | 11/13 [08:48<01:58, 59.44s/it]\u001b[A"
     ]
    },
    {
     "name": "stdout",
     "output_type": "stream",
     "text": [
      "Total fraud predicted      :  14968\n",
      "Total test samples         :  32461\n",
      "0.46110717476356244\n"
     ]
    },
    {
     "name": "stderr",
     "output_type": "stream",
     "text": [
      "\n",
      "\n",
      "  0%|                                                                                            | 0/3 [00:00<?, ?it/s]\u001b[A\u001b[A"
     ]
    },
    {
     "name": "stdout",
     "output_type": "stream",
     "text": [
      "Total fraud predicted      :  1295\n",
      "Total test samples         :  1621\n",
      "0.7988895743368292\n"
     ]
    },
    {
     "name": "stderr",
     "output_type": "stream",
     "text": [
      "  0%|                                                                                            | 0/3 [00:01<?, ?it/s]\n"
     ]
    },
    {
     "ename": "KeyboardInterrupt",
     "evalue": "",
     "output_type": "error",
     "traceback": [
      "\u001b[1;31m---------------------------------------------------------------------------\u001b[0m",
      "\u001b[1;31mKeyboardInterrupt\u001b[0m                         Traceback (most recent call last)",
      "\u001b[1;32m<ipython-input-194-1c46bee0345a>\u001b[0m in \u001b[0;36m<module>\u001b[1;34m\u001b[0m\n\u001b[0;32m     23\u001b[0m     \u001b[1;32mfor\u001b[0m \u001b[0mthresh_KM\u001b[0m \u001b[1;32min\u001b[0m \u001b[0mtqdm\u001b[0m\u001b[1;33m(\u001b[0m\u001b[0mthres_no\u001b[0m\u001b[1;33m)\u001b[0m \u001b[1;33m:\u001b[0m\u001b[1;33m\u001b[0m\u001b[1;33m\u001b[0m\u001b[0m\n\u001b[0;32m     24\u001b[0m         \u001b[0mtest_wrong1\u001b[0m \u001b[1;33m=\u001b[0m \u001b[0mprediction_result_2\u001b[0m\u001b[1;33m(\u001b[0m\u001b[0mtest_set_fraud\u001b[0m\u001b[1;33m,\u001b[0m \u001b[0mradius_cent\u001b[0m\u001b[1;33m,\u001b[0m \u001b[0mthresh_KM\u001b[0m\u001b[1;33m)\u001b[0m\u001b[1;33m\u001b[0m\u001b[1;33m\u001b[0m\u001b[0m\n\u001b[1;32m---> 25\u001b[1;33m         \u001b[0mtest_wrong2\u001b[0m \u001b[1;33m=\u001b[0m \u001b[0mprediction_result_2\u001b[0m\u001b[1;33m(\u001b[0m\u001b[0mtest_set_normal\u001b[0m\u001b[1;33m,\u001b[0m \u001b[0mradius_cent\u001b[0m\u001b[1;33m,\u001b[0m \u001b[0mthresh_KM\u001b[0m\u001b[1;33m)\u001b[0m\u001b[1;33m\u001b[0m\u001b[1;33m\u001b[0m\u001b[0m\n\u001b[0m\u001b[0;32m     26\u001b[0m         \u001b[0mtest_wrong1\u001b[0m \u001b[1;33m=\u001b[0m \u001b[1;33m[\u001b[0m\u001b[1;33m(\u001b[0m\u001b[0mn_cluster\u001b[0m\u001b[1;33m,\u001b[0m \u001b[0mthresh_KM\u001b[0m\u001b[1;33m)\u001b[0m\u001b[1;33m]\u001b[0m \u001b[1;33m+\u001b[0m \u001b[0mtest_wrong1\u001b[0m\u001b[1;33m\u001b[0m\u001b[1;33m\u001b[0m\u001b[0m\n\u001b[0;32m     27\u001b[0m         \u001b[0mtest_wrong2\u001b[0m \u001b[1;33m=\u001b[0m \u001b[1;33m[\u001b[0m\u001b[1;33m(\u001b[0m\u001b[0mn_cluster\u001b[0m\u001b[1;33m,\u001b[0m \u001b[0mthresh_KM\u001b[0m\u001b[1;33m)\u001b[0m\u001b[1;33m]\u001b[0m \u001b[1;33m+\u001b[0m \u001b[0mtest_wrong2\u001b[0m\u001b[1;33m\u001b[0m\u001b[1;33m\u001b[0m\u001b[0m\n",
      "\u001b[1;32m<ipython-input-187-3079c1aa5f15>\u001b[0m in \u001b[0;36mprediction_result_2\u001b[1;34m(test_set, radius_cent, thresh_KM)\u001b[0m\n\u001b[0;32m     11\u001b[0m     \u001b[0mN\u001b[0m \u001b[1;33m=\u001b[0m \u001b[0mtest_set\u001b[0m\u001b[1;33m.\u001b[0m\u001b[0mshape\u001b[0m\u001b[1;33m[\u001b[0m\u001b[1;36m0\u001b[0m\u001b[1;33m]\u001b[0m\u001b[1;33m\u001b[0m\u001b[1;33m\u001b[0m\u001b[0m\n\u001b[0;32m     12\u001b[0m     \u001b[1;32mfor\u001b[0m \u001b[0mi\u001b[0m \u001b[1;32min\u001b[0m \u001b[0mrange\u001b[0m\u001b[1;33m(\u001b[0m\u001b[0mN\u001b[0m\u001b[1;33m)\u001b[0m\u001b[1;33m:\u001b[0m\u001b[1;33m\u001b[0m\u001b[1;33m\u001b[0m\u001b[0m\n\u001b[1;32m---> 13\u001b[1;33m         \u001b[0mtest_mdd_i\u001b[0m \u001b[1;33m=\u001b[0m \u001b[0mtest_set\u001b[0m\u001b[1;33m.\u001b[0m\u001b[0miloc\u001b[0m\u001b[1;33m[\u001b[0m\u001b[0mi\u001b[0m\u001b[1;33m,\u001b[0m \u001b[1;33m:\u001b[0m\u001b[1;33m]\u001b[0m\u001b[1;33m\u001b[0m\u001b[1;33m\u001b[0m\u001b[0m\n\u001b[0m\u001b[0;32m     14\u001b[0m         \u001b[0mtest_mdd_fraud_res\u001b[0m \u001b[1;33m=\u001b[0m \u001b[0mtest_mdd_fraud_2\u001b[0m\u001b[1;33m(\u001b[0m\u001b[0mtest_mdd_i\u001b[0m\u001b[1;33m,\u001b[0m \u001b[0mthresh_KM\u001b[0m\u001b[1;33m,\u001b[0m \u001b[0mradius_cent\u001b[0m\u001b[1;33m)\u001b[0m\u001b[1;33m\u001b[0m\u001b[1;33m\u001b[0m\u001b[0m\n\u001b[0;32m     15\u001b[0m         \u001b[1;32mif\u001b[0m \u001b[0mtest_mdd_fraud_res\u001b[0m\u001b[1;33m:\u001b[0m\u001b[1;33m\u001b[0m\u001b[1;33m\u001b[0m\u001b[0m\n",
      "\u001b[1;32mD:\\Anaconda\\lib\\site-packages\\pandas\\core\\indexing.py\u001b[0m in \u001b[0;36m__getitem__\u001b[1;34m(self, key)\u001b[0m\n\u001b[0;32m   1759\u001b[0m                 \u001b[1;32mexcept\u001b[0m \u001b[1;33m(\u001b[0m\u001b[0mKeyError\u001b[0m\u001b[1;33m,\u001b[0m \u001b[0mIndexError\u001b[0m\u001b[1;33m,\u001b[0m \u001b[0mAttributeError\u001b[0m\u001b[1;33m)\u001b[0m\u001b[1;33m:\u001b[0m\u001b[1;33m\u001b[0m\u001b[1;33m\u001b[0m\u001b[0m\n\u001b[0;32m   1760\u001b[0m                     \u001b[1;32mpass\u001b[0m\u001b[1;33m\u001b[0m\u001b[1;33m\u001b[0m\u001b[0m\n\u001b[1;32m-> 1761\u001b[1;33m             \u001b[1;32mreturn\u001b[0m \u001b[0mself\u001b[0m\u001b[1;33m.\u001b[0m\u001b[0m_getitem_tuple\u001b[0m\u001b[1;33m(\u001b[0m\u001b[0mkey\u001b[0m\u001b[1;33m)\u001b[0m\u001b[1;33m\u001b[0m\u001b[1;33m\u001b[0m\u001b[0m\n\u001b[0m\u001b[0;32m   1762\u001b[0m         \u001b[1;32melse\u001b[0m\u001b[1;33m:\u001b[0m\u001b[1;33m\u001b[0m\u001b[1;33m\u001b[0m\u001b[0m\n\u001b[0;32m   1763\u001b[0m             \u001b[1;31m# we by definition only have the 0th axis\u001b[0m\u001b[1;33m\u001b[0m\u001b[1;33m\u001b[0m\u001b[1;33m\u001b[0m\u001b[0m\n",
      "\u001b[1;32mD:\\Anaconda\\lib\\site-packages\\pandas\\core\\indexing.py\u001b[0m in \u001b[0;36m_getitem_tuple\u001b[1;34m(self, tup)\u001b[0m\n\u001b[0;32m   2066\u001b[0m         \u001b[0mself\u001b[0m\u001b[1;33m.\u001b[0m\u001b[0m_has_valid_tuple\u001b[0m\u001b[1;33m(\u001b[0m\u001b[0mtup\u001b[0m\u001b[1;33m)\u001b[0m\u001b[1;33m\u001b[0m\u001b[1;33m\u001b[0m\u001b[0m\n\u001b[0;32m   2067\u001b[0m         \u001b[1;32mtry\u001b[0m\u001b[1;33m:\u001b[0m\u001b[1;33m\u001b[0m\u001b[1;33m\u001b[0m\u001b[0m\n\u001b[1;32m-> 2068\u001b[1;33m             \u001b[1;32mreturn\u001b[0m \u001b[0mself\u001b[0m\u001b[1;33m.\u001b[0m\u001b[0m_getitem_lowerdim\u001b[0m\u001b[1;33m(\u001b[0m\u001b[0mtup\u001b[0m\u001b[1;33m)\u001b[0m\u001b[1;33m\u001b[0m\u001b[1;33m\u001b[0m\u001b[0m\n\u001b[0m\u001b[0;32m   2069\u001b[0m         \u001b[1;32mexcept\u001b[0m \u001b[0mIndexingError\u001b[0m\u001b[1;33m:\u001b[0m\u001b[1;33m\u001b[0m\u001b[1;33m\u001b[0m\u001b[0m\n\u001b[0;32m   2070\u001b[0m             \u001b[1;32mpass\u001b[0m\u001b[1;33m\u001b[0m\u001b[1;33m\u001b[0m\u001b[0m\n",
      "\u001b[1;32mD:\\Anaconda\\lib\\site-packages\\pandas\\core\\indexing.py\u001b[0m in \u001b[0;36m_getitem_lowerdim\u001b[1;34m(self, tup)\u001b[0m\n\u001b[0;32m   1386\u001b[0m         \u001b[1;32mfor\u001b[0m \u001b[0mi\u001b[0m\u001b[1;33m,\u001b[0m \u001b[0mkey\u001b[0m \u001b[1;32min\u001b[0m \u001b[0menumerate\u001b[0m\u001b[1;33m(\u001b[0m\u001b[0mtup\u001b[0m\u001b[1;33m)\u001b[0m\u001b[1;33m:\u001b[0m\u001b[1;33m\u001b[0m\u001b[1;33m\u001b[0m\u001b[0m\n\u001b[0;32m   1387\u001b[0m             \u001b[1;32mif\u001b[0m \u001b[0mis_label_like\u001b[0m\u001b[1;33m(\u001b[0m\u001b[0mkey\u001b[0m\u001b[1;33m)\u001b[0m \u001b[1;32mor\u001b[0m \u001b[0misinstance\u001b[0m\u001b[1;33m(\u001b[0m\u001b[0mkey\u001b[0m\u001b[1;33m,\u001b[0m \u001b[0mtuple\u001b[0m\u001b[1;33m)\u001b[0m\u001b[1;33m:\u001b[0m\u001b[1;33m\u001b[0m\u001b[1;33m\u001b[0m\u001b[0m\n\u001b[1;32m-> 1388\u001b[1;33m                 \u001b[0msection\u001b[0m \u001b[1;33m=\u001b[0m \u001b[0mself\u001b[0m\u001b[1;33m.\u001b[0m\u001b[0m_getitem_axis\u001b[0m\u001b[1;33m(\u001b[0m\u001b[0mkey\u001b[0m\u001b[1;33m,\u001b[0m \u001b[0maxis\u001b[0m\u001b[1;33m=\u001b[0m\u001b[0mi\u001b[0m\u001b[1;33m)\u001b[0m\u001b[1;33m\u001b[0m\u001b[1;33m\u001b[0m\u001b[0m\n\u001b[0m\u001b[0;32m   1389\u001b[0m \u001b[1;33m\u001b[0m\u001b[0m\n\u001b[0;32m   1390\u001b[0m                 \u001b[1;31m# we have yielded a scalar ?\u001b[0m\u001b[1;33m\u001b[0m\u001b[1;33m\u001b[0m\u001b[1;33m\u001b[0m\u001b[0m\n",
      "\u001b[1;32mD:\\Anaconda\\lib\\site-packages\\pandas\\core\\indexing.py\u001b[0m in \u001b[0;36m_getitem_axis\u001b[1;34m(self, key, axis)\u001b[0m\n\u001b[0;32m   2137\u001b[0m             \u001b[0mself\u001b[0m\u001b[1;33m.\u001b[0m\u001b[0m_validate_integer\u001b[0m\u001b[1;33m(\u001b[0m\u001b[0mkey\u001b[0m\u001b[1;33m,\u001b[0m \u001b[0maxis\u001b[0m\u001b[1;33m)\u001b[0m\u001b[1;33m\u001b[0m\u001b[1;33m\u001b[0m\u001b[0m\n\u001b[0;32m   2138\u001b[0m \u001b[1;33m\u001b[0m\u001b[0m\n\u001b[1;32m-> 2139\u001b[1;33m             \u001b[1;32mreturn\u001b[0m \u001b[0mself\u001b[0m\u001b[1;33m.\u001b[0m\u001b[0m_get_loc\u001b[0m\u001b[1;33m(\u001b[0m\u001b[0mkey\u001b[0m\u001b[1;33m,\u001b[0m \u001b[0maxis\u001b[0m\u001b[1;33m=\u001b[0m\u001b[0maxis\u001b[0m\u001b[1;33m)\u001b[0m\u001b[1;33m\u001b[0m\u001b[1;33m\u001b[0m\u001b[0m\n\u001b[0m\u001b[0;32m   2140\u001b[0m \u001b[1;33m\u001b[0m\u001b[0m\n\u001b[0;32m   2141\u001b[0m     \u001b[1;31m# raise_missing is included for compat with the parent class signature\u001b[0m\u001b[1;33m\u001b[0m\u001b[1;33m\u001b[0m\u001b[1;33m\u001b[0m\u001b[0m\n",
      "\u001b[1;32mD:\\Anaconda\\lib\\site-packages\\pandas\\core\\indexing.py\u001b[0m in \u001b[0;36m_get_loc\u001b[1;34m(self, key, axis)\u001b[0m\n\u001b[0;32m    625\u001b[0m \u001b[1;33m\u001b[0m\u001b[0m\n\u001b[0;32m    626\u001b[0m     \u001b[1;32mdef\u001b[0m \u001b[0m_get_loc\u001b[0m\u001b[1;33m(\u001b[0m\u001b[0mself\u001b[0m\u001b[1;33m,\u001b[0m \u001b[0mkey\u001b[0m\u001b[1;33m:\u001b[0m \u001b[0mint\u001b[0m\u001b[1;33m,\u001b[0m \u001b[0maxis\u001b[0m\u001b[1;33m:\u001b[0m \u001b[0mint\u001b[0m\u001b[1;33m)\u001b[0m\u001b[1;33m:\u001b[0m\u001b[1;33m\u001b[0m\u001b[1;33m\u001b[0m\u001b[0m\n\u001b[1;32m--> 627\u001b[1;33m         \u001b[1;32mreturn\u001b[0m \u001b[0mself\u001b[0m\u001b[1;33m.\u001b[0m\u001b[0mobj\u001b[0m\u001b[1;33m.\u001b[0m\u001b[0m_ixs\u001b[0m\u001b[1;33m(\u001b[0m\u001b[0mkey\u001b[0m\u001b[1;33m,\u001b[0m \u001b[0maxis\u001b[0m\u001b[1;33m=\u001b[0m\u001b[0maxis\u001b[0m\u001b[1;33m)\u001b[0m\u001b[1;33m\u001b[0m\u001b[1;33m\u001b[0m\u001b[0m\n\u001b[0m\u001b[0;32m    628\u001b[0m \u001b[1;33m\u001b[0m\u001b[0m\n\u001b[0;32m    629\u001b[0m     \u001b[1;32mdef\u001b[0m \u001b[0m_slice\u001b[0m\u001b[1;33m(\u001b[0m\u001b[0mself\u001b[0m\u001b[1;33m,\u001b[0m \u001b[0mobj\u001b[0m\u001b[1;33m,\u001b[0m \u001b[0maxis\u001b[0m\u001b[1;33m:\u001b[0m \u001b[0mint\u001b[0m\u001b[1;33m,\u001b[0m \u001b[0mkind\u001b[0m\u001b[1;33m=\u001b[0m\u001b[1;32mNone\u001b[0m\u001b[1;33m)\u001b[0m\u001b[1;33m:\u001b[0m\u001b[1;33m\u001b[0m\u001b[1;33m\u001b[0m\u001b[0m\n",
      "\u001b[1;32mD:\\Anaconda\\lib\\site-packages\\pandas\\core\\frame.py\u001b[0m in \u001b[0;36m_ixs\u001b[1;34m(self, i, axis)\u001b[0m\n\u001b[0;32m   2741\u001b[0m                 \u001b[0mindex\u001b[0m\u001b[1;33m=\u001b[0m\u001b[0mself\u001b[0m\u001b[1;33m.\u001b[0m\u001b[0mcolumns\u001b[0m\u001b[1;33m,\u001b[0m\u001b[1;33m\u001b[0m\u001b[1;33m\u001b[0m\u001b[0m\n\u001b[0;32m   2742\u001b[0m                 \u001b[0mname\u001b[0m\u001b[1;33m=\u001b[0m\u001b[0mself\u001b[0m\u001b[1;33m.\u001b[0m\u001b[0mindex\u001b[0m\u001b[1;33m[\u001b[0m\u001b[0mi\u001b[0m\u001b[1;33m]\u001b[0m\u001b[1;33m,\u001b[0m\u001b[1;33m\u001b[0m\u001b[1;33m\u001b[0m\u001b[0m\n\u001b[1;32m-> 2743\u001b[1;33m                 \u001b[0mdtype\u001b[0m\u001b[1;33m=\u001b[0m\u001b[0mnew_values\u001b[0m\u001b[1;33m.\u001b[0m\u001b[0mdtype\u001b[0m\u001b[1;33m,\u001b[0m\u001b[1;33m\u001b[0m\u001b[1;33m\u001b[0m\u001b[0m\n\u001b[0m\u001b[0;32m   2744\u001b[0m             )\n\u001b[0;32m   2745\u001b[0m             \u001b[0mresult\u001b[0m\u001b[1;33m.\u001b[0m\u001b[0m_set_is_copy\u001b[0m\u001b[1;33m(\u001b[0m\u001b[0mself\u001b[0m\u001b[1;33m,\u001b[0m \u001b[0mcopy\u001b[0m\u001b[1;33m=\u001b[0m\u001b[0mcopy\u001b[0m\u001b[1;33m)\u001b[0m\u001b[1;33m\u001b[0m\u001b[1;33m\u001b[0m\u001b[0m\n",
      "\u001b[1;32mD:\\Anaconda\\lib\\site-packages\\pandas\\core\\series.py\u001b[0m in \u001b[0;36m__init__\u001b[1;34m(self, data, index, dtype, name, copy, fastpath)\u001b[0m\n\u001b[0;32m    303\u001b[0m                     \u001b[0mdata\u001b[0m \u001b[1;33m=\u001b[0m \u001b[0mdata\u001b[0m\u001b[1;33m.\u001b[0m\u001b[0mcopy\u001b[0m\u001b[1;33m(\u001b[0m\u001b[1;33m)\u001b[0m\u001b[1;33m\u001b[0m\u001b[1;33m\u001b[0m\u001b[0m\n\u001b[0;32m    304\u001b[0m             \u001b[1;32melse\u001b[0m\u001b[1;33m:\u001b[0m\u001b[1;33m\u001b[0m\u001b[1;33m\u001b[0m\u001b[0m\n\u001b[1;32m--> 305\u001b[1;33m                 \u001b[0mdata\u001b[0m \u001b[1;33m=\u001b[0m \u001b[0msanitize_array\u001b[0m\u001b[1;33m(\u001b[0m\u001b[0mdata\u001b[0m\u001b[1;33m,\u001b[0m \u001b[0mindex\u001b[0m\u001b[1;33m,\u001b[0m \u001b[0mdtype\u001b[0m\u001b[1;33m,\u001b[0m \u001b[0mcopy\u001b[0m\u001b[1;33m,\u001b[0m \u001b[0mraise_cast_failure\u001b[0m\u001b[1;33m=\u001b[0m\u001b[1;32mTrue\u001b[0m\u001b[1;33m)\u001b[0m\u001b[1;33m\u001b[0m\u001b[1;33m\u001b[0m\u001b[0m\n\u001b[0m\u001b[0;32m    306\u001b[0m \u001b[1;33m\u001b[0m\u001b[0m\n\u001b[0;32m    307\u001b[0m                 \u001b[0mdata\u001b[0m \u001b[1;33m=\u001b[0m \u001b[0mSingleBlockManager\u001b[0m\u001b[1;33m(\u001b[0m\u001b[0mdata\u001b[0m\u001b[1;33m,\u001b[0m \u001b[0mindex\u001b[0m\u001b[1;33m,\u001b[0m \u001b[0mfastpath\u001b[0m\u001b[1;33m=\u001b[0m\u001b[1;32mTrue\u001b[0m\u001b[1;33m)\u001b[0m\u001b[1;33m\u001b[0m\u001b[1;33m\u001b[0m\u001b[0m\n",
      "\u001b[1;32mD:\\Anaconda\\lib\\site-packages\\pandas\\core\\construction.py\u001b[0m in \u001b[0;36msanitize_array\u001b[1;34m(data, index, dtype, copy, raise_cast_failure)\u001b[0m\n\u001b[0;32m    422\u001b[0m         \u001b[1;32melse\u001b[0m\u001b[1;33m:\u001b[0m\u001b[1;33m\u001b[0m\u001b[1;33m\u001b[0m\u001b[0m\n\u001b[0;32m    423\u001b[0m             \u001b[1;31m# we will try to copy be-definition here\u001b[0m\u001b[1;33m\u001b[0m\u001b[1;33m\u001b[0m\u001b[1;33m\u001b[0m\u001b[0m\n\u001b[1;32m--> 424\u001b[1;33m             \u001b[0msubarr\u001b[0m \u001b[1;33m=\u001b[0m \u001b[0m_try_cast\u001b[0m\u001b[1;33m(\u001b[0m\u001b[0mdata\u001b[0m\u001b[1;33m,\u001b[0m \u001b[0mdtype\u001b[0m\u001b[1;33m,\u001b[0m \u001b[0mcopy\u001b[0m\u001b[1;33m,\u001b[0m \u001b[0mraise_cast_failure\u001b[0m\u001b[1;33m)\u001b[0m\u001b[1;33m\u001b[0m\u001b[1;33m\u001b[0m\u001b[0m\n\u001b[0m\u001b[0;32m    425\u001b[0m \u001b[1;33m\u001b[0m\u001b[0m\n\u001b[0;32m    426\u001b[0m     \u001b[1;32melif\u001b[0m \u001b[0misinstance\u001b[0m\u001b[1;33m(\u001b[0m\u001b[0mdata\u001b[0m\u001b[1;33m,\u001b[0m \u001b[0mABCExtensionArray\u001b[0m\u001b[1;33m)\u001b[0m\u001b[1;33m:\u001b[0m\u001b[1;33m\u001b[0m\u001b[1;33m\u001b[0m\u001b[0m\n",
      "\u001b[1;32mD:\\Anaconda\\lib\\site-packages\\pandas\\core\\construction.py\u001b[0m in \u001b[0;36m_try_cast\u001b[1;34m(arr, dtype, copy, raise_cast_failure)\u001b[0m\n\u001b[0;32m    535\u001b[0m             \u001b[0msubarr\u001b[0m \u001b[1;33m=\u001b[0m \u001b[0mmaybe_cast_to_integer_array\u001b[0m\u001b[1;33m(\u001b[0m\u001b[0marr\u001b[0m\u001b[1;33m,\u001b[0m \u001b[0mdtype\u001b[0m\u001b[1;33m)\u001b[0m\u001b[1;33m\u001b[0m\u001b[1;33m\u001b[0m\u001b[0m\n\u001b[0;32m    536\u001b[0m \u001b[1;33m\u001b[0m\u001b[0m\n\u001b[1;32m--> 537\u001b[1;33m         \u001b[0msubarr\u001b[0m \u001b[1;33m=\u001b[0m \u001b[0mmaybe_cast_to_datetime\u001b[0m\u001b[1;33m(\u001b[0m\u001b[0marr\u001b[0m\u001b[1;33m,\u001b[0m \u001b[0mdtype\u001b[0m\u001b[1;33m)\u001b[0m\u001b[1;33m\u001b[0m\u001b[1;33m\u001b[0m\u001b[0m\n\u001b[0m\u001b[0;32m    538\u001b[0m         \u001b[1;31m# Take care in creating object arrays (but iterators are not\u001b[0m\u001b[1;33m\u001b[0m\u001b[1;33m\u001b[0m\u001b[1;33m\u001b[0m\u001b[0m\n\u001b[0;32m    539\u001b[0m         \u001b[1;31m# supported):\u001b[0m\u001b[1;33m\u001b[0m\u001b[1;33m\u001b[0m\u001b[1;33m\u001b[0m\u001b[0m\n",
      "\u001b[1;32mD:\\Anaconda\\lib\\site-packages\\pandas\\core\\dtypes\\cast.py\u001b[0m in \u001b[0;36mmaybe_cast_to_datetime\u001b[1;34m(value, dtype, errors)\u001b[0m\n\u001b[0;32m   1221\u001b[0m     \"\"\"\n\u001b[0;32m   1222\u001b[0m     \u001b[1;32mfrom\u001b[0m \u001b[0mpandas\u001b[0m\u001b[1;33m.\u001b[0m\u001b[0mcore\u001b[0m\u001b[1;33m.\u001b[0m\u001b[0mtools\u001b[0m\u001b[1;33m.\u001b[0m\u001b[0mtimedeltas\u001b[0m \u001b[1;32mimport\u001b[0m \u001b[0mto_timedelta\u001b[0m\u001b[1;33m\u001b[0m\u001b[1;33m\u001b[0m\u001b[0m\n\u001b[1;32m-> 1223\u001b[1;33m     \u001b[1;32mfrom\u001b[0m \u001b[0mpandas\u001b[0m\u001b[1;33m.\u001b[0m\u001b[0mcore\u001b[0m\u001b[1;33m.\u001b[0m\u001b[0mtools\u001b[0m\u001b[1;33m.\u001b[0m\u001b[0mdatetimes\u001b[0m \u001b[1;32mimport\u001b[0m \u001b[0mto_datetime\u001b[0m\u001b[1;33m\u001b[0m\u001b[1;33m\u001b[0m\u001b[0m\n\u001b[0m\u001b[0;32m   1224\u001b[0m \u001b[1;33m\u001b[0m\u001b[0m\n\u001b[0;32m   1225\u001b[0m     \u001b[1;32mif\u001b[0m \u001b[0mdtype\u001b[0m \u001b[1;32mis\u001b[0m \u001b[1;32mnot\u001b[0m \u001b[1;32mNone\u001b[0m\u001b[1;33m:\u001b[0m\u001b[1;33m\u001b[0m\u001b[1;33m\u001b[0m\u001b[0m\n",
      "\u001b[1;32mD:\\Anaconda\\lib\\importlib\\_bootstrap.py\u001b[0m in \u001b[0;36m_handle_fromlist\u001b[1;34m(module, fromlist, import_, recursive)\u001b[0m\n",
      "\u001b[1;31mKeyboardInterrupt\u001b[0m: "
     ]
    }
   ],
   "source": [
    "from tqdm import tqdm \n",
    "fraud_test = []\n",
    "normal_test = []\n",
    "cluster_no = list(range(2, 15, 1))\n",
    "thres_no = [0.8, 0.9, 0.95]\n",
    "\n",
    "for n_cluster in tqdm(cluster_no) :\n",
    "    cluster_number = n_cluster\n",
    "    y_predicted, centroids = K_MeanClustering()\n",
    "\n",
    "    dict_DC = {}\n",
    "    for i in range(n_cluster):\n",
    "        dict_DC[i+1] = []\n",
    "    for i, j in enumerate(y_predicted):\n",
    "        dict_DC[j+1].append(distance_used(centroids[j], X_normal_train.iloc[i, :]))\n",
    "\n",
    "    average_radius = []\n",
    "    for j in range(n_cluster):\n",
    "        average_radius.append(sum(dict_DC[j+1])/len(dict_DC[j+1]))\n",
    "\n",
    "    radius_cent = average_radius\n",
    "    cluster_number = n_cluster\n",
    "    for thresh_KM in tqdm(thres_no) :\n",
    "        test_wrong1 = prediction_result_2(test_set_fraud, radius_cent, thresh_KM)\n",
    "        test_wrong2 = prediction_result_2(test_set_normal, radius_cent, thresh_KM)\n",
    "        test_wrong1 = [(n_cluster, thresh_KM)] + test_wrong1\n",
    "        test_wrong2 = [(n_cluster, thresh_KM)] + test_wrong2\n",
    "        fraud_test.append(test_wrong1)\n",
    "        normal_test.append(test_wrong2)"
   ]
  },
  {
   "cell_type": "code",
   "execution_count": 156,
   "metadata": {},
   "outputs": [],
   "source": [
    "t_cls_fraud = fraud_test"
   ]
  },
  {
   "cell_type": "code",
   "execution_count": 157,
   "metadata": {},
   "outputs": [],
   "source": [
    "t_cls_normal = normal_test"
   ]
  },
  {
   "cell_type": "code",
   "execution_count": 237,
   "metadata": {},
   "outputs": [],
   "source": [
    "t_cls_thres_fraud = fraud_test\n",
    "t_cls_thres_normal = normal_test"
   ]
  },
  {
   "cell_type": "code",
   "execution_count": 4,
   "metadata": {},
   "outputs": [
    {
     "data": {
      "text/html": [
       "<div>\n",
       "<style scoped>\n",
       "    .dataframe tbody tr th:only-of-type {\n",
       "        vertical-align: middle;\n",
       "    }\n",
       "\n",
       "    .dataframe tbody tr th {\n",
       "        vertical-align: top;\n",
       "    }\n",
       "\n",
       "    .dataframe thead th {\n",
       "        text-align: right;\n",
       "    }\n",
       "</style>\n",
       "<table border=\"1\" class=\"dataframe\">\n",
       "  <thead>\n",
       "    <tr style=\"text-align: right;\">\n",
       "      <th></th>\n",
       "      <th>MA_DIEMDO</th>\n",
       "      <th>START_WEEKDAY</th>\n",
       "      <th>TIME_1</th>\n",
       "      <th>TIME_2</th>\n",
       "      <th>TIME_3</th>\n",
       "      <th>TIME_4</th>\n",
       "      <th>TIME_5</th>\n",
       "      <th>TIME_6</th>\n",
       "      <th>TIME_7</th>\n",
       "      <th>TIME_8</th>\n",
       "      <th>...</th>\n",
       "      <th>TIME_20</th>\n",
       "      <th>TIME_21</th>\n",
       "      <th>TIME_22</th>\n",
       "      <th>TIME_23</th>\n",
       "      <th>TIME_24</th>\n",
       "      <th>TIME_25</th>\n",
       "      <th>TIME_26</th>\n",
       "      <th>TIME_27</th>\n",
       "      <th>TIME_28</th>\n",
       "      <th>IS_FRAUD</th>\n",
       "    </tr>\n",
       "  </thead>\n",
       "  <tbody>\n",
       "    <tr>\n",
       "      <th>0</th>\n",
       "      <td>PP01000100340001</td>\n",
       "      <td>2017-01-02</td>\n",
       "      <td>1.071990</td>\n",
       "      <td>1.071990</td>\n",
       "      <td>0.950588</td>\n",
       "      <td>1.272025</td>\n",
       "      <td>0.521183</td>\n",
       "      <td>0.521183</td>\n",
       "      <td>1.371933</td>\n",
       "      <td>1.025683</td>\n",
       "      <td>...</td>\n",
       "      <td>0.952474</td>\n",
       "      <td>0.503377</td>\n",
       "      <td>0.503377</td>\n",
       "      <td>0.632368</td>\n",
       "      <td>0.632368</td>\n",
       "      <td>0.428766</td>\n",
       "      <td>0.428766</td>\n",
       "      <td>1.130079</td>\n",
       "      <td>0.787332</td>\n",
       "      <td>False</td>\n",
       "    </tr>\n",
       "    <tr>\n",
       "      <th>1</th>\n",
       "      <td>PP01000100340001</td>\n",
       "      <td>2017-01-09</td>\n",
       "      <td>0.763673</td>\n",
       "      <td>0.763673</td>\n",
       "      <td>0.763673</td>\n",
       "      <td>0.763673</td>\n",
       "      <td>0.763673</td>\n",
       "      <td>0.763673</td>\n",
       "      <td>1.522158</td>\n",
       "      <td>0.876736</td>\n",
       "      <td>...</td>\n",
       "      <td>0.880946</td>\n",
       "      <td>0.597618</td>\n",
       "      <td>0.597618</td>\n",
       "      <td>0.867206</td>\n",
       "      <td>2.178154</td>\n",
       "      <td>1.050095</td>\n",
       "      <td>1.050095</td>\n",
       "      <td>0.223318</td>\n",
       "      <td>0.762987</td>\n",
       "      <td>False</td>\n",
       "    </tr>\n",
       "    <tr>\n",
       "      <th>2</th>\n",
       "      <td>PP01000100340001</td>\n",
       "      <td>2017-01-16</td>\n",
       "      <td>0.506998</td>\n",
       "      <td>0.506998</td>\n",
       "      <td>0.897201</td>\n",
       "      <td>0.767088</td>\n",
       "      <td>0.728221</td>\n",
       "      <td>0.728221</td>\n",
       "      <td>0.813047</td>\n",
       "      <td>0.746418</td>\n",
       "      <td>...</td>\n",
       "      <td>0.955296</td>\n",
       "      <td>0.599409</td>\n",
       "      <td>0.599409</td>\n",
       "      <td>0.888135</td>\n",
       "      <td>1.177667</td>\n",
       "      <td>0.640047</td>\n",
       "      <td>0.640047</td>\n",
       "      <td>1.571213</td>\n",
       "      <td>0.766795</td>\n",
       "      <td>False</td>\n",
       "    </tr>\n",
       "    <tr>\n",
       "      <th>3</th>\n",
       "      <td>PP01000100340001</td>\n",
       "      <td>2017-01-23</td>\n",
       "      <td>0.675018</td>\n",
       "      <td>0.675018</td>\n",
       "      <td>1.109636</td>\n",
       "      <td>1.117002</td>\n",
       "      <td>0.570628</td>\n",
       "      <td>0.570628</td>\n",
       "      <td>1.406446</td>\n",
       "      <td>0.836815</td>\n",
       "      <td>...</td>\n",
       "      <td>0.534937</td>\n",
       "      <td>0.986200</td>\n",
       "      <td>0.986200</td>\n",
       "      <td>1.002349</td>\n",
       "      <td>1.075476</td>\n",
       "      <td>0.967791</td>\n",
       "      <td>0.967791</td>\n",
       "      <td>1.493868</td>\n",
       "      <td>0.626669</td>\n",
       "      <td>False</td>\n",
       "    </tr>\n",
       "    <tr>\n",
       "      <th>4</th>\n",
       "      <td>PP01000100340001</td>\n",
       "      <td>2017-01-30</td>\n",
       "      <td>0.811750</td>\n",
       "      <td>0.811750</td>\n",
       "      <td>0.903721</td>\n",
       "      <td>1.238893</td>\n",
       "      <td>0.768862</td>\n",
       "      <td>0.768862</td>\n",
       "      <td>3.122375</td>\n",
       "      <td>1.813596</td>\n",
       "      <td>...</td>\n",
       "      <td>0.782079</td>\n",
       "      <td>0.618889</td>\n",
       "      <td>0.618889</td>\n",
       "      <td>1.766039</td>\n",
       "      <td>1.025119</td>\n",
       "      <td>0.935988</td>\n",
       "      <td>0.935988</td>\n",
       "      <td>1.405387</td>\n",
       "      <td>1.235285</td>\n",
       "      <td>False</td>\n",
       "    </tr>\n",
       "  </tbody>\n",
       "</table>\n",
       "<p>5 rows × 31 columns</p>\n",
       "</div>"
      ],
      "text/plain": [
       "          MA_DIEMDO START_WEEKDAY    TIME_1    TIME_2    TIME_3    TIME_4  \\\n",
       "0  PP01000100340001    2017-01-02  1.071990  1.071990  0.950588  1.272025   \n",
       "1  PP01000100340001    2017-01-09  0.763673  0.763673  0.763673  0.763673   \n",
       "2  PP01000100340001    2017-01-16  0.506998  0.506998  0.897201  0.767088   \n",
       "3  PP01000100340001    2017-01-23  0.675018  0.675018  1.109636  1.117002   \n",
       "4  PP01000100340001    2017-01-30  0.811750  0.811750  0.903721  1.238893   \n",
       "\n",
       "     TIME_5    TIME_6    TIME_7    TIME_8  ...   TIME_20   TIME_21   TIME_22  \\\n",
       "0  0.521183  0.521183  1.371933  1.025683  ...  0.952474  0.503377  0.503377   \n",
       "1  0.763673  0.763673  1.522158  0.876736  ...  0.880946  0.597618  0.597618   \n",
       "2  0.728221  0.728221  0.813047  0.746418  ...  0.955296  0.599409  0.599409   \n",
       "3  0.570628  0.570628  1.406446  0.836815  ...  0.534937  0.986200  0.986200   \n",
       "4  0.768862  0.768862  3.122375  1.813596  ...  0.782079  0.618889  0.618889   \n",
       "\n",
       "    TIME_23   TIME_24   TIME_25   TIME_26   TIME_27   TIME_28  IS_FRAUD  \n",
       "0  0.632368  0.632368  0.428766  0.428766  1.130079  0.787332     False  \n",
       "1  0.867206  2.178154  1.050095  1.050095  0.223318  0.762987     False  \n",
       "2  0.888135  1.177667  0.640047  0.640047  1.571213  0.766795     False  \n",
       "3  1.002349  1.075476  0.967791  0.967791  1.493868  0.626669     False  \n",
       "4  1.766039  1.025119  0.935988  0.935988  1.405387  1.235285     False  \n",
       "\n",
       "[5 rows x 31 columns]"
      ]
     },
     "execution_count": 4,
     "metadata": {},
     "output_type": "execute_result"
    }
   ],
   "source": [
    "summary_df.head()"
   ]
  },
  {
   "cell_type": "code",
   "execution_count": null,
   "metadata": {},
   "outputs": [],
   "source": [
    "count = 0\n",
    "if [0]*3 in summary_df[summary_df['START_WEEKDAY'].month in [1,2]].iloc[:, 2:]"
   ]
  },
  {
   "cell_type": "code",
   "execution_count": 39,
   "metadata": {},
   "outputs": [],
   "source": [
    "def count_zeros(l):\n",
    "    s = 0\n",
    "    for i in l :\n",
    "        if i == 0 :\n",
    "            s+= 1\n",
    "    return s"
   ]
  },
  {
   "cell_type": "code",
   "execution_count": 44,
   "metadata": {},
   "outputs": [],
   "source": [
    "count_1 = 0\n",
    "count_2 = 0\n",
    "months = list(range(1, 13, 1))\n",
    "count_month = [0]*12\n",
    "for i in range(summary_df.shape[0]):\n",
    "    if 0 in list(summary_df.iloc[i, 2:-1]):\n",
    "        count_month[summary_df.iloc[i, 1].month - 1] += 1\n",
    "    if count_zeros(list(summary_df.iloc[i, 2:-1])) <= 4:\n",
    "        count_2 += 1\n",
    "#    if summary_df.iloc[i, 1].month in [1, 2] and [0]*3 in summary_df.iloc[i, 2:-1]:\n",
    "#        count_2 += 1"
   ]
  },
  {
   "cell_type": "code",
   "execution_count": 36,
   "metadata": {},
   "outputs": [
    {
     "data": {
      "text/plain": [
       "[688, 618, 523, 316, 375, 287, 329, 249, 250, 275, 238, 220]"
      ]
     },
     "execution_count": 36,
     "metadata": {},
     "output_type": "execute_result"
    }
   ],
   "source": [
    "count_month"
   ]
  },
  {
   "cell_type": "code",
   "execution_count": 41,
   "metadata": {},
   "outputs": [
    {
     "data": {
      "text/plain": [
       "63588"
      ]
     },
     "execution_count": 41,
     "metadata": {},
     "output_type": "execute_result"
    }
   ],
   "source": [
    "count_2"
   ]
  },
  {
   "cell_type": "code",
   "execution_count": 42,
   "metadata": {},
   "outputs": [
    {
     "data": {
      "text/plain": [
       "63588"
      ]
     },
     "execution_count": 42,
     "metadata": {},
     "output_type": "execute_result"
    }
   ],
   "source": [
    "count_2"
   ]
  },
  {
   "cell_type": "code",
   "execution_count": 43,
   "metadata": {},
   "outputs": [
    {
     "data": {
      "text/plain": [
       "66543"
      ]
     },
     "execution_count": 43,
     "metadata": {},
     "output_type": "execute_result"
    }
   ],
   "source": [
    "summary_df.shape[0]"
   ]
  },
  {
   "cell_type": "code",
   "execution_count": null,
   "metadata": {},
   "outputs": [],
   "source": []
  }
 ],
 "metadata": {
  "kernelspec": {
   "display_name": "Python 3",
   "language": "python",
   "name": "python3"
  },
  "language_info": {
   "codemirror_mode": {
    "name": "ipython",
    "version": 3
   },
   "file_extension": ".py",
   "mimetype": "text/x-python",
   "name": "python",
   "nbconvert_exporter": "python",
   "pygments_lexer": "ipython3",
   "version": "3.7.6"
  }
 },
 "nbformat": 4,
 "nbformat_minor": 4
}
