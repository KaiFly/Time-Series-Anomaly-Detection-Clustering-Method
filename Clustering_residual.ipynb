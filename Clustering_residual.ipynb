{
 "cells": [
  {
   "cell_type": "code",
   "execution_count": 1,
   "metadata": {},
   "outputs": [],
   "source": [
    "import math\n",
    "import numpy as np\n",
    "import pandas as pd\n",
    "import seaborn as sns\n",
    "import matplotlib.pyplot as plt\n",
    "import matplotlib as mpl\n",
    "from sklearn.preprocessing import StandardScaler\n",
    "\n",
    "import tqdm.notebook as tq\n",
    "import warnings\n",
    "warnings.filterwarnings('ignore')\n",
    "\n",
    "import utils_cl\n",
    "%matplotlib notebook\n",
    "%load_ext autoreload"
   ]
  },
  {
   "cell_type": "markdown",
   "metadata": {},
   "source": [
    "## Data Preparing"
   ]
  },
  {
   "cell_type": "code",
   "execution_count": 2,
   "metadata": {
    "scrolled": true
   },
   "outputs": [],
   "source": [
    "full_df = pd.read_csv(\"dataset/normalized_data.csv\")\n",
    "full_df.columns = ['timestamp','import_kwh','meter_id','is_fraud','date','import_kwh_shift1','consumption']\n",
    "full_df.drop(['import_kwh', 'import_kwh_shift1'], axis=1, inplace = True)\n",
    "full_df['timestamp'] = pd.to_datetime(full_df.timestamp)\n",
    "full_df.dropna(inplace=True)"
   ]
  },
  {
   "cell_type": "code",
   "execution_count": 3,
   "metadata": {},
   "outputs": [],
   "source": [
    "df = full_df.groupby(['meter_id', 'date'])['consumption'].mean()\n",
    "df = pd.DataFrame(df)\n",
    "df.reset_index(inplace = True)\n",
    "\n",
    "df['date'] = pd.to_datetime(df.date)\n",
    "df.set_index('date', inplace=True)"
   ]
  },
  {
   "cell_type": "code",
   "execution_count": 4,
   "metadata": {},
   "outputs": [
    {
     "name": "stdout",
     "output_type": "stream",
     "text": [
      "count    455.000000\n",
      "mean       1.910368\n",
      "std        0.791290\n",
      "min        0.636850\n",
      "25%        1.304743\n",
      "50%        1.761913\n",
      "75%        2.293430\n",
      "max        4.775486\n",
      "Name: consumption, dtype: float64\n"
     ]
    },
    {
     "data": {
      "application/javascript": [
       "/* Put everything inside the global mpl namespace */\n",
       "window.mpl = {};\n",
       "\n",
       "\n",
       "mpl.get_websocket_type = function() {\n",
       "    if (typeof(WebSocket) !== 'undefined') {\n",
       "        return WebSocket;\n",
       "    } else if (typeof(MozWebSocket) !== 'undefined') {\n",
       "        return MozWebSocket;\n",
       "    } else {\n",
       "        alert('Your browser does not have WebSocket support. ' +\n",
       "              'Please try Chrome, Safari or Firefox ≥ 6. ' +\n",
       "              'Firefox 4 and 5 are also supported but you ' +\n",
       "              'have to enable WebSockets in about:config.');\n",
       "    };\n",
       "}\n",
       "\n",
       "mpl.figure = function(figure_id, websocket, ondownload, parent_element) {\n",
       "    this.id = figure_id;\n",
       "\n",
       "    this.ws = websocket;\n",
       "\n",
       "    this.supports_binary = (this.ws.binaryType != undefined);\n",
       "\n",
       "    if (!this.supports_binary) {\n",
       "        var warnings = document.getElementById(\"mpl-warnings\");\n",
       "        if (warnings) {\n",
       "            warnings.style.display = 'block';\n",
       "            warnings.textContent = (\n",
       "                \"This browser does not support binary websocket messages. \" +\n",
       "                    \"Performance may be slow.\");\n",
       "        }\n",
       "    }\n",
       "\n",
       "    this.imageObj = new Image();\n",
       "\n",
       "    this.context = undefined;\n",
       "    this.message = undefined;\n",
       "    this.canvas = undefined;\n",
       "    this.rubberband_canvas = undefined;\n",
       "    this.rubberband_context = undefined;\n",
       "    this.format_dropdown = undefined;\n",
       "\n",
       "    this.image_mode = 'full';\n",
       "\n",
       "    this.root = $('<div/>');\n",
       "    this._root_extra_style(this.root)\n",
       "    this.root.attr('style', 'display: inline-block');\n",
       "\n",
       "    $(parent_element).append(this.root);\n",
       "\n",
       "    this._init_header(this);\n",
       "    this._init_canvas(this);\n",
       "    this._init_toolbar(this);\n",
       "\n",
       "    var fig = this;\n",
       "\n",
       "    this.waiting = false;\n",
       "\n",
       "    this.ws.onopen =  function () {\n",
       "            fig.send_message(\"supports_binary\", {value: fig.supports_binary});\n",
       "            fig.send_message(\"send_image_mode\", {});\n",
       "            if (mpl.ratio != 1) {\n",
       "                fig.send_message(\"set_dpi_ratio\", {'dpi_ratio': mpl.ratio});\n",
       "            }\n",
       "            fig.send_message(\"refresh\", {});\n",
       "        }\n",
       "\n",
       "    this.imageObj.onload = function() {\n",
       "            if (fig.image_mode == 'full') {\n",
       "                // Full images could contain transparency (where diff images\n",
       "                // almost always do), so we need to clear the canvas so that\n",
       "                // there is no ghosting.\n",
       "                fig.context.clearRect(0, 0, fig.canvas.width, fig.canvas.height);\n",
       "            }\n",
       "            fig.context.drawImage(fig.imageObj, 0, 0);\n",
       "        };\n",
       "\n",
       "    this.imageObj.onunload = function() {\n",
       "        fig.ws.close();\n",
       "    }\n",
       "\n",
       "    this.ws.onmessage = this._make_on_message_function(this);\n",
       "\n",
       "    this.ondownload = ondownload;\n",
       "}\n",
       "\n",
       "mpl.figure.prototype._init_header = function() {\n",
       "    var titlebar = $(\n",
       "        '<div class=\"ui-dialog-titlebar ui-widget-header ui-corner-all ' +\n",
       "        'ui-helper-clearfix\"/>');\n",
       "    var titletext = $(\n",
       "        '<div class=\"ui-dialog-title\" style=\"width: 100%; ' +\n",
       "        'text-align: center; padding: 3px;\"/>');\n",
       "    titlebar.append(titletext)\n",
       "    this.root.append(titlebar);\n",
       "    this.header = titletext[0];\n",
       "}\n",
       "\n",
       "\n",
       "\n",
       "mpl.figure.prototype._canvas_extra_style = function(canvas_div) {\n",
       "\n",
       "}\n",
       "\n",
       "\n",
       "mpl.figure.prototype._root_extra_style = function(canvas_div) {\n",
       "\n",
       "}\n",
       "\n",
       "mpl.figure.prototype._init_canvas = function() {\n",
       "    var fig = this;\n",
       "\n",
       "    var canvas_div = $('<div/>');\n",
       "\n",
       "    canvas_div.attr('style', 'position: relative; clear: both; outline: 0');\n",
       "\n",
       "    function canvas_keyboard_event(event) {\n",
       "        return fig.key_event(event, event['data']);\n",
       "    }\n",
       "\n",
       "    canvas_div.keydown('key_press', canvas_keyboard_event);\n",
       "    canvas_div.keyup('key_release', canvas_keyboard_event);\n",
       "    this.canvas_div = canvas_div\n",
       "    this._canvas_extra_style(canvas_div)\n",
       "    this.root.append(canvas_div);\n",
       "\n",
       "    var canvas = $('<canvas/>');\n",
       "    canvas.addClass('mpl-canvas');\n",
       "    canvas.attr('style', \"left: 0; top: 0; z-index: 0; outline: 0\")\n",
       "\n",
       "    this.canvas = canvas[0];\n",
       "    this.context = canvas[0].getContext(\"2d\");\n",
       "\n",
       "    var backingStore = this.context.backingStorePixelRatio ||\n",
       "\tthis.context.webkitBackingStorePixelRatio ||\n",
       "\tthis.context.mozBackingStorePixelRatio ||\n",
       "\tthis.context.msBackingStorePixelRatio ||\n",
       "\tthis.context.oBackingStorePixelRatio ||\n",
       "\tthis.context.backingStorePixelRatio || 1;\n",
       "\n",
       "    mpl.ratio = (window.devicePixelRatio || 1) / backingStore;\n",
       "\n",
       "    var rubberband = $('<canvas/>');\n",
       "    rubberband.attr('style', \"position: absolute; left: 0; top: 0; z-index: 1;\")\n",
       "\n",
       "    var pass_mouse_events = true;\n",
       "\n",
       "    canvas_div.resizable({\n",
       "        start: function(event, ui) {\n",
       "            pass_mouse_events = false;\n",
       "        },\n",
       "        resize: function(event, ui) {\n",
       "            fig.request_resize(ui.size.width, ui.size.height);\n",
       "        },\n",
       "        stop: function(event, ui) {\n",
       "            pass_mouse_events = true;\n",
       "            fig.request_resize(ui.size.width, ui.size.height);\n",
       "        },\n",
       "    });\n",
       "\n",
       "    function mouse_event_fn(event) {\n",
       "        if (pass_mouse_events)\n",
       "            return fig.mouse_event(event, event['data']);\n",
       "    }\n",
       "\n",
       "    rubberband.mousedown('button_press', mouse_event_fn);\n",
       "    rubberband.mouseup('button_release', mouse_event_fn);\n",
       "    // Throttle sequential mouse events to 1 every 20ms.\n",
       "    rubberband.mousemove('motion_notify', mouse_event_fn);\n",
       "\n",
       "    rubberband.mouseenter('figure_enter', mouse_event_fn);\n",
       "    rubberband.mouseleave('figure_leave', mouse_event_fn);\n",
       "\n",
       "    canvas_div.on(\"wheel\", function (event) {\n",
       "        event = event.originalEvent;\n",
       "        event['data'] = 'scroll'\n",
       "        if (event.deltaY < 0) {\n",
       "            event.step = 1;\n",
       "        } else {\n",
       "            event.step = -1;\n",
       "        }\n",
       "        mouse_event_fn(event);\n",
       "    });\n",
       "\n",
       "    canvas_div.append(canvas);\n",
       "    canvas_div.append(rubberband);\n",
       "\n",
       "    this.rubberband = rubberband;\n",
       "    this.rubberband_canvas = rubberband[0];\n",
       "    this.rubberband_context = rubberband[0].getContext(\"2d\");\n",
       "    this.rubberband_context.strokeStyle = \"#000000\";\n",
       "\n",
       "    this._resize_canvas = function(width, height) {\n",
       "        // Keep the size of the canvas, canvas container, and rubber band\n",
       "        // canvas in synch.\n",
       "        canvas_div.css('width', width)\n",
       "        canvas_div.css('height', height)\n",
       "\n",
       "        canvas.attr('width', width * mpl.ratio);\n",
       "        canvas.attr('height', height * mpl.ratio);\n",
       "        canvas.attr('style', 'width: ' + width + 'px; height: ' + height + 'px;');\n",
       "\n",
       "        rubberband.attr('width', width);\n",
       "        rubberband.attr('height', height);\n",
       "    }\n",
       "\n",
       "    // Set the figure to an initial 600x600px, this will subsequently be updated\n",
       "    // upon first draw.\n",
       "    this._resize_canvas(600, 600);\n",
       "\n",
       "    // Disable right mouse context menu.\n",
       "    $(this.rubberband_canvas).bind(\"contextmenu\",function(e){\n",
       "        return false;\n",
       "    });\n",
       "\n",
       "    function set_focus () {\n",
       "        canvas.focus();\n",
       "        canvas_div.focus();\n",
       "    }\n",
       "\n",
       "    window.setTimeout(set_focus, 100);\n",
       "}\n",
       "\n",
       "mpl.figure.prototype._init_toolbar = function() {\n",
       "    var fig = this;\n",
       "\n",
       "    var nav_element = $('<div/>');\n",
       "    nav_element.attr('style', 'width: 100%');\n",
       "    this.root.append(nav_element);\n",
       "\n",
       "    // Define a callback function for later on.\n",
       "    function toolbar_event(event) {\n",
       "        return fig.toolbar_button_onclick(event['data']);\n",
       "    }\n",
       "    function toolbar_mouse_event(event) {\n",
       "        return fig.toolbar_button_onmouseover(event['data']);\n",
       "    }\n",
       "\n",
       "    for(var toolbar_ind in mpl.toolbar_items) {\n",
       "        var name = mpl.toolbar_items[toolbar_ind][0];\n",
       "        var tooltip = mpl.toolbar_items[toolbar_ind][1];\n",
       "        var image = mpl.toolbar_items[toolbar_ind][2];\n",
       "        var method_name = mpl.toolbar_items[toolbar_ind][3];\n",
       "\n",
       "        if (!name) {\n",
       "            // put a spacer in here.\n",
       "            continue;\n",
       "        }\n",
       "        var button = $('<button/>');\n",
       "        button.addClass('ui-button ui-widget ui-state-default ui-corner-all ' +\n",
       "                        'ui-button-icon-only');\n",
       "        button.attr('role', 'button');\n",
       "        button.attr('aria-disabled', 'false');\n",
       "        button.click(method_name, toolbar_event);\n",
       "        button.mouseover(tooltip, toolbar_mouse_event);\n",
       "\n",
       "        var icon_img = $('<span/>');\n",
       "        icon_img.addClass('ui-button-icon-primary ui-icon');\n",
       "        icon_img.addClass(image);\n",
       "        icon_img.addClass('ui-corner-all');\n",
       "\n",
       "        var tooltip_span = $('<span/>');\n",
       "        tooltip_span.addClass('ui-button-text');\n",
       "        tooltip_span.html(tooltip);\n",
       "\n",
       "        button.append(icon_img);\n",
       "        button.append(tooltip_span);\n",
       "\n",
       "        nav_element.append(button);\n",
       "    }\n",
       "\n",
       "    var fmt_picker_span = $('<span/>');\n",
       "\n",
       "    var fmt_picker = $('<select/>');\n",
       "    fmt_picker.addClass('mpl-toolbar-option ui-widget ui-widget-content');\n",
       "    fmt_picker_span.append(fmt_picker);\n",
       "    nav_element.append(fmt_picker_span);\n",
       "    this.format_dropdown = fmt_picker[0];\n",
       "\n",
       "    for (var ind in mpl.extensions) {\n",
       "        var fmt = mpl.extensions[ind];\n",
       "        var option = $(\n",
       "            '<option/>', {selected: fmt === mpl.default_extension}).html(fmt);\n",
       "        fmt_picker.append(option);\n",
       "    }\n",
       "\n",
       "    // Add hover states to the ui-buttons\n",
       "    $( \".ui-button\" ).hover(\n",
       "        function() { $(this).addClass(\"ui-state-hover\");},\n",
       "        function() { $(this).removeClass(\"ui-state-hover\");}\n",
       "    );\n",
       "\n",
       "    var status_bar = $('<span class=\"mpl-message\"/>');\n",
       "    nav_element.append(status_bar);\n",
       "    this.message = status_bar[0];\n",
       "}\n",
       "\n",
       "mpl.figure.prototype.request_resize = function(x_pixels, y_pixels) {\n",
       "    // Request matplotlib to resize the figure. Matplotlib will then trigger a resize in the client,\n",
       "    // which will in turn request a refresh of the image.\n",
       "    this.send_message('resize', {'width': x_pixels, 'height': y_pixels});\n",
       "}\n",
       "\n",
       "mpl.figure.prototype.send_message = function(type, properties) {\n",
       "    properties['type'] = type;\n",
       "    properties['figure_id'] = this.id;\n",
       "    this.ws.send(JSON.stringify(properties));\n",
       "}\n",
       "\n",
       "mpl.figure.prototype.send_draw_message = function() {\n",
       "    if (!this.waiting) {\n",
       "        this.waiting = true;\n",
       "        this.ws.send(JSON.stringify({type: \"draw\", figure_id: this.id}));\n",
       "    }\n",
       "}\n",
       "\n",
       "\n",
       "mpl.figure.prototype.handle_save = function(fig, msg) {\n",
       "    var format_dropdown = fig.format_dropdown;\n",
       "    var format = format_dropdown.options[format_dropdown.selectedIndex].value;\n",
       "    fig.ondownload(fig, format);\n",
       "}\n",
       "\n",
       "\n",
       "mpl.figure.prototype.handle_resize = function(fig, msg) {\n",
       "    var size = msg['size'];\n",
       "    if (size[0] != fig.canvas.width || size[1] != fig.canvas.height) {\n",
       "        fig._resize_canvas(size[0], size[1]);\n",
       "        fig.send_message(\"refresh\", {});\n",
       "    };\n",
       "}\n",
       "\n",
       "mpl.figure.prototype.handle_rubberband = function(fig, msg) {\n",
       "    var x0 = msg['x0'] / mpl.ratio;\n",
       "    var y0 = (fig.canvas.height - msg['y0']) / mpl.ratio;\n",
       "    var x1 = msg['x1'] / mpl.ratio;\n",
       "    var y1 = (fig.canvas.height - msg['y1']) / mpl.ratio;\n",
       "    x0 = Math.floor(x0) + 0.5;\n",
       "    y0 = Math.floor(y0) + 0.5;\n",
       "    x1 = Math.floor(x1) + 0.5;\n",
       "    y1 = Math.floor(y1) + 0.5;\n",
       "    var min_x = Math.min(x0, x1);\n",
       "    var min_y = Math.min(y0, y1);\n",
       "    var width = Math.abs(x1 - x0);\n",
       "    var height = Math.abs(y1 - y0);\n",
       "\n",
       "    fig.rubberband_context.clearRect(\n",
       "        0, 0, fig.canvas.width / mpl.ratio, fig.canvas.height / mpl.ratio);\n",
       "\n",
       "    fig.rubberband_context.strokeRect(min_x, min_y, width, height);\n",
       "}\n",
       "\n",
       "mpl.figure.prototype.handle_figure_label = function(fig, msg) {\n",
       "    // Updates the figure title.\n",
       "    fig.header.textContent = msg['label'];\n",
       "}\n",
       "\n",
       "mpl.figure.prototype.handle_cursor = function(fig, msg) {\n",
       "    var cursor = msg['cursor'];\n",
       "    switch(cursor)\n",
       "    {\n",
       "    case 0:\n",
       "        cursor = 'pointer';\n",
       "        break;\n",
       "    case 1:\n",
       "        cursor = 'default';\n",
       "        break;\n",
       "    case 2:\n",
       "        cursor = 'crosshair';\n",
       "        break;\n",
       "    case 3:\n",
       "        cursor = 'move';\n",
       "        break;\n",
       "    }\n",
       "    fig.rubberband_canvas.style.cursor = cursor;\n",
       "}\n",
       "\n",
       "mpl.figure.prototype.handle_message = function(fig, msg) {\n",
       "    fig.message.textContent = msg['message'];\n",
       "}\n",
       "\n",
       "mpl.figure.prototype.handle_draw = function(fig, msg) {\n",
       "    // Request the server to send over a new figure.\n",
       "    fig.send_draw_message();\n",
       "}\n",
       "\n",
       "mpl.figure.prototype.handle_image_mode = function(fig, msg) {\n",
       "    fig.image_mode = msg['mode'];\n",
       "}\n",
       "\n",
       "mpl.figure.prototype.updated_canvas_event = function() {\n",
       "    // Called whenever the canvas gets updated.\n",
       "    this.send_message(\"ack\", {});\n",
       "}\n",
       "\n",
       "// A function to construct a web socket function for onmessage handling.\n",
       "// Called in the figure constructor.\n",
       "mpl.figure.prototype._make_on_message_function = function(fig) {\n",
       "    return function socket_on_message(evt) {\n",
       "        if (evt.data instanceof Blob) {\n",
       "            /* FIXME: We get \"Resource interpreted as Image but\n",
       "             * transferred with MIME type text/plain:\" errors on\n",
       "             * Chrome.  But how to set the MIME type?  It doesn't seem\n",
       "             * to be part of the websocket stream */\n",
       "            evt.data.type = \"image/png\";\n",
       "\n",
       "            /* Free the memory for the previous frames */\n",
       "            if (fig.imageObj.src) {\n",
       "                (window.URL || window.webkitURL).revokeObjectURL(\n",
       "                    fig.imageObj.src);\n",
       "            }\n",
       "\n",
       "            fig.imageObj.src = (window.URL || window.webkitURL).createObjectURL(\n",
       "                evt.data);\n",
       "            fig.updated_canvas_event();\n",
       "            fig.waiting = false;\n",
       "            return;\n",
       "        }\n",
       "        else if (typeof evt.data === 'string' && evt.data.slice(0, 21) == \"data:image/png;base64\") {\n",
       "            fig.imageObj.src = evt.data;\n",
       "            fig.updated_canvas_event();\n",
       "            fig.waiting = false;\n",
       "            return;\n",
       "        }\n",
       "\n",
       "        var msg = JSON.parse(evt.data);\n",
       "        var msg_type = msg['type'];\n",
       "\n",
       "        // Call the  \"handle_{type}\" callback, which takes\n",
       "        // the figure and JSON message as its only arguments.\n",
       "        try {\n",
       "            var callback = fig[\"handle_\" + msg_type];\n",
       "        } catch (e) {\n",
       "            console.log(\"No handler for the '\" + msg_type + \"' message type: \", msg);\n",
       "            return;\n",
       "        }\n",
       "\n",
       "        if (callback) {\n",
       "            try {\n",
       "                // console.log(\"Handling '\" + msg_type + \"' message: \", msg);\n",
       "                callback(fig, msg);\n",
       "            } catch (e) {\n",
       "                console.log(\"Exception inside the 'handler_\" + msg_type + \"' callback:\", e, e.stack, msg);\n",
       "            }\n",
       "        }\n",
       "    };\n",
       "}\n",
       "\n",
       "// from http://stackoverflow.com/questions/1114465/getting-mouse-location-in-canvas\n",
       "mpl.findpos = function(e) {\n",
       "    //this section is from http://www.quirksmode.org/js/events_properties.html\n",
       "    var targ;\n",
       "    if (!e)\n",
       "        e = window.event;\n",
       "    if (e.target)\n",
       "        targ = e.target;\n",
       "    else if (e.srcElement)\n",
       "        targ = e.srcElement;\n",
       "    if (targ.nodeType == 3) // defeat Safari bug\n",
       "        targ = targ.parentNode;\n",
       "\n",
       "    // jQuery normalizes the pageX and pageY\n",
       "    // pageX,Y are the mouse positions relative to the document\n",
       "    // offset() returns the position of the element relative to the document\n",
       "    var x = e.pageX - $(targ).offset().left;\n",
       "    var y = e.pageY - $(targ).offset().top;\n",
       "\n",
       "    return {\"x\": x, \"y\": y};\n",
       "};\n",
       "\n",
       "/*\n",
       " * return a copy of an object with only non-object keys\n",
       " * we need this to avoid circular references\n",
       " * http://stackoverflow.com/a/24161582/3208463\n",
       " */\n",
       "function simpleKeys (original) {\n",
       "  return Object.keys(original).reduce(function (obj, key) {\n",
       "    if (typeof original[key] !== 'object')\n",
       "        obj[key] = original[key]\n",
       "    return obj;\n",
       "  }, {});\n",
       "}\n",
       "\n",
       "mpl.figure.prototype.mouse_event = function(event, name) {\n",
       "    var canvas_pos = mpl.findpos(event)\n",
       "\n",
       "    if (name === 'button_press')\n",
       "    {\n",
       "        this.canvas.focus();\n",
       "        this.canvas_div.focus();\n",
       "    }\n",
       "\n",
       "    var x = canvas_pos.x * mpl.ratio;\n",
       "    var y = canvas_pos.y * mpl.ratio;\n",
       "\n",
       "    this.send_message(name, {x: x, y: y, button: event.button,\n",
       "                             step: event.step,\n",
       "                             guiEvent: simpleKeys(event)});\n",
       "\n",
       "    /* This prevents the web browser from automatically changing to\n",
       "     * the text insertion cursor when the button is pressed.  We want\n",
       "     * to control all of the cursor setting manually through the\n",
       "     * 'cursor' event from matplotlib */\n",
       "    event.preventDefault();\n",
       "    return false;\n",
       "}\n",
       "\n",
       "mpl.figure.prototype._key_event_extra = function(event, name) {\n",
       "    // Handle any extra behaviour associated with a key event\n",
       "}\n",
       "\n",
       "mpl.figure.prototype.key_event = function(event, name) {\n",
       "\n",
       "    // Prevent repeat events\n",
       "    if (name == 'key_press')\n",
       "    {\n",
       "        if (event.which === this._key)\n",
       "            return;\n",
       "        else\n",
       "            this._key = event.which;\n",
       "    }\n",
       "    if (name == 'key_release')\n",
       "        this._key = null;\n",
       "\n",
       "    var value = '';\n",
       "    if (event.ctrlKey && event.which != 17)\n",
       "        value += \"ctrl+\";\n",
       "    if (event.altKey && event.which != 18)\n",
       "        value += \"alt+\";\n",
       "    if (event.shiftKey && event.which != 16)\n",
       "        value += \"shift+\";\n",
       "\n",
       "    value += 'k';\n",
       "    value += event.which.toString();\n",
       "\n",
       "    this._key_event_extra(event, name);\n",
       "\n",
       "    this.send_message(name, {key: value,\n",
       "                             guiEvent: simpleKeys(event)});\n",
       "    return false;\n",
       "}\n",
       "\n",
       "mpl.figure.prototype.toolbar_button_onclick = function(name) {\n",
       "    if (name == 'download') {\n",
       "        this.handle_save(this, null);\n",
       "    } else {\n",
       "        this.send_message(\"toolbar_button\", {name: name});\n",
       "    }\n",
       "};\n",
       "\n",
       "mpl.figure.prototype.toolbar_button_onmouseover = function(tooltip) {\n",
       "    this.message.textContent = tooltip;\n",
       "};\n",
       "mpl.toolbar_items = [[\"Home\", \"Reset original view\", \"fa fa-home icon-home\", \"home\"], [\"Back\", \"Back to previous view\", \"fa fa-arrow-left icon-arrow-left\", \"back\"], [\"Forward\", \"Forward to next view\", \"fa fa-arrow-right icon-arrow-right\", \"forward\"], [\"\", \"\", \"\", \"\"], [\"Pan\", \"Pan axes with left mouse, zoom with right\", \"fa fa-arrows icon-move\", \"pan\"], [\"Zoom\", \"Zoom to rectangle\", \"fa fa-square-o icon-check-empty\", \"zoom\"], [\"\", \"\", \"\", \"\"], [\"Download\", \"Download plot\", \"fa fa-floppy-o icon-save\", \"download\"]];\n",
       "\n",
       "mpl.extensions = [\"eps\", \"jpeg\", \"pdf\", \"png\", \"ps\", \"raw\", \"svg\", \"tif\"];\n",
       "\n",
       "mpl.default_extension = \"png\";var comm_websocket_adapter = function(comm) {\n",
       "    // Create a \"websocket\"-like object which calls the given IPython comm\n",
       "    // object with the appropriate methods. Currently this is a non binary\n",
       "    // socket, so there is still some room for performance tuning.\n",
       "    var ws = {};\n",
       "\n",
       "    ws.close = function() {\n",
       "        comm.close()\n",
       "    };\n",
       "    ws.send = function(m) {\n",
       "        //console.log('sending', m);\n",
       "        comm.send(m);\n",
       "    };\n",
       "    // Register the callback with on_msg.\n",
       "    comm.on_msg(function(msg) {\n",
       "        //console.log('receiving', msg['content']['data'], msg);\n",
       "        // Pass the mpl event to the overridden (by mpl) onmessage function.\n",
       "        ws.onmessage(msg['content']['data'])\n",
       "    });\n",
       "    return ws;\n",
       "}\n",
       "\n",
       "mpl.mpl_figure_comm = function(comm, msg) {\n",
       "    // This is the function which gets called when the mpl process\n",
       "    // starts-up an IPython Comm through the \"matplotlib\" channel.\n",
       "\n",
       "    var id = msg.content.data.id;\n",
       "    // Get hold of the div created by the display call when the Comm\n",
       "    // socket was opened in Python.\n",
       "    var element = $(\"#\" + id);\n",
       "    var ws_proxy = comm_websocket_adapter(comm)\n",
       "\n",
       "    function ondownload(figure, format) {\n",
       "        window.open(figure.imageObj.src);\n",
       "    }\n",
       "\n",
       "    var fig = new mpl.figure(id, ws_proxy,\n",
       "                           ondownload,\n",
       "                           element.get(0));\n",
       "\n",
       "    // Call onopen now - mpl needs it, as it is assuming we've passed it a real\n",
       "    // web socket which is closed, not our websocket->open comm proxy.\n",
       "    ws_proxy.onopen();\n",
       "\n",
       "    fig.parent_element = element.get(0);\n",
       "    fig.cell_info = mpl.find_output_cell(\"<div id='\" + id + \"'></div>\");\n",
       "    if (!fig.cell_info) {\n",
       "        console.error(\"Failed to find cell for figure\", id, fig);\n",
       "        return;\n",
       "    }\n",
       "\n",
       "    var output_index = fig.cell_info[2]\n",
       "    var cell = fig.cell_info[0];\n",
       "\n",
       "};\n",
       "\n",
       "mpl.figure.prototype.handle_close = function(fig, msg) {\n",
       "    var width = fig.canvas.width/mpl.ratio\n",
       "    fig.root.unbind('remove')\n",
       "\n",
       "    // Update the output cell to use the data from the current canvas.\n",
       "    fig.push_to_output();\n",
       "    var dataURL = fig.canvas.toDataURL();\n",
       "    // Re-enable the keyboard manager in IPython - without this line, in FF,\n",
       "    // the notebook keyboard shortcuts fail.\n",
       "    IPython.keyboard_manager.enable()\n",
       "    $(fig.parent_element).html('<img src=\"' + dataURL + '\" width=\"' + width + '\">');\n",
       "    fig.close_ws(fig, msg);\n",
       "}\n",
       "\n",
       "mpl.figure.prototype.close_ws = function(fig, msg){\n",
       "    fig.send_message('closing', msg);\n",
       "    // fig.ws.close()\n",
       "}\n",
       "\n",
       "mpl.figure.prototype.push_to_output = function(remove_interactive) {\n",
       "    // Turn the data on the canvas into data in the output cell.\n",
       "    var width = this.canvas.width/mpl.ratio\n",
       "    var dataURL = this.canvas.toDataURL();\n",
       "    this.cell_info[1]['text/html'] = '<img src=\"' + dataURL + '\" width=\"' + width + '\">';\n",
       "}\n",
       "\n",
       "mpl.figure.prototype.updated_canvas_event = function() {\n",
       "    // Tell IPython that the notebook contents must change.\n",
       "    IPython.notebook.set_dirty(true);\n",
       "    this.send_message(\"ack\", {});\n",
       "    var fig = this;\n",
       "    // Wait a second, then push the new image to the DOM so\n",
       "    // that it is saved nicely (might be nice to debounce this).\n",
       "    setTimeout(function () { fig.push_to_output() }, 1000);\n",
       "}\n",
       "\n",
       "mpl.figure.prototype._init_toolbar = function() {\n",
       "    var fig = this;\n",
       "\n",
       "    var nav_element = $('<div/>');\n",
       "    nav_element.attr('style', 'width: 100%');\n",
       "    this.root.append(nav_element);\n",
       "\n",
       "    // Define a callback function for later on.\n",
       "    function toolbar_event(event) {\n",
       "        return fig.toolbar_button_onclick(event['data']);\n",
       "    }\n",
       "    function toolbar_mouse_event(event) {\n",
       "        return fig.toolbar_button_onmouseover(event['data']);\n",
       "    }\n",
       "\n",
       "    for(var toolbar_ind in mpl.toolbar_items){\n",
       "        var name = mpl.toolbar_items[toolbar_ind][0];\n",
       "        var tooltip = mpl.toolbar_items[toolbar_ind][1];\n",
       "        var image = mpl.toolbar_items[toolbar_ind][2];\n",
       "        var method_name = mpl.toolbar_items[toolbar_ind][3];\n",
       "\n",
       "        if (!name) { continue; };\n",
       "\n",
       "        var button = $('<button class=\"btn btn-default\" href=\"#\" title=\"' + name + '\"><i class=\"fa ' + image + ' fa-lg\"></i></button>');\n",
       "        button.click(method_name, toolbar_event);\n",
       "        button.mouseover(tooltip, toolbar_mouse_event);\n",
       "        nav_element.append(button);\n",
       "    }\n",
       "\n",
       "    // Add the status bar.\n",
       "    var status_bar = $('<span class=\"mpl-message\" style=\"text-align:right; float: right;\"/>');\n",
       "    nav_element.append(status_bar);\n",
       "    this.message = status_bar[0];\n",
       "\n",
       "    // Add the close button to the window.\n",
       "    var buttongrp = $('<div class=\"btn-group inline pull-right\"></div>');\n",
       "    var button = $('<button class=\"btn btn-mini btn-primary\" href=\"#\" title=\"Stop Interaction\"><i class=\"fa fa-power-off icon-remove icon-large\"></i></button>');\n",
       "    button.click(function (evt) { fig.handle_close(fig, {}); } );\n",
       "    button.mouseover('Stop Interaction', toolbar_mouse_event);\n",
       "    buttongrp.append(button);\n",
       "    var titlebar = this.root.find($('.ui-dialog-titlebar'));\n",
       "    titlebar.prepend(buttongrp);\n",
       "}\n",
       "\n",
       "mpl.figure.prototype._root_extra_style = function(el){\n",
       "    var fig = this\n",
       "    el.on(\"remove\", function(){\n",
       "\tfig.close_ws(fig, {});\n",
       "    });\n",
       "}\n",
       "\n",
       "mpl.figure.prototype._canvas_extra_style = function(el){\n",
       "    // this is important to make the div 'focusable\n",
       "    el.attr('tabindex', 0)\n",
       "    // reach out to IPython and tell the keyboard manager to turn it's self\n",
       "    // off when our div gets focus\n",
       "\n",
       "    // location in version 3\n",
       "    if (IPython.notebook.keyboard_manager) {\n",
       "        IPython.notebook.keyboard_manager.register_events(el);\n",
       "    }\n",
       "    else {\n",
       "        // location in version 2\n",
       "        IPython.keyboard_manager.register_events(el);\n",
       "    }\n",
       "\n",
       "}\n",
       "\n",
       "mpl.figure.prototype._key_event_extra = function(event, name) {\n",
       "    var manager = IPython.notebook.keyboard_manager;\n",
       "    if (!manager)\n",
       "        manager = IPython.keyboard_manager;\n",
       "\n",
       "    // Check for shift+enter\n",
       "    if (event.shiftKey && event.which == 13) {\n",
       "        this.canvas_div.blur();\n",
       "        // select the cell after this one\n",
       "        var index = IPython.notebook.find_cell_index(this.cell_info[0]);\n",
       "        IPython.notebook.select(index + 1);\n",
       "    }\n",
       "}\n",
       "\n",
       "mpl.figure.prototype.handle_save = function(fig, msg) {\n",
       "    fig.ondownload(fig, null);\n",
       "}\n",
       "\n",
       "\n",
       "mpl.find_output_cell = function(html_output) {\n",
       "    // Return the cell and output element which can be found *uniquely* in the notebook.\n",
       "    // Note - this is a bit hacky, but it is done because the \"notebook_saving.Notebook\"\n",
       "    // IPython event is triggered only after the cells have been serialised, which for\n",
       "    // our purposes (turning an active figure into a static one), is too late.\n",
       "    var cells = IPython.notebook.get_cells();\n",
       "    var ncells = cells.length;\n",
       "    for (var i=0; i<ncells; i++) {\n",
       "        var cell = cells[i];\n",
       "        if (cell.cell_type === 'code'){\n",
       "            for (var j=0; j<cell.output_area.outputs.length; j++) {\n",
       "                var data = cell.output_area.outputs[j];\n",
       "                if (data.data) {\n",
       "                    // IPython >= 3 moved mimebundle to data attribute of output\n",
       "                    data = data.data;\n",
       "                }\n",
       "                if (data['text/html'] == html_output) {\n",
       "                    return [cell, data, j];\n",
       "                }\n",
       "            }\n",
       "        }\n",
       "    }\n",
       "}\n",
       "\n",
       "// Register the function which deals with the matplotlib target/channel.\n",
       "// The kernel may be null if the page has been refreshed.\n",
       "if (IPython.notebook.kernel != null) {\n",
       "    IPython.notebook.kernel.comm_manager.register_target('matplotlib', mpl.mpl_figure_comm);\n",
       "}\n"
      ],
      "text/plain": [
       "<IPython.core.display.Javascript object>"
      ]
     },
     "metadata": {},
     "output_type": "display_data"
    },
    {
     "data": {
      "text/html": [
       "<img src=\"data:image/png;base64,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\" width=\"640\">"
      ],
      "text/plain": [
       "<IPython.core.display.HTML object>"
      ]
     },
     "metadata": {},
     "output_type": "display_data"
    },
    {
     "data": {
      "text/plain": [
       "Text(0.5, 0.98, 'Add Decomposition')"
      ]
     },
     "execution_count": 4,
     "metadata": {},
     "output_type": "execute_result"
    }
   ],
   "source": [
    "# Test 1 sample fraud\n",
    "sample_fr = df[df.meter_id == 'PP01000103454001']\n",
    "print(sample_fr['consumption'].describe())\n",
    "y = sample_fr['consumption']\n",
    "x = sample_fr.index\n",
    "from statsmodels.tsa.seasonal import seasonal_decompose\n",
    "result_add = seasonal_decompose(sample_fr['consumption'], model = 'additive', extrapolate_trend='freq')\n",
    "result_add.plot().suptitle('Add Decomposition')"
   ]
  },
  {
   "cell_type": "code",
   "execution_count": 5,
   "metadata": {
    "scrolled": true
   },
   "outputs": [
    {
     "data": {
      "application/vnd.jupyter.widget-view+json": {
       "model_id": "61e5014ad4e140eab57caa4a4cecad00",
       "version_major": 2,
       "version_minor": 0
      },
      "text/plain": [
       "HBox(children=(FloatProgress(value=0.0, max=1067.0), HTML(value='')))"
      ]
     },
     "metadata": {},
     "output_type": "display_data"
    },
    {
     "name": "stdout",
     "output_type": "stream",
     "text": [
      "\n"
     ]
    }
   ],
   "source": [
    "from statsmodels.tsa.seasonal import seasonal_decompose\n",
    "\n",
    "list_mdd = df.meter_id.unique()\n",
    "df2 = pd.DataFrame()\n",
    "fault_mdd = []\n",
    "for mdd in tq.tqdm(list_mdd) :\n",
    "    sample_fr = df[df.meter_id == mdd]\n",
    "    try :\n",
    "        result_add = seasonal_decompose(sample_fr['consumption'], model = 'additive', extrapolate_trend='freq')\n",
    "    except :\n",
    "        fault_mdd.append(mdd)\n",
    "        continue\n",
    "    sample_fr['deseasonal'] = result_add.resid\n",
    "    sample_fr.drop(['consumption'], axis = 1, inplace = True)\n",
    "    df2 = pd.concat([df2, sample_fr])"
   ]
  },
  {
   "cell_type": "code",
   "execution_count": 6,
   "metadata": {},
   "outputs": [],
   "source": [
    "df2['START_WEEKDAY'] = df2.index.to_period('W').start_time"
   ]
  },
  {
   "cell_type": "code",
   "execution_count": 7,
   "metadata": {},
   "outputs": [],
   "source": [
    "df2 = df2[df2['START_WEEKDAY'] != '2016-12-26']\n",
    "df2 = df2[df2['START_WEEKDAY'] != '2018-03-26']"
   ]
  },
  {
   "cell_type": "code",
   "execution_count": 8,
   "metadata": {},
   "outputs": [],
   "source": [
    "df2 = df2.groupby(['meter_id', 'START_WEEKDAY'])['deseasonal'].apply(list)"
   ]
  },
  {
   "cell_type": "code",
   "execution_count": 9,
   "metadata": {},
   "outputs": [],
   "source": [
    "df2 = pd.DataFrame(df2)\n",
    "df2.reset_index(inplace = True)"
   ]
  },
  {
   "cell_type": "code",
   "execution_count": 10,
   "metadata": {},
   "outputs": [
    {
     "data": {
      "text/html": [
       "<div>\n",
       "<style scoped>\n",
       "    .dataframe tbody tr th:only-of-type {\n",
       "        vertical-align: middle;\n",
       "    }\n",
       "\n",
       "    .dataframe tbody tr th {\n",
       "        vertical-align: top;\n",
       "    }\n",
       "\n",
       "    .dataframe thead th {\n",
       "        text-align: right;\n",
       "    }\n",
       "</style>\n",
       "<table border=\"1\" class=\"dataframe\">\n",
       "  <thead>\n",
       "    <tr style=\"text-align: right;\">\n",
       "      <th></th>\n",
       "      <th>meter_id</th>\n",
       "      <th>START_WEEKDAY</th>\n",
       "      <th>deseasonal</th>\n",
       "    </tr>\n",
       "  </thead>\n",
       "  <tbody>\n",
       "    <tr>\n",
       "      <th>0</th>\n",
       "      <td>PP01000100340001</td>\n",
       "      <td>2017-01-02</td>\n",
       "      <td>[0.3212745633384745, 0.04002317537240359, -0.1...</td>\n",
       "    </tr>\n",
       "    <tr>\n",
       "      <th>1</th>\n",
       "      <td>PP01000100340001</td>\n",
       "      <td>2017-01-09</td>\n",
       "      <td>[0.03204132304612953, 0.19598391954323943, -0....</td>\n",
       "    </tr>\n",
       "    <tr>\n",
       "      <th>2</th>\n",
       "      <td>PP01000100340001</td>\n",
       "      <td>2017-01-16</td>\n",
       "      <td>[-0.1214790654414318, -0.10096256275443354, 0....</td>\n",
       "    </tr>\n",
       "    <tr>\n",
       "      <th>3</th>\n",
       "      <td>PP01000100340001</td>\n",
       "      <td>2017-01-23</td>\n",
       "      <td>[0.0682605023140748, -0.04394155829060879, -0....</td>\n",
       "    </tr>\n",
       "    <tr>\n",
       "      <th>4</th>\n",
       "      <td>PP01000100340001</td>\n",
       "      <td>2017-01-30</td>\n",
       "      <td>[-0.11634679281381541, 0.4801489820504065, 0.0...</td>\n",
       "    </tr>\n",
       "  </tbody>\n",
       "</table>\n",
       "</div>"
      ],
      "text/plain": [
       "           meter_id START_WEEKDAY  \\\n",
       "0  PP01000100340001    2017-01-02   \n",
       "1  PP01000100340001    2017-01-09   \n",
       "2  PP01000100340001    2017-01-16   \n",
       "3  PP01000100340001    2017-01-23   \n",
       "4  PP01000100340001    2017-01-30   \n",
       "\n",
       "                                          deseasonal  \n",
       "0  [0.3212745633384745, 0.04002317537240359, -0.1...  \n",
       "1  [0.03204132304612953, 0.19598391954323943, -0....  \n",
       "2  [-0.1214790654414318, -0.10096256275443354, 0....  \n",
       "3  [0.0682605023140748, -0.04394155829060879, -0....  \n",
       "4  [-0.11634679281381541, 0.4801489820504065, 0.0...  "
      ]
     },
     "execution_count": 10,
     "metadata": {},
     "output_type": "execute_result"
    }
   ],
   "source": [
    "df2.head()"
   ]
  },
  {
   "cell_type": "code",
   "execution_count": 11,
   "metadata": {},
   "outputs": [
    {
     "data": {
      "application/vnd.jupyter.widget-view+json": {
       "model_id": "611bfdbb5ea54b9c92b5bdb2b2aafe4b",
       "version_major": 2,
       "version_minor": 0
      },
      "text/plain": [
       "HBox(children=(FloatProgress(value=0.0, max=66759.0), HTML(value='')))"
      ]
     },
     "metadata": {},
     "output_type": "display_data"
    },
    {
     "name": "stdout",
     "output_type": "stream",
     "text": [
      "\n"
     ]
    }
   ],
   "source": [
    "from tqdm import tqdm\n",
    "drop_list = []\n",
    "for ind in tq.tqdm(range(df2.shape[0])):\n",
    "    len_list_consumption = len(list(df2[df2.index == ind ]['deseasonal'])[0])\n",
    "    if len_list_consumption != 7 :\n",
    "        df2.drop(ind , inplace=True)\n",
    "        drop_list.append(ind)"
   ]
  },
  {
   "cell_type": "code",
   "execution_count": 12,
   "metadata": {},
   "outputs": [
    {
     "data": {
      "text/plain": [
       "219"
      ]
     },
     "execution_count": 12,
     "metadata": {},
     "output_type": "execute_result"
    }
   ],
   "source": [
    "len(drop_list)"
   ]
  },
  {
   "cell_type": "code",
   "execution_count": 13,
   "metadata": {},
   "outputs": [],
   "source": [
    "list_col = ['T' + str(i + 2) for i in range(6)] + ['CN']\n",
    "df2[list_col] = pd.DataFrame(df2.deseasonal.tolist(), index= df2.index)\n",
    "df2.drop('deseasonal', axis = 1, inplace = True)"
   ]
  },
  {
   "cell_type": "code",
   "execution_count": 15,
   "metadata": {},
   "outputs": [
    {
     "data": {
      "text/html": [
       "<div>\n",
       "<style scoped>\n",
       "    .dataframe tbody tr th:only-of-type {\n",
       "        vertical-align: middle;\n",
       "    }\n",
       "\n",
       "    .dataframe tbody tr th {\n",
       "        vertical-align: top;\n",
       "    }\n",
       "\n",
       "    .dataframe thead th {\n",
       "        text-align: right;\n",
       "    }\n",
       "</style>\n",
       "<table border=\"1\" class=\"dataframe\">\n",
       "  <thead>\n",
       "    <tr style=\"text-align: right;\">\n",
       "      <th></th>\n",
       "      <th>meter_id</th>\n",
       "      <th>START_WEEKDAY</th>\n",
       "      <th>T2</th>\n",
       "      <th>T3</th>\n",
       "      <th>T4</th>\n",
       "      <th>T5</th>\n",
       "      <th>T6</th>\n",
       "      <th>T7</th>\n",
       "      <th>CN</th>\n",
       "    </tr>\n",
       "  </thead>\n",
       "  <tbody>\n",
       "    <tr>\n",
       "      <th>0</th>\n",
       "      <td>PP01000100340001</td>\n",
       "      <td>2017-01-02</td>\n",
       "      <td>0.321275</td>\n",
       "      <td>0.040023</td>\n",
       "      <td>-0.185360</td>\n",
       "      <td>-0.097297</td>\n",
       "      <td>0.104045</td>\n",
       "      <td>-0.170828</td>\n",
       "      <td>-0.082016</td>\n",
       "    </tr>\n",
       "    <tr>\n",
       "      <th>1</th>\n",
       "      <td>PP01000100340001</td>\n",
       "      <td>2017-01-09</td>\n",
       "      <td>0.032041</td>\n",
       "      <td>0.195984</td>\n",
       "      <td>-0.085221</td>\n",
       "      <td>-0.029924</td>\n",
       "      <td>-0.038465</td>\n",
       "      <td>0.257508</td>\n",
       "      <td>-0.087102</td>\n",
       "    </tr>\n",
       "    <tr>\n",
       "      <th>2</th>\n",
       "      <td>PP01000100340001</td>\n",
       "      <td>2017-01-16</td>\n",
       "      <td>-0.121479</td>\n",
       "      <td>-0.100963</td>\n",
       "      <td>0.163844</td>\n",
       "      <td>-0.019069</td>\n",
       "      <td>-0.015114</td>\n",
       "      <td>-0.049732</td>\n",
       "      <td>0.037160</td>\n",
       "    </tr>\n",
       "    <tr>\n",
       "      <th>3</th>\n",
       "      <td>PP01000100340001</td>\n",
       "      <td>2017-01-23</td>\n",
       "      <td>0.068261</td>\n",
       "      <td>-0.043942</td>\n",
       "      <td>-0.103193</td>\n",
       "      <td>0.052646</td>\n",
       "      <td>-0.041660</td>\n",
       "      <td>-0.019876</td>\n",
       "      <td>-0.100347</td>\n",
       "    </tr>\n",
       "    <tr>\n",
       "      <th>4</th>\n",
       "      <td>PP01000100340001</td>\n",
       "      <td>2017-01-30</td>\n",
       "      <td>-0.116347</td>\n",
       "      <td>0.480149</td>\n",
       "      <td>0.071689</td>\n",
       "      <td>-0.106295</td>\n",
       "      <td>-0.104815</td>\n",
       "      <td>-0.078869</td>\n",
       "      <td>0.087206</td>\n",
       "    </tr>\n",
       "    <tr>\n",
       "      <th>5</th>\n",
       "      <td>PP01000100340001</td>\n",
       "      <td>2017-02-06</td>\n",
       "      <td>0.016099</td>\n",
       "      <td>0.203092</td>\n",
       "      <td>-0.265088</td>\n",
       "      <td>0.027258</td>\n",
       "      <td>0.054575</td>\n",
       "      <td>-0.230237</td>\n",
       "      <td>0.112182</td>\n",
       "    </tr>\n",
       "    <tr>\n",
       "      <th>6</th>\n",
       "      <td>PP01000100340001</td>\n",
       "      <td>2017-02-13</td>\n",
       "      <td>0.063714</td>\n",
       "      <td>-0.180602</td>\n",
       "      <td>0.215548</td>\n",
       "      <td>-0.124153</td>\n",
       "      <td>-0.062891</td>\n",
       "      <td>0.413819</td>\n",
       "      <td>-0.006201</td>\n",
       "    </tr>\n",
       "  </tbody>\n",
       "</table>\n",
       "</div>"
      ],
      "text/plain": [
       "           meter_id START_WEEKDAY        T2        T3        T4        T5  \\\n",
       "0  PP01000100340001    2017-01-02  0.321275  0.040023 -0.185360 -0.097297   \n",
       "1  PP01000100340001    2017-01-09  0.032041  0.195984 -0.085221 -0.029924   \n",
       "2  PP01000100340001    2017-01-16 -0.121479 -0.100963  0.163844 -0.019069   \n",
       "3  PP01000100340001    2017-01-23  0.068261 -0.043942 -0.103193  0.052646   \n",
       "4  PP01000100340001    2017-01-30 -0.116347  0.480149  0.071689 -0.106295   \n",
       "5  PP01000100340001    2017-02-06  0.016099  0.203092 -0.265088  0.027258   \n",
       "6  PP01000100340001    2017-02-13  0.063714 -0.180602  0.215548 -0.124153   \n",
       "\n",
       "         T6        T7        CN  \n",
       "0  0.104045 -0.170828 -0.082016  \n",
       "1 -0.038465  0.257508 -0.087102  \n",
       "2 -0.015114 -0.049732  0.037160  \n",
       "3 -0.041660 -0.019876 -0.100347  \n",
       "4 -0.104815 -0.078869  0.087206  \n",
       "5  0.054575 -0.230237  0.112182  \n",
       "6 -0.062891  0.413819 -0.006201  "
      ]
     },
     "execution_count": 15,
     "metadata": {},
     "output_type": "execute_result"
    }
   ],
   "source": [
    "df2.head(7)"
   ]
  },
  {
   "cell_type": "code",
   "execution_count": 17,
   "metadata": {},
   "outputs": [],
   "source": [
    "fraud_milestones = [('PP07000684209001','2017-12-29'),\n",
    " ('PP07000670259001','2017-01-03'),\n",
    " ('PP07000693227001','2017-08-14'),\n",
    " ('PP07000713473001','2017-04-12'),\n",
    " ('PP07000662970001','2017-03-02'),\n",
    " ('PP07000700839001','2017-05-23'),\n",
    " ('PP07000668984001','2017-08-24'),\n",
    " ('PP07000683751001','2017-10-25'),\n",
    " ('PP07000683750001','2017-10-25'),\n",
    " ('PP07000613734001','2017-03-24'),\n",
    " ('PP07000673219001','2017-04-24'),\n",
    " ('PP07000682085001','2017-10-27'),\n",
    " ('PP07000613618001','2017-11-29'),\n",
    " ('PP07000600208001','2017-10-05'),\n",
    " ('PP07000600209001','2017-10-05'),\n",
    " ('PP07000678169001','2017-07-06'),\n",
    " ('PP01000134773001','2017-12-12'),\n",
    " ('PP01000624985001','2017-12-28'),\n",
    " ('PP01000621525001','2017-01-11'),\n",
    " ('PP01000117448001','2017-04-14'),\n",
    " ('PP01000117849001','2017-10-25'),\n",
    " ('PP01000110500001','2017-03-27'),\n",
    " (\"PP01000103859001\",\"2017-10-30\"),\n",
    " ('PP01000131431001','2017-04-03'),\n",
    " (\"PP01000103454001\",'2017-08-03'),\n",
    " ('PP01000101145001','2017-03-06'),\n",
    " ('PP01000140094001','2017-01-09'),\n",
    " ('PP01000101975001','2017-02-07'),\n",
    " ('PP03000810040001','2017-08-12'),\n",
    " ('PP03000832565001','2017-06-13'),\n",
    " ('PP03000806717001','2017-07-12'),\n",
    " ('PP03000902373001','2017-07-17'),\n",
    " ('PP03000809863001','2017-12-19'),\n",
    " ('PP03000882852001','2017-12-21'),\n",
    " ('PP03000902981001','2017-04-21'),\n",
    " ('PP03000804097001','2017-06-24'),\n",
    " ('PP03000805922001','2017-09-25'),\n",
    " ('PP03000804137001','2017-10-30'),\n",
    " ('PP03000904351001','2017-03-28'),\n",
    " ('PP03000898466001','2017-06-29'),\n",
    " ('PP05000989390001','2017-05-02'),\n",
    " ('PP05000948327001','2017-08-10'),\n",
    " ('PP05000977900001','2017-01-13'),\n",
    " ('PP05000501075001','2017-01-13'),\n",
    " ('PP05000501411001','2017-10-13'),\n",
    " ('PP05000524904001','2017-04-13'),\n",
    " ('PP05000951373001','2017-04-14'),\n",
    " ('PP05000967512001','2017-03-15'),\n",
    " ('PP05000960339001','2017-03-15'),\n",
    " ('PP05000515674001','2017-04-18'),\n",
    " ('PP05000967753001','2017-07-20'),\n",
    " ('PP05000944240001','2017-05-22'),\n",
    " ('PP05000504291001','2017-04-21'),\n",
    " ('PP05000968892001','2017-05-22'),\n",
    " ('PP05000961578001','2017-05-22'),\n",
    " ('PP05000953931001','2017-11-23'),\n",
    " ('PP05000502843001','2017-02-24'),\n",
    " ('PP05000941329001','2017-11-25'),\n",
    " ('PP05000509756001','2017-08-30'),\n",
    " ('PP05000524362001','2017-01-04'),\n",
    " ('PP05000516894001','2017-04-05'),\n",
    " ('PP05000522325001',\"2017-12-06\"),\n",
    " ('PP05000517007001','2017-08-07'),\n",
    " ('PP05000515078001','2017-03-09'),\n",
    " ('PP05000991348001','2017-05-09'),\n",
    " ('PP09000810551001','2017-08-11'),\n",
    " ('PP09000884920001','2017-04-11'),\n",
    " ('PP09000802199001','2017-09-11'),\n",
    " ('PP09000811262001','2017-02-13'),\n",
    " ('PP09000120555001','2017-04-17'),\n",
    " ('PP09000890287001','2017-02-20'),\n",
    " ('PP09000808752001','2017-12-21'),\n",
    " ('PP09000817228001','2017-10-24'),\n",
    " ('PP09000907245001','2017-11-24'),\n",
    " ('PP09000821975001','2017-10-28'),\n",
    " ('PP09000837585001','2017-11-28'),\n",
    " ('PP09000808816001','2017-12-28'),\n",
    " ('PP09000808816001','2017-04-29'),\n",
    " ('PP09000892588001','2017-10-31'),\n",
    " ('PP09000894390001','2017-10-31'),\n",
    " (\"PP09000894706001\",\"2017-12-08\") \n",
    "]"
   ]
  },
  {
   "cell_type": "code",
   "execution_count": 18,
   "metadata": {},
   "outputs": [],
   "source": [
    "list_fraud = [i[0] for i in fraud_milestones]\n",
    "list_mdd = df2.meter_id.unique()"
   ]
  },
  {
   "cell_type": "code",
   "execution_count": 19,
   "metadata": {},
   "outputs": [
    {
     "data": {
      "text/plain": [
       "(66540, 9)"
      ]
     },
     "execution_count": 19,
     "metadata": {},
     "output_type": "execute_result"
    }
   ],
   "source": [
    "df2.shape"
   ]
  },
  {
   "cell_type": "code",
   "execution_count": 333,
   "metadata": {},
   "outputs": [],
   "source": [
    "# for _p in fraud_milestones :\n",
    "#     if _p[0] in list_mdd:\n",
    "#         df2.drop(df2[(df2.meter_id == _p[0]) & (df2.START_WEEKDAY > _p[1])].index, inplace=True)"
   ]
  },
  {
   "cell_type": "code",
   "execution_count": 20,
   "metadata": {},
   "outputs": [],
   "source": [
    "df3 = pd.read_csv(\"dataset/residual_weekly_consumption.csv\")"
   ]
  },
  {
   "cell_type": "markdown",
   "metadata": {},
   "source": [
    "## Clustering"
   ]
  },
  {
   "cell_type": "code",
   "execution_count": 109,
   "metadata": {},
   "outputs": [],
   "source": [
    "X_normalized = df2.iloc[:, 2:]"
   ]
  },
  {
   "cell_type": "code",
   "execution_count": 108,
   "metadata": {},
   "outputs": [],
   "source": [
    "# With scaling\n",
    "from sklearn.preprocessing import StandardScaler\n",
    "from sklearn.preprocessing import normalize\n",
    "\n",
    "scaler = StandardScaler()\n",
    "X = scaler.fit_transform(df2.iloc[:, 2:])\n",
    "X = pd.DataFrame(X)\n",
    "X_normalized = X\n",
    "\n"
   ]
  },
  {
   "cell_type": "code",
   "execution_count": 110,
   "metadata": {},
   "outputs": [],
   "source": [
    "from sklearn.cluster import KMeans\n",
    "\n",
    "distance_used = utils_cl.distance_ED\n",
    "cluster_number = 3\n",
    "n_iters = 500\n",
    "\n",
    "km = KMeans(n_clusters=cluster_number,\n",
    "            max_iter=n_iters,\n",
    "            tol = 1e-8,\n",
    "            random_state=0)\n",
    "\n",
    "y_km = km.fit_predict(X_normalized)\n",
    "centroids = km.cluster_centers_"
   ]
  },
  {
   "cell_type": "code",
   "execution_count": 111,
   "metadata": {},
   "outputs": [
    {
     "data": {
      "text/plain": [
       "Counter({0: 66538, 1: 1, 2: 1})"
      ]
     },
     "execution_count": 111,
     "metadata": {},
     "output_type": "execute_result"
    }
   ],
   "source": [
    "from collections import Counter\n",
    "Counter(y_km)"
   ]
  },
  {
   "cell_type": "code",
   "execution_count": 112,
   "metadata": {},
   "outputs": [
    {
     "data": {
      "application/vnd.jupyter.widget-view+json": {
       "model_id": "477f6adf2c514756ae8577d149594f82",
       "version_major": 2,
       "version_minor": 0
      },
      "text/plain": [
       "HBox(children=(FloatProgress(value=0.0, max=66540.0), HTML(value='')))"
      ]
     },
     "metadata": {},
     "output_type": "display_data"
    },
    {
     "name": "stdout",
     "output_type": "stream",
     "text": [
      "\n"
     ]
    }
   ],
   "source": [
    "# distance of members to center in each cluster\n",
    "dict_DC = {}\n",
    "\n",
    "for i in range(cluster_number):\n",
    "    dict_DC[i+1] = []\n",
    "for i, j in tq.tqdm_notebook(enumerate(y_km), total = len(y_km)):        \n",
    "    dict_DC[j+1].append(distance_used(centroids[j], X_normalized.iloc[i, :]))"
   ]
  },
  {
   "cell_type": "code",
   "execution_count": 113,
   "metadata": {},
   "outputs": [
    {
     "name": "stdout",
     "output_type": "stream",
     "text": [
      "average_radius : [0.8173257189472628, 0.0, 0.0]\n",
      "max_radius : [53.522069172913156, 0.0, 0.0]\n",
      "quantile_radius : [3.780327456092512, 0.0, 0.0]\n"
     ]
    }
   ],
   "source": [
    "# radius of each cluster\n",
    "quantile_radius = []\n",
    "percentile = 0.98\n",
    "for j in range(cluster_number):\n",
    "    quantile_radius.append(pd.DataFrame(dict_DC[j+1]).quantile(percentile, axis = 0)[0])\n",
    "average_radius = []\n",
    "for j in range(cluster_number):\n",
    "    average_radius.append(sum(dict_DC[j+1])/len(dict_DC[j+1]))\n",
    "max_radius = []\n",
    "for j in range(cluster_number):\n",
    "    max_radius.append(max(dict_DC[j+1]))\n",
    "\n",
    "print(\"average_radius :\",  average_radius)\n",
    "print(\"max_radius :\",  max_radius)\n",
    "print(\"quantile_radius :\",  quantile_radius)"
   ]
  },
  {
   "cell_type": "code",
   "execution_count": 114,
   "metadata": {},
   "outputs": [],
   "source": [
    "# KM\n",
    "def test_fraud_cluster(X_sample, cluster_belong, radius_cent, thresh_KM):\n",
    "    dist2cent = distance_used(X_sample, centroids[cluster_belong - 1])\n",
    "    is_fraud = (dist2cent > radius_cent[cluster_belong-1] * thresh_KM)\n",
    "    return is_fraud\n",
    "\n",
    "def prediction_result(test_set, radius_cent, thresh_KM = 1.0):\n",
    "    N = test_set.shape[0]\n",
    "    mdd_fraud_1week = []\n",
    "    Y_predict = []\n",
    "    ind_fraud_predicted = []\n",
    "    count_fraud_predicted = [0]*cluster_number\n",
    "    for i in tq.tqdm_notebook(range(N)):\n",
    "        X_sample = test_set.iloc[i, :]\n",
    "        cluster_belong = y_km[i] + 1\n",
    "        test_result = test_fraud_cluster(X_sample, cluster_belong, radius_cent, thresh_KM)\n",
    "        if test_result == True :\n",
    "            count_fraud_predicted[cluster_belong-1] += 1\n",
    "            mdd_fraud_1week.append(df2.iloc[i, 0])\n",
    "            ind_fraud_predicted.append(i)\n",
    "        Y_predict.append(test_result)\n",
    "    return list(set(mdd_fraud_1week)), Y_predict, ind_fraud_predicted,count_fraud_predicted"
   ]
  },
  {
   "cell_type": "code",
   "execution_count": 115,
   "metadata": {},
   "outputs": [
    {
     "data": {
      "application/vnd.jupyter.widget-view+json": {
       "model_id": "512a2f968ea7433e89ccfcf30945c9f4",
       "version_major": 2,
       "version_minor": 0
      },
      "text/plain": [
       "HBox(children=(FloatProgress(value=0.0, max=66540.0), HTML(value='')))"
      ]
     },
     "metadata": {},
     "output_type": "display_data"
    },
    {
     "name": "stdout",
     "output_type": "stream",
     "text": [
      "\n"
     ]
    }
   ],
   "source": [
    "test_set = X_normalized\n",
    "radius_cent = quantile_radius\n",
    "thresh_KM = 1\n",
    "\n",
    "mdd_fraud_1week, Y_predict, ind_fraud_predicted, count_fraud_predicted = prediction_result(test_set, radius_cent, thresh_KM)"
   ]
  },
  {
   "cell_type": "code",
   "execution_count": 116,
   "metadata": {},
   "outputs": [
    {
     "data": {
      "text/plain": [
       "[1331, 0, 0]"
      ]
     },
     "execution_count": 116,
     "metadata": {},
     "output_type": "execute_result"
    }
   ],
   "source": [
    "count_fraud_predicted"
   ]
  },
  {
   "cell_type": "code",
   "execution_count": 117,
   "metadata": {},
   "outputs": [
    {
     "data": {
      "text/plain": [
       "162"
      ]
     },
     "execution_count": 117,
     "metadata": {},
     "output_type": "execute_result"
    }
   ],
   "source": [
    "len(mdd_fraud_1week)"
   ]
  },
  {
   "cell_type": "markdown",
   "metadata": {},
   "source": [
    "## Pred"
   ]
  },
  {
   "cell_type": "code",
   "execution_count": 118,
   "metadata": {},
   "outputs": [],
   "source": [
    "test_df = pd.DataFrame()\n",
    "test_df['meter_id'] = df2.meter_id\n",
    "test_df['PRED'] = Y_predict\n",
    "test_df = test_df.groupby(['meter_id'])['PRED'].apply(list)"
   ]
  },
  {
   "cell_type": "code",
   "execution_count": 128,
   "metadata": {},
   "outputs": [],
   "source": [
    "consecutive_week = 2\n",
    "\n",
    "def test_consecutive_week(l):\n",
    "    n = len(l)\n",
    "    for i in range(n) :\n",
    "        if l[i] == True:\n",
    "            if sum(l[i : i+consecutive_week]) == consecutive_week:\n",
    "                return True\n",
    "        else :\n",
    "            continue\n",
    "    return False\n",
    "\n",
    "mdd_fraud_n_week = []\n",
    "for i in range(test_df.shape[0]):\n",
    "    l = test_df[i]\n",
    "    if test_consecutive_week(l):\n",
    "        mdd_fraud_n_week.append(test_df.index[i])\n",
    "        "
   ]
  },
  {
   "cell_type": "code",
   "execution_count": 129,
   "metadata": {},
   "outputs": [
    {
     "data": {
      "text/plain": [
       "77"
      ]
     },
     "execution_count": 129,
     "metadata": {},
     "output_type": "execute_result"
    }
   ],
   "source": [
    "len(mdd_fraud_n_week)"
   ]
  },
  {
   "cell_type": "code",
   "execution_count": 130,
   "metadata": {},
   "outputs": [
    {
     "name": "stdout",
     "output_type": "stream",
     "text": [
      "13\n"
     ]
    }
   ],
   "source": [
    "n_fraud = len(set(mdd_fraud_n_week) & set(list_fraud))\n",
    "print(n_fraud)"
   ]
  },
  {
   "cell_type": "code",
   "execution_count": 131,
   "metadata": {},
   "outputs": [
    {
     "data": {
      "text/plain": [
       "0.16049382716049382"
      ]
     },
     "execution_count": 131,
     "metadata": {},
     "output_type": "execute_result"
    }
   ],
   "source": [
    "n_fraud/len(list_fraud)"
   ]
  },
  {
   "cell_type": "code",
   "execution_count": 127,
   "metadata": {},
   "outputs": [
    {
     "data": {
      "text/plain": [
       "0.027"
      ]
     },
     "execution_count": 127,
     "metadata": {},
     "output_type": "execute_result"
    }
   ],
   "source": [
    "(len(mdd_fraud_n_week) - n_fraud)/1000"
   ]
  },
  {
   "cell_type": "code",
   "execution_count": 279,
   "metadata": {},
   "outputs": [],
   "source": [
    "# Result\n",
    "# 30% - 7%  - 4\n",
    "# 38% - 10% - 3\n",
    "# 47% - 18% - 2"
   ]
  },
  {
   "cell_type": "code",
   "execution_count": 246,
   "metadata": {},
   "outputs": [
    {
     "data": {
      "text/plain": [
       "['PP09000836297001']"
      ]
     },
     "execution_count": 246,
     "metadata": {},
     "output_type": "execute_result"
    }
   ],
   "source": [
    "mdd_fraud_n_week"
   ]
  },
  {
   "cell_type": "markdown",
   "metadata": {},
   "source": [
    "## Tunning percentile quantile"
   ]
  },
  {
   "cell_type": "code",
   "execution_count": 247,
   "metadata": {},
   "outputs": [
    {
     "data": {
      "application/vnd.jupyter.widget-view+json": {
       "model_id": "2192cfb091a0416a9745f5ebd393ba63",
       "version_major": 2,
       "version_minor": 0
      },
      "text/plain": [
       "HBox(children=(FloatProgress(value=0.0, max=9.0), HTML(value='')))"
      ]
     },
     "metadata": {},
     "output_type": "display_data"
    },
    {
     "data": {
      "application/vnd.jupyter.widget-view+json": {
       "model_id": "06231267f46c40afa15aff77af1f70a0",
       "version_major": 2,
       "version_minor": 0
      },
      "text/plain": [
       "HBox(children=(FloatProgress(value=0.0, max=64236.0), HTML(value='')))"
      ]
     },
     "metadata": {},
     "output_type": "display_data"
    },
    {
     "ename": "KeyboardInterrupt",
     "evalue": "",
     "output_type": "error",
     "traceback": [
      "\u001b[1;31m---------------------------------------------------------------------------\u001b[0m",
      "\u001b[1;31mKeyboardInterrupt\u001b[0m                         Traceback (most recent call last)",
      "\u001b[1;32m<ipython-input-247-387e1df2cfcd>\u001b[0m in \u001b[0;36m<module>\u001b[1;34m\u001b[0m\n\u001b[0;32m      8\u001b[0m     \u001b[0mradius_cent\u001b[0m \u001b[1;33m=\u001b[0m \u001b[0mquantile_radius\u001b[0m\u001b[1;33m\u001b[0m\u001b[1;33m\u001b[0m\u001b[0m\n\u001b[0;32m      9\u001b[0m     \u001b[0mthresh_KM\u001b[0m \u001b[1;33m=\u001b[0m \u001b[1;36m1\u001b[0m\u001b[1;33m\u001b[0m\u001b[1;33m\u001b[0m\u001b[0m\n\u001b[1;32m---> 10\u001b[1;33m     \u001b[0mmdd_fraud_1week\u001b[0m\u001b[1;33m,\u001b[0m \u001b[0mY_predict\u001b[0m\u001b[1;33m,\u001b[0m \u001b[0mind_fraud_predicted\u001b[0m\u001b[1;33m,\u001b[0m \u001b[0mcount_fraud_predicted\u001b[0m \u001b[1;33m=\u001b[0m \u001b[0mprediction_result\u001b[0m\u001b[1;33m(\u001b[0m\u001b[0mtest_set\u001b[0m\u001b[1;33m,\u001b[0m \u001b[0mradius_cent\u001b[0m\u001b[1;33m,\u001b[0m \u001b[0mthresh_KM\u001b[0m\u001b[1;33m)\u001b[0m\u001b[1;33m\u001b[0m\u001b[1;33m\u001b[0m\u001b[0m\n\u001b[0m\u001b[0;32m     11\u001b[0m     \u001b[0mtest_df\u001b[0m \u001b[1;33m=\u001b[0m \u001b[0mpd\u001b[0m\u001b[1;33m.\u001b[0m\u001b[0mDataFrame\u001b[0m\u001b[1;33m(\u001b[0m\u001b[1;33m)\u001b[0m\u001b[1;33m\u001b[0m\u001b[1;33m\u001b[0m\u001b[0m\n\u001b[0;32m     12\u001b[0m     \u001b[0mtest_df\u001b[0m\u001b[1;33m[\u001b[0m\u001b[1;34m'meter_id'\u001b[0m\u001b[1;33m]\u001b[0m \u001b[1;33m=\u001b[0m \u001b[0mdf2\u001b[0m\u001b[1;33m.\u001b[0m\u001b[0mmeter_id\u001b[0m\u001b[1;33m\u001b[0m\u001b[1;33m\u001b[0m\u001b[0m\n",
      "\u001b[1;32m<ipython-input-235-7fbeaa5eff6c>\u001b[0m in \u001b[0;36mprediction_result\u001b[1;34m(test_set, radius_cent, thresh_KM)\u001b[0m\n\u001b[0;32m     11\u001b[0m     \u001b[0mind_fraud_predicted\u001b[0m \u001b[1;33m=\u001b[0m \u001b[1;33m[\u001b[0m\u001b[1;33m]\u001b[0m\u001b[1;33m\u001b[0m\u001b[1;33m\u001b[0m\u001b[0m\n\u001b[0;32m     12\u001b[0m     \u001b[0mcount_fraud_predicted\u001b[0m \u001b[1;33m=\u001b[0m \u001b[1;33m[\u001b[0m\u001b[1;36m0\u001b[0m\u001b[1;33m]\u001b[0m\u001b[1;33m*\u001b[0m\u001b[0mcluster_number\u001b[0m\u001b[1;33m\u001b[0m\u001b[1;33m\u001b[0m\u001b[0m\n\u001b[1;32m---> 13\u001b[1;33m     \u001b[1;32mfor\u001b[0m \u001b[0mi\u001b[0m \u001b[1;32min\u001b[0m \u001b[0mtq\u001b[0m\u001b[1;33m.\u001b[0m\u001b[0mtqdm_notebook\u001b[0m\u001b[1;33m(\u001b[0m\u001b[0mrange\u001b[0m\u001b[1;33m(\u001b[0m\u001b[0mN\u001b[0m\u001b[1;33m)\u001b[0m\u001b[1;33m)\u001b[0m\u001b[1;33m:\u001b[0m\u001b[1;33m\u001b[0m\u001b[1;33m\u001b[0m\u001b[0m\n\u001b[0m\u001b[0;32m     14\u001b[0m         \u001b[0mX_sample\u001b[0m \u001b[1;33m=\u001b[0m \u001b[0mtest_set\u001b[0m\u001b[1;33m.\u001b[0m\u001b[0miloc\u001b[0m\u001b[1;33m[\u001b[0m\u001b[0mi\u001b[0m\u001b[1;33m,\u001b[0m \u001b[1;33m:\u001b[0m\u001b[1;33m]\u001b[0m\u001b[1;33m\u001b[0m\u001b[1;33m\u001b[0m\u001b[0m\n\u001b[0;32m     15\u001b[0m         \u001b[0mcluster_belong\u001b[0m \u001b[1;33m=\u001b[0m \u001b[0my_km\u001b[0m\u001b[1;33m[\u001b[0m\u001b[0mi\u001b[0m\u001b[1;33m]\u001b[0m \u001b[1;33m+\u001b[0m \u001b[1;36m1\u001b[0m\u001b[1;33m\u001b[0m\u001b[1;33m\u001b[0m\u001b[0m\n",
      "\u001b[1;32mD:\\Anaconda\\lib\\site-packages\\tqdm\\notebook.py\u001b[0m in \u001b[0;36m__iter__\u001b[1;34m(self, *args, **kwargs)\u001b[0m\n\u001b[0;32m    215\u001b[0m     \u001b[1;32mdef\u001b[0m \u001b[0m__iter__\u001b[0m\u001b[1;33m(\u001b[0m\u001b[0mself\u001b[0m\u001b[1;33m,\u001b[0m \u001b[1;33m*\u001b[0m\u001b[0margs\u001b[0m\u001b[1;33m,\u001b[0m \u001b[1;33m**\u001b[0m\u001b[0mkwargs\u001b[0m\u001b[1;33m)\u001b[0m\u001b[1;33m:\u001b[0m\u001b[1;33m\u001b[0m\u001b[1;33m\u001b[0m\u001b[0m\n\u001b[0;32m    216\u001b[0m         \u001b[1;32mtry\u001b[0m\u001b[1;33m:\u001b[0m\u001b[1;33m\u001b[0m\u001b[1;33m\u001b[0m\u001b[0m\n\u001b[1;32m--> 217\u001b[1;33m             \u001b[1;32mfor\u001b[0m \u001b[0mobj\u001b[0m \u001b[1;32min\u001b[0m \u001b[0msuper\u001b[0m\u001b[1;33m(\u001b[0m\u001b[0mtqdm_notebook\u001b[0m\u001b[1;33m,\u001b[0m \u001b[0mself\u001b[0m\u001b[1;33m)\u001b[0m\u001b[1;33m.\u001b[0m\u001b[0m__iter__\u001b[0m\u001b[1;33m(\u001b[0m\u001b[1;33m*\u001b[0m\u001b[0margs\u001b[0m\u001b[1;33m,\u001b[0m \u001b[1;33m**\u001b[0m\u001b[0mkwargs\u001b[0m\u001b[1;33m)\u001b[0m\u001b[1;33m:\u001b[0m\u001b[1;33m\u001b[0m\u001b[1;33m\u001b[0m\u001b[0m\n\u001b[0m\u001b[0;32m    218\u001b[0m                 \u001b[1;31m# return super(tqdm...) will not catch exception\u001b[0m\u001b[1;33m\u001b[0m\u001b[1;33m\u001b[0m\u001b[1;33m\u001b[0m\u001b[0m\n\u001b[0;32m    219\u001b[0m                 \u001b[1;32myield\u001b[0m \u001b[0mobj\u001b[0m\u001b[1;33m\u001b[0m\u001b[1;33m\u001b[0m\u001b[0m\n",
      "\u001b[1;32mD:\\Anaconda\\lib\\site-packages\\tqdm\\std.py\u001b[0m in \u001b[0;36m__iter__\u001b[1;34m(self)\u001b[0m\n\u001b[0;32m   1124\u001b[0m \u001b[1;33m\u001b[0m\u001b[0m\n\u001b[0;32m   1125\u001b[0m                     \u001b[0mself\u001b[0m\u001b[1;33m.\u001b[0m\u001b[0mn\u001b[0m \u001b[1;33m=\u001b[0m \u001b[0mn\u001b[0m\u001b[1;33m\u001b[0m\u001b[1;33m\u001b[0m\u001b[0m\n\u001b[1;32m-> 1126\u001b[1;33m                     \u001b[0mself\u001b[0m\u001b[1;33m.\u001b[0m\u001b[0mrefresh\u001b[0m\u001b[1;33m(\u001b[0m\u001b[0mlock_args\u001b[0m\u001b[1;33m=\u001b[0m\u001b[0mself\u001b[0m\u001b[1;33m.\u001b[0m\u001b[0mlock_args\u001b[0m\u001b[1;33m)\u001b[0m\u001b[1;33m\u001b[0m\u001b[1;33m\u001b[0m\u001b[0m\n\u001b[0m\u001b[0;32m   1127\u001b[0m \u001b[1;33m\u001b[0m\u001b[0m\n\u001b[0;32m   1128\u001b[0m                     \u001b[1;31m# If no `miniters` was specified, adjust automatically\u001b[0m\u001b[1;33m\u001b[0m\u001b[1;33m\u001b[0m\u001b[1;33m\u001b[0m\u001b[0m\n",
      "\u001b[1;32mD:\\Anaconda\\lib\\site-packages\\tqdm\\std.py\u001b[0m in \u001b[0;36mrefresh\u001b[1;34m(self, nolock, lock_args)\u001b[0m\n\u001b[0;32m   1312\u001b[0m             \u001b[1;32melse\u001b[0m\u001b[1;33m:\u001b[0m\u001b[1;33m\u001b[0m\u001b[1;33m\u001b[0m\u001b[0m\n\u001b[0;32m   1313\u001b[0m                 \u001b[0mself\u001b[0m\u001b[1;33m.\u001b[0m\u001b[0m_lock\u001b[0m\u001b[1;33m.\u001b[0m\u001b[0macquire\u001b[0m\u001b[1;33m(\u001b[0m\u001b[1;33m)\u001b[0m\u001b[1;33m\u001b[0m\u001b[1;33m\u001b[0m\u001b[0m\n\u001b[1;32m-> 1314\u001b[1;33m         \u001b[0mself\u001b[0m\u001b[1;33m.\u001b[0m\u001b[0mdisplay\u001b[0m\u001b[1;33m(\u001b[0m\u001b[1;33m)\u001b[0m\u001b[1;33m\u001b[0m\u001b[1;33m\u001b[0m\u001b[0m\n\u001b[0m\u001b[0;32m   1315\u001b[0m         \u001b[1;32mif\u001b[0m \u001b[1;32mnot\u001b[0m \u001b[0mnolock\u001b[0m\u001b[1;33m:\u001b[0m\u001b[1;33m\u001b[0m\u001b[1;33m\u001b[0m\u001b[0m\n\u001b[0;32m   1316\u001b[0m             \u001b[0mself\u001b[0m\u001b[1;33m.\u001b[0m\u001b[0m_lock\u001b[0m\u001b[1;33m.\u001b[0m\u001b[0mrelease\u001b[0m\u001b[1;33m(\u001b[0m\u001b[1;33m)\u001b[0m\u001b[1;33m\u001b[0m\u001b[1;33m\u001b[0m\u001b[0m\n",
      "\u001b[1;32mD:\\Anaconda\\lib\\site-packages\\tqdm\\notebook.py\u001b[0m in \u001b[0;36mdisplay\u001b[1;34m(self, msg, pos, close, bar_style)\u001b[0m\n\u001b[0;32m    167\u001b[0m             \u001b[1;31m# never clear the bar (signal: msg='')\u001b[0m\u001b[1;33m\u001b[0m\u001b[1;33m\u001b[0m\u001b[1;33m\u001b[0m\u001b[0m\n\u001b[0;32m    168\u001b[0m             \u001b[1;32mif\u001b[0m \u001b[0mright\u001b[0m\u001b[1;33m:\u001b[0m\u001b[1;33m\u001b[0m\u001b[1;33m\u001b[0m\u001b[0m\n\u001b[1;32m--> 169\u001b[1;33m                 \u001b[0mptext\u001b[0m\u001b[1;33m.\u001b[0m\u001b[0mvalue\u001b[0m \u001b[1;33m=\u001b[0m \u001b[0mright\u001b[0m\u001b[1;33m\u001b[0m\u001b[1;33m\u001b[0m\u001b[0m\n\u001b[0m\u001b[0;32m    170\u001b[0m \u001b[1;33m\u001b[0m\u001b[0m\n\u001b[0;32m    171\u001b[0m         \u001b[1;31m# Change bar style\u001b[0m\u001b[1;33m\u001b[0m\u001b[1;33m\u001b[0m\u001b[1;33m\u001b[0m\u001b[0m\n",
      "\u001b[1;32mD:\\Anaconda\\lib\\site-packages\\traitlets\\traitlets.py\u001b[0m in \u001b[0;36m__set__\u001b[1;34m(self, obj, value)\u001b[0m\n\u001b[0;32m    583\u001b[0m             \u001b[1;32mraise\u001b[0m \u001b[0mTraitError\u001b[0m\u001b[1;33m(\u001b[0m\u001b[1;34m'The \"%s\" trait is read-only.'\u001b[0m \u001b[1;33m%\u001b[0m \u001b[0mself\u001b[0m\u001b[1;33m.\u001b[0m\u001b[0mname\u001b[0m\u001b[1;33m)\u001b[0m\u001b[1;33m\u001b[0m\u001b[1;33m\u001b[0m\u001b[0m\n\u001b[0;32m    584\u001b[0m         \u001b[1;32melse\u001b[0m\u001b[1;33m:\u001b[0m\u001b[1;33m\u001b[0m\u001b[1;33m\u001b[0m\u001b[0m\n\u001b[1;32m--> 585\u001b[1;33m             \u001b[0mself\u001b[0m\u001b[1;33m.\u001b[0m\u001b[0mset\u001b[0m\u001b[1;33m(\u001b[0m\u001b[0mobj\u001b[0m\u001b[1;33m,\u001b[0m \u001b[0mvalue\u001b[0m\u001b[1;33m)\u001b[0m\u001b[1;33m\u001b[0m\u001b[1;33m\u001b[0m\u001b[0m\n\u001b[0m\u001b[0;32m    586\u001b[0m \u001b[1;33m\u001b[0m\u001b[0m\n\u001b[0;32m    587\u001b[0m     \u001b[1;32mdef\u001b[0m \u001b[0m_validate\u001b[0m\u001b[1;33m(\u001b[0m\u001b[0mself\u001b[0m\u001b[1;33m,\u001b[0m \u001b[0mobj\u001b[0m\u001b[1;33m,\u001b[0m \u001b[0mvalue\u001b[0m\u001b[1;33m)\u001b[0m\u001b[1;33m:\u001b[0m\u001b[1;33m\u001b[0m\u001b[1;33m\u001b[0m\u001b[0m\n",
      "\u001b[1;32mD:\\Anaconda\\lib\\site-packages\\traitlets\\traitlets.py\u001b[0m in \u001b[0;36mset\u001b[1;34m(self, obj, value)\u001b[0m\n\u001b[0;32m    572\u001b[0m             \u001b[1;31m# we explicitly compare silent to True just in case the equality\u001b[0m\u001b[1;33m\u001b[0m\u001b[1;33m\u001b[0m\u001b[1;33m\u001b[0m\u001b[0m\n\u001b[0;32m    573\u001b[0m             \u001b[1;31m# comparison above returns something other than True/False\u001b[0m\u001b[1;33m\u001b[0m\u001b[1;33m\u001b[0m\u001b[1;33m\u001b[0m\u001b[0m\n\u001b[1;32m--> 574\u001b[1;33m             \u001b[0mobj\u001b[0m\u001b[1;33m.\u001b[0m\u001b[0m_notify_trait\u001b[0m\u001b[1;33m(\u001b[0m\u001b[0mself\u001b[0m\u001b[1;33m.\u001b[0m\u001b[0mname\u001b[0m\u001b[1;33m,\u001b[0m \u001b[0mold_value\u001b[0m\u001b[1;33m,\u001b[0m \u001b[0mnew_value\u001b[0m\u001b[1;33m)\u001b[0m\u001b[1;33m\u001b[0m\u001b[1;33m\u001b[0m\u001b[0m\n\u001b[0m\u001b[0;32m    575\u001b[0m \u001b[1;33m\u001b[0m\u001b[0m\n\u001b[0;32m    576\u001b[0m     \u001b[1;32mdef\u001b[0m \u001b[0m__set__\u001b[0m\u001b[1;33m(\u001b[0m\u001b[0mself\u001b[0m\u001b[1;33m,\u001b[0m \u001b[0mobj\u001b[0m\u001b[1;33m,\u001b[0m \u001b[0mvalue\u001b[0m\u001b[1;33m)\u001b[0m\u001b[1;33m:\u001b[0m\u001b[1;33m\u001b[0m\u001b[1;33m\u001b[0m\u001b[0m\n",
      "\u001b[1;32mD:\\Anaconda\\lib\\site-packages\\traitlets\\traitlets.py\u001b[0m in \u001b[0;36m_notify_trait\u001b[1;34m(self, name, old_value, new_value)\u001b[0m\n\u001b[0;32m   1137\u001b[0m             \u001b[0mnew\u001b[0m\u001b[1;33m=\u001b[0m\u001b[0mnew_value\u001b[0m\u001b[1;33m,\u001b[0m\u001b[1;33m\u001b[0m\u001b[1;33m\u001b[0m\u001b[0m\n\u001b[0;32m   1138\u001b[0m             \u001b[0mowner\u001b[0m\u001b[1;33m=\u001b[0m\u001b[0mself\u001b[0m\u001b[1;33m,\u001b[0m\u001b[1;33m\u001b[0m\u001b[1;33m\u001b[0m\u001b[0m\n\u001b[1;32m-> 1139\u001b[1;33m             \u001b[0mtype\u001b[0m\u001b[1;33m=\u001b[0m\u001b[1;34m'change'\u001b[0m\u001b[1;33m,\u001b[0m\u001b[1;33m\u001b[0m\u001b[1;33m\u001b[0m\u001b[0m\n\u001b[0m\u001b[0;32m   1140\u001b[0m         ))\n\u001b[0;32m   1141\u001b[0m \u001b[1;33m\u001b[0m\u001b[0m\n",
      "\u001b[1;32mD:\\Anaconda\\lib\\site-packages\\ipywidgets\\widgets\\widget.py\u001b[0m in \u001b[0;36mnotify_change\u001b[1;34m(self, change)\u001b[0m\n\u001b[0;32m    603\u001b[0m             \u001b[1;32mif\u001b[0m \u001b[0mname\u001b[0m \u001b[1;32min\u001b[0m \u001b[0mself\u001b[0m\u001b[1;33m.\u001b[0m\u001b[0mkeys\u001b[0m \u001b[1;32mand\u001b[0m \u001b[0mself\u001b[0m\u001b[1;33m.\u001b[0m\u001b[0m_should_send_property\u001b[0m\u001b[1;33m(\u001b[0m\u001b[0mname\u001b[0m\u001b[1;33m,\u001b[0m \u001b[0mgetattr\u001b[0m\u001b[1;33m(\u001b[0m\u001b[0mself\u001b[0m\u001b[1;33m,\u001b[0m \u001b[0mname\u001b[0m\u001b[1;33m)\u001b[0m\u001b[1;33m)\u001b[0m\u001b[1;33m:\u001b[0m\u001b[1;33m\u001b[0m\u001b[1;33m\u001b[0m\u001b[0m\n\u001b[0;32m    604\u001b[0m                 \u001b[1;31m# Send new state to front-end\u001b[0m\u001b[1;33m\u001b[0m\u001b[1;33m\u001b[0m\u001b[1;33m\u001b[0m\u001b[0m\n\u001b[1;32m--> 605\u001b[1;33m                 \u001b[0mself\u001b[0m\u001b[1;33m.\u001b[0m\u001b[0msend_state\u001b[0m\u001b[1;33m(\u001b[0m\u001b[0mkey\u001b[0m\u001b[1;33m=\u001b[0m\u001b[0mname\u001b[0m\u001b[1;33m)\u001b[0m\u001b[1;33m\u001b[0m\u001b[1;33m\u001b[0m\u001b[0m\n\u001b[0m\u001b[0;32m    606\u001b[0m         \u001b[0msuper\u001b[0m\u001b[1;33m(\u001b[0m\u001b[0mWidget\u001b[0m\u001b[1;33m,\u001b[0m \u001b[0mself\u001b[0m\u001b[1;33m)\u001b[0m\u001b[1;33m.\u001b[0m\u001b[0mnotify_change\u001b[0m\u001b[1;33m(\u001b[0m\u001b[0mchange\u001b[0m\u001b[1;33m)\u001b[0m\u001b[1;33m\u001b[0m\u001b[1;33m\u001b[0m\u001b[0m\n\u001b[0;32m    607\u001b[0m \u001b[1;33m\u001b[0m\u001b[0m\n",
      "\u001b[1;32mD:\\Anaconda\\lib\\site-packages\\ipywidgets\\widgets\\widget.py\u001b[0m in \u001b[0;36msend_state\u001b[1;34m(self, key)\u001b[0m\n\u001b[0;32m    487\u001b[0m             \u001b[0mstate\u001b[0m\u001b[1;33m,\u001b[0m \u001b[0mbuffer_paths\u001b[0m\u001b[1;33m,\u001b[0m \u001b[0mbuffers\u001b[0m \u001b[1;33m=\u001b[0m \u001b[0m_remove_buffers\u001b[0m\u001b[1;33m(\u001b[0m\u001b[0mstate\u001b[0m\u001b[1;33m)\u001b[0m\u001b[1;33m\u001b[0m\u001b[1;33m\u001b[0m\u001b[0m\n\u001b[0;32m    488\u001b[0m             \u001b[0mmsg\u001b[0m \u001b[1;33m=\u001b[0m \u001b[1;33m{\u001b[0m\u001b[1;34m'method'\u001b[0m\u001b[1;33m:\u001b[0m \u001b[1;34m'update'\u001b[0m\u001b[1;33m,\u001b[0m \u001b[1;34m'state'\u001b[0m\u001b[1;33m:\u001b[0m \u001b[0mstate\u001b[0m\u001b[1;33m,\u001b[0m \u001b[1;34m'buffer_paths'\u001b[0m\u001b[1;33m:\u001b[0m \u001b[0mbuffer_paths\u001b[0m\u001b[1;33m}\u001b[0m\u001b[1;33m\u001b[0m\u001b[1;33m\u001b[0m\u001b[0m\n\u001b[1;32m--> 489\u001b[1;33m             \u001b[0mself\u001b[0m\u001b[1;33m.\u001b[0m\u001b[0m_send\u001b[0m\u001b[1;33m(\u001b[0m\u001b[0mmsg\u001b[0m\u001b[1;33m,\u001b[0m \u001b[0mbuffers\u001b[0m\u001b[1;33m=\u001b[0m\u001b[0mbuffers\u001b[0m\u001b[1;33m)\u001b[0m\u001b[1;33m\u001b[0m\u001b[1;33m\u001b[0m\u001b[0m\n\u001b[0m\u001b[0;32m    490\u001b[0m \u001b[1;33m\u001b[0m\u001b[0m\n\u001b[0;32m    491\u001b[0m \u001b[1;33m\u001b[0m\u001b[0m\n",
      "\u001b[1;32mD:\\Anaconda\\lib\\site-packages\\ipywidgets\\widgets\\widget.py\u001b[0m in \u001b[0;36m_send\u001b[1;34m(self, msg, buffers)\u001b[0m\n\u001b[0;32m    735\u001b[0m         \u001b[1;34m\"\"\"Sends a message to the model in the front-end.\"\"\"\u001b[0m\u001b[1;33m\u001b[0m\u001b[1;33m\u001b[0m\u001b[0m\n\u001b[0;32m    736\u001b[0m         \u001b[1;32mif\u001b[0m \u001b[0mself\u001b[0m\u001b[1;33m.\u001b[0m\u001b[0mcomm\u001b[0m \u001b[1;32mis\u001b[0m \u001b[1;32mnot\u001b[0m \u001b[1;32mNone\u001b[0m \u001b[1;32mand\u001b[0m \u001b[0mself\u001b[0m\u001b[1;33m.\u001b[0m\u001b[0mcomm\u001b[0m\u001b[1;33m.\u001b[0m\u001b[0mkernel\u001b[0m \u001b[1;32mis\u001b[0m \u001b[1;32mnot\u001b[0m \u001b[1;32mNone\u001b[0m\u001b[1;33m:\u001b[0m\u001b[1;33m\u001b[0m\u001b[1;33m\u001b[0m\u001b[0m\n\u001b[1;32m--> 737\u001b[1;33m             \u001b[0mself\u001b[0m\u001b[1;33m.\u001b[0m\u001b[0mcomm\u001b[0m\u001b[1;33m.\u001b[0m\u001b[0msend\u001b[0m\u001b[1;33m(\u001b[0m\u001b[0mdata\u001b[0m\u001b[1;33m=\u001b[0m\u001b[0mmsg\u001b[0m\u001b[1;33m,\u001b[0m \u001b[0mbuffers\u001b[0m\u001b[1;33m=\u001b[0m\u001b[0mbuffers\u001b[0m\u001b[1;33m)\u001b[0m\u001b[1;33m\u001b[0m\u001b[1;33m\u001b[0m\u001b[0m\n\u001b[0m\u001b[0;32m    738\u001b[0m \u001b[1;33m\u001b[0m\u001b[0m\n\u001b[0;32m    739\u001b[0m     \u001b[1;32mdef\u001b[0m \u001b[0m_repr_keys\u001b[0m\u001b[1;33m(\u001b[0m\u001b[0mself\u001b[0m\u001b[1;33m)\u001b[0m\u001b[1;33m:\u001b[0m\u001b[1;33m\u001b[0m\u001b[1;33m\u001b[0m\u001b[0m\n",
      "\u001b[1;32mD:\\Anaconda\\lib\\site-packages\\ipykernel\\comm\\comm.py\u001b[0m in \u001b[0;36msend\u001b[1;34m(self, data, metadata, buffers)\u001b[0m\n\u001b[0;32m    121\u001b[0m         \u001b[1;34m\"\"\"Send a message to the frontend-side version of this comm\"\"\"\u001b[0m\u001b[1;33m\u001b[0m\u001b[1;33m\u001b[0m\u001b[0m\n\u001b[0;32m    122\u001b[0m         self._publish_msg('comm_msg',\n\u001b[1;32m--> 123\u001b[1;33m             \u001b[0mdata\u001b[0m\u001b[1;33m=\u001b[0m\u001b[0mdata\u001b[0m\u001b[1;33m,\u001b[0m \u001b[0mmetadata\u001b[0m\u001b[1;33m=\u001b[0m\u001b[0mmetadata\u001b[0m\u001b[1;33m,\u001b[0m \u001b[0mbuffers\u001b[0m\u001b[1;33m=\u001b[0m\u001b[0mbuffers\u001b[0m\u001b[1;33m,\u001b[0m\u001b[1;33m\u001b[0m\u001b[1;33m\u001b[0m\u001b[0m\n\u001b[0m\u001b[0;32m    124\u001b[0m         )\n\u001b[0;32m    125\u001b[0m \u001b[1;33m\u001b[0m\u001b[0m\n",
      "\u001b[1;32mD:\\Anaconda\\lib\\site-packages\\ipykernel\\comm\\comm.py\u001b[0m in \u001b[0;36m_publish_msg\u001b[1;34m(self, msg_type, data, metadata, buffers, **keys)\u001b[0m\n\u001b[0;32m     69\u001b[0m             \u001b[0mparent\u001b[0m\u001b[1;33m=\u001b[0m\u001b[0mself\u001b[0m\u001b[1;33m.\u001b[0m\u001b[0mkernel\u001b[0m\u001b[1;33m.\u001b[0m\u001b[0m_parent_header\u001b[0m\u001b[1;33m,\u001b[0m\u001b[1;33m\u001b[0m\u001b[1;33m\u001b[0m\u001b[0m\n\u001b[0;32m     70\u001b[0m             \u001b[0mident\u001b[0m\u001b[1;33m=\u001b[0m\u001b[0mself\u001b[0m\u001b[1;33m.\u001b[0m\u001b[0mtopic\u001b[0m\u001b[1;33m,\u001b[0m\u001b[1;33m\u001b[0m\u001b[1;33m\u001b[0m\u001b[0m\n\u001b[1;32m---> 71\u001b[1;33m             \u001b[0mbuffers\u001b[0m\u001b[1;33m=\u001b[0m\u001b[0mbuffers\u001b[0m\u001b[1;33m,\u001b[0m\u001b[1;33m\u001b[0m\u001b[1;33m\u001b[0m\u001b[0m\n\u001b[0m\u001b[0;32m     72\u001b[0m         )\n\u001b[0;32m     73\u001b[0m \u001b[1;33m\u001b[0m\u001b[0m\n",
      "\u001b[1;32mD:\\Anaconda\\lib\\site-packages\\jupyter_client\\session.py\u001b[0m in \u001b[0;36msend\u001b[1;34m(self, stream, msg_or_type, content, parent, ident, buffers, track, header, metadata)\u001b[0m\n\u001b[0;32m    746\u001b[0m             \u001b[1;31m# use dummy tracker, which will be done immediately\u001b[0m\u001b[1;33m\u001b[0m\u001b[1;33m\u001b[0m\u001b[1;33m\u001b[0m\u001b[0m\n\u001b[0;32m    747\u001b[0m             \u001b[0mtracker\u001b[0m \u001b[1;33m=\u001b[0m \u001b[0mDONE\u001b[0m\u001b[1;33m\u001b[0m\u001b[1;33m\u001b[0m\u001b[0m\n\u001b[1;32m--> 748\u001b[1;33m             \u001b[0mstream\u001b[0m\u001b[1;33m.\u001b[0m\u001b[0msend_multipart\u001b[0m\u001b[1;33m(\u001b[0m\u001b[0mto_send\u001b[0m\u001b[1;33m,\u001b[0m \u001b[0mcopy\u001b[0m\u001b[1;33m=\u001b[0m\u001b[0mcopy\u001b[0m\u001b[1;33m)\u001b[0m\u001b[1;33m\u001b[0m\u001b[1;33m\u001b[0m\u001b[0m\n\u001b[0m\u001b[0;32m    749\u001b[0m \u001b[1;33m\u001b[0m\u001b[0m\n\u001b[0;32m    750\u001b[0m         \u001b[1;32mif\u001b[0m \u001b[0mself\u001b[0m\u001b[1;33m.\u001b[0m\u001b[0mdebug\u001b[0m\u001b[1;33m:\u001b[0m\u001b[1;33m\u001b[0m\u001b[1;33m\u001b[0m\u001b[0m\n",
      "\u001b[1;32mD:\\Anaconda\\lib\\site-packages\\ipykernel\\iostream.py\u001b[0m in \u001b[0;36msend_multipart\u001b[1;34m(self, *args, **kwargs)\u001b[0m\n\u001b[0;32m    262\u001b[0m     \u001b[1;32mdef\u001b[0m \u001b[0msend_multipart\u001b[0m\u001b[1;33m(\u001b[0m\u001b[0mself\u001b[0m\u001b[1;33m,\u001b[0m \u001b[1;33m*\u001b[0m\u001b[0margs\u001b[0m\u001b[1;33m,\u001b[0m \u001b[1;33m**\u001b[0m\u001b[0mkwargs\u001b[0m\u001b[1;33m)\u001b[0m\u001b[1;33m:\u001b[0m\u001b[1;33m\u001b[0m\u001b[1;33m\u001b[0m\u001b[0m\n\u001b[0;32m    263\u001b[0m         \u001b[1;34m\"\"\"Schedule send in IO thread\"\"\"\u001b[0m\u001b[1;33m\u001b[0m\u001b[1;33m\u001b[0m\u001b[0m\n\u001b[1;32m--> 264\u001b[1;33m         \u001b[1;32mreturn\u001b[0m \u001b[0mself\u001b[0m\u001b[1;33m.\u001b[0m\u001b[0mio_thread\u001b[0m\u001b[1;33m.\u001b[0m\u001b[0msend_multipart\u001b[0m\u001b[1;33m(\u001b[0m\u001b[1;33m*\u001b[0m\u001b[0margs\u001b[0m\u001b[1;33m,\u001b[0m \u001b[1;33m**\u001b[0m\u001b[0mkwargs\u001b[0m\u001b[1;33m)\u001b[0m\u001b[1;33m\u001b[0m\u001b[1;33m\u001b[0m\u001b[0m\n\u001b[0m\u001b[0;32m    265\u001b[0m \u001b[1;33m\u001b[0m\u001b[0m\n\u001b[0;32m    266\u001b[0m \u001b[1;33m\u001b[0m\u001b[0m\n",
      "\u001b[1;32mD:\\Anaconda\\lib\\site-packages\\ipykernel\\iostream.py\u001b[0m in \u001b[0;36msend_multipart\u001b[1;34m(self, *args, **kwargs)\u001b[0m\n\u001b[0;32m    212\u001b[0m         \u001b[0mIf\u001b[0m \u001b[0mmy\u001b[0m \u001b[0mthread\u001b[0m \u001b[0misn\u001b[0m\u001b[0;31m'\u001b[0m\u001b[0mt\u001b[0m \u001b[0mrunning\u001b[0m \u001b[1;33m(\u001b[0m\u001b[0me\u001b[0m\u001b[1;33m.\u001b[0m\u001b[0mg\u001b[0m\u001b[1;33m.\u001b[0m \u001b[0mforked\u001b[0m \u001b[0mprocess\u001b[0m\u001b[1;33m)\u001b[0m\u001b[1;33m,\u001b[0m \u001b[0msend\u001b[0m \u001b[0mimmediately\u001b[0m\u001b[1;33m.\u001b[0m\u001b[1;33m\u001b[0m\u001b[1;33m\u001b[0m\u001b[0m\n\u001b[0;32m    213\u001b[0m         \"\"\"\n\u001b[1;32m--> 214\u001b[1;33m         \u001b[0mself\u001b[0m\u001b[1;33m.\u001b[0m\u001b[0mschedule\u001b[0m\u001b[1;33m(\u001b[0m\u001b[1;32mlambda\u001b[0m \u001b[1;33m:\u001b[0m \u001b[0mself\u001b[0m\u001b[1;33m.\u001b[0m\u001b[0m_really_send\u001b[0m\u001b[1;33m(\u001b[0m\u001b[1;33m*\u001b[0m\u001b[0margs\u001b[0m\u001b[1;33m,\u001b[0m \u001b[1;33m**\u001b[0m\u001b[0mkwargs\u001b[0m\u001b[1;33m)\u001b[0m\u001b[1;33m)\u001b[0m\u001b[1;33m\u001b[0m\u001b[1;33m\u001b[0m\u001b[0m\n\u001b[0m\u001b[0;32m    215\u001b[0m \u001b[1;33m\u001b[0m\u001b[0m\n\u001b[0;32m    216\u001b[0m     \u001b[1;32mdef\u001b[0m \u001b[0m_really_send\u001b[0m\u001b[1;33m(\u001b[0m\u001b[0mself\u001b[0m\u001b[1;33m,\u001b[0m \u001b[0mmsg\u001b[0m\u001b[1;33m,\u001b[0m \u001b[1;33m*\u001b[0m\u001b[0margs\u001b[0m\u001b[1;33m,\u001b[0m \u001b[1;33m**\u001b[0m\u001b[0mkwargs\u001b[0m\u001b[1;33m)\u001b[0m\u001b[1;33m:\u001b[0m\u001b[1;33m\u001b[0m\u001b[1;33m\u001b[0m\u001b[0m\n",
      "\u001b[1;32mD:\\Anaconda\\lib\\site-packages\\ipykernel\\iostream.py\u001b[0m in \u001b[0;36mschedule\u001b[1;34m(self, f)\u001b[0m\n\u001b[0;32m    203\u001b[0m             \u001b[0mself\u001b[0m\u001b[1;33m.\u001b[0m\u001b[0m_events\u001b[0m\u001b[1;33m.\u001b[0m\u001b[0mappend\u001b[0m\u001b[1;33m(\u001b[0m\u001b[0mf\u001b[0m\u001b[1;33m)\u001b[0m\u001b[1;33m\u001b[0m\u001b[1;33m\u001b[0m\u001b[0m\n\u001b[0;32m    204\u001b[0m             \u001b[1;31m# wake event thread (message content is ignored)\u001b[0m\u001b[1;33m\u001b[0m\u001b[1;33m\u001b[0m\u001b[1;33m\u001b[0m\u001b[0m\n\u001b[1;32m--> 205\u001b[1;33m             \u001b[0mself\u001b[0m\u001b[1;33m.\u001b[0m\u001b[0m_event_pipe\u001b[0m\u001b[1;33m.\u001b[0m\u001b[0msend\u001b[0m\u001b[1;33m(\u001b[0m\u001b[1;34mb''\u001b[0m\u001b[1;33m)\u001b[0m\u001b[1;33m\u001b[0m\u001b[1;33m\u001b[0m\u001b[0m\n\u001b[0m\u001b[0;32m    206\u001b[0m         \u001b[1;32melse\u001b[0m\u001b[1;33m:\u001b[0m\u001b[1;33m\u001b[0m\u001b[1;33m\u001b[0m\u001b[0m\n\u001b[0;32m    207\u001b[0m             \u001b[0mf\u001b[0m\u001b[1;33m(\u001b[0m\u001b[1;33m)\u001b[0m\u001b[1;33m\u001b[0m\u001b[1;33m\u001b[0m\u001b[0m\n",
      "\u001b[1;32mD:\\Anaconda\\lib\\site-packages\\zmq\\sugar\\socket.py\u001b[0m in \u001b[0;36msend\u001b[1;34m(self, data, flags, copy, track, routing_id, group)\u001b[0m\n\u001b[0;32m    398\u001b[0m                                  copy_threshold=self.copy_threshold)\n\u001b[0;32m    399\u001b[0m             \u001b[0mdata\u001b[0m\u001b[1;33m.\u001b[0m\u001b[0mgroup\u001b[0m \u001b[1;33m=\u001b[0m \u001b[0mgroup\u001b[0m\u001b[1;33m\u001b[0m\u001b[1;33m\u001b[0m\u001b[0m\n\u001b[1;32m--> 400\u001b[1;33m         \u001b[1;32mreturn\u001b[0m \u001b[0msuper\u001b[0m\u001b[1;33m(\u001b[0m\u001b[0mSocket\u001b[0m\u001b[1;33m,\u001b[0m \u001b[0mself\u001b[0m\u001b[1;33m)\u001b[0m\u001b[1;33m.\u001b[0m\u001b[0msend\u001b[0m\u001b[1;33m(\u001b[0m\u001b[0mdata\u001b[0m\u001b[1;33m,\u001b[0m \u001b[0mflags\u001b[0m\u001b[1;33m=\u001b[0m\u001b[0mflags\u001b[0m\u001b[1;33m,\u001b[0m \u001b[0mcopy\u001b[0m\u001b[1;33m=\u001b[0m\u001b[0mcopy\u001b[0m\u001b[1;33m,\u001b[0m \u001b[0mtrack\u001b[0m\u001b[1;33m=\u001b[0m\u001b[0mtrack\u001b[0m\u001b[1;33m)\u001b[0m\u001b[1;33m\u001b[0m\u001b[1;33m\u001b[0m\u001b[0m\n\u001b[0m\u001b[0;32m    401\u001b[0m \u001b[1;33m\u001b[0m\u001b[0m\n\u001b[0;32m    402\u001b[0m     \u001b[1;32mdef\u001b[0m \u001b[0msend_multipart\u001b[0m\u001b[1;33m(\u001b[0m\u001b[0mself\u001b[0m\u001b[1;33m,\u001b[0m \u001b[0mmsg_parts\u001b[0m\u001b[1;33m,\u001b[0m \u001b[0mflags\u001b[0m\u001b[1;33m=\u001b[0m\u001b[1;36m0\u001b[0m\u001b[1;33m,\u001b[0m \u001b[0mcopy\u001b[0m\u001b[1;33m=\u001b[0m\u001b[1;32mTrue\u001b[0m\u001b[1;33m,\u001b[0m \u001b[0mtrack\u001b[0m\u001b[1;33m=\u001b[0m\u001b[1;32mFalse\u001b[0m\u001b[1;33m,\u001b[0m \u001b[1;33m**\u001b[0m\u001b[0mkwargs\u001b[0m\u001b[1;33m)\u001b[0m\u001b[1;33m:\u001b[0m\u001b[1;33m\u001b[0m\u001b[1;33m\u001b[0m\u001b[0m\n",
      "\u001b[1;32mzmq/backend/cython/socket.pyx\u001b[0m in \u001b[0;36mzmq.backend.cython.socket.Socket.send\u001b[1;34m()\u001b[0m\n",
      "\u001b[1;32mzmq/backend/cython/socket.pyx\u001b[0m in \u001b[0;36mzmq.backend.cython.socket.Socket.send\u001b[1;34m()\u001b[0m\n",
      "\u001b[1;32mzmq/backend/cython/socket.pyx\u001b[0m in \u001b[0;36mzmq.backend.cython.socket._send_copy\u001b[1;34m()\u001b[0m\n",
      "\u001b[1;32mD:\\Anaconda\\lib\\site-packages\\zmq\\backend\\cython\\checkrc.pxd\u001b[0m in \u001b[0;36mzmq.backend.cython.checkrc._check_rc\u001b[1;34m()\u001b[0m\n",
      "\u001b[1;31mKeyboardInterrupt\u001b[0m: "
     ]
    }
   ],
   "source": [
    "percentile_list = list(np.arange(0.9, 0.99, 0.01))\n",
    "tun_res = []\n",
    "for _p in tq.tqdm_notebook(percentile_list):\n",
    "    quantile_radius = []\n",
    "    for j in range(cluster_number):\n",
    "        quantile_radius.append(pd.DataFrame(dict_DC[j+1]).quantile(_p, axis = 0)[0])\n",
    "    test_set = X_normalized\n",
    "    radius_cent = quantile_radius\n",
    "    thresh_KM = 1\n",
    "    mdd_fraud_1week, Y_predict, ind_fraud_predicted, count_fraud_predicted = prediction_result(test_set, radius_cent, thresh_KM)\n",
    "    test_df = pd.DataFrame()\n",
    "    test_df['meter_id'] = df2.meter_id\n",
    "    test_df['PRED'] = Y_predict\n",
    "    test_df = test_df.groupby(['meter_id'])['PRED'].apply(list)\n",
    "    consecutive_week = 1\n",
    "    mdd_fraud_n_week = []\n",
    "    for i in range(test_df.shape[0]):\n",
    "        l = test_df[i]\n",
    "        if test_consecutive_week(l):\n",
    "            mdd_fraud_n_week.append(test_df.index[i])\n",
    "\n",
    "    n_fraud = len(set(mdd_fraud_n_week) & set(list_fraud))\n",
    "    save_i = n_fraud/len(list_fraud)\n",
    "    save_j = (len(mdd_fraud_n_week) - n_fraud)/1000\n",
    "    tun_res.append((save_i, save_j))"
   ]
  },
  {
   "cell_type": "code",
   "execution_count": 203,
   "metadata": {},
   "outputs": [
    {
     "data": {
      "text/plain": [
       "[(0.5925925925925926, 0.987),\n",
       " (0.5802469135802469, 0.983),\n",
       " (0.5555555555555556, 0.978),\n",
       " (0.5555555555555556, 0.965),\n",
       " (0.5185185185185185, 0.942),\n",
       " (0.49382716049382713, 0.918),\n",
       " (0.4444444444444444, 0.878),\n",
       " (0.43209876543209874, 0.804),\n",
       " (0.2962962962962963, 0.686)]"
      ]
     },
     "execution_count": 203,
     "metadata": {},
     "output_type": "execute_result"
    }
   ],
   "source": [
    "tun_res"
   ]
  }
 ],
 "metadata": {
  "kernelspec": {
   "display_name": "Python 3",
   "language": "python",
   "name": "python3"
  },
  "language_info": {
   "codemirror_mode": {
    "name": "ipython",
    "version": 3
   },
   "file_extension": ".py",
   "mimetype": "text/x-python",
   "name": "python",
   "nbconvert_exporter": "python",
   "pygments_lexer": "ipython3",
   "version": "3.7.6"
  }
 },
 "nbformat": 4,
 "nbformat_minor": 4
}
