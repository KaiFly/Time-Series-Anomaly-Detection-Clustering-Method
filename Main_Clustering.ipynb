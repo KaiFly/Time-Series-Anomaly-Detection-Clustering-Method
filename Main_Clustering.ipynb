{
 "cells": [
  {
   "cell_type": "markdown",
   "metadata": {},
   "source": [
    "## 1. Data Preparing\n",
    "\n",
    "Thực hiện load dữ liệu time series tổng hợp từ **file_name**, chuẩn hóa dữ liệu, và trích features."
   ]
  },
  {
   "cell_type": "code",
   "execution_count": 1,
   "metadata": {},
   "outputs": [],
   "source": [
    "import numpy as np\n",
    "import math\n",
    "from datetime import timedelta\n",
    "from tqdm import tqdm_notebook\n",
    "import matplotlib.pyplot as plt\n",
    "import matplotlib as mpl\n",
    "import pandas as pd\n",
    "import seaborn as sns\n",
    "import utils\n",
    "import utils_cl\n",
    "\n",
    "%matplotlib notebook\n",
    "%load_ext autoreload\n",
    "%autoreload 2"
   ]
  },
  {
   "cell_type": "code",
   "execution_count": 2,
   "metadata": {},
   "outputs": [],
   "source": [
    "# Load data\n",
    "file_name = \"normal_data.csv\"\n",
    "summary_df = pd.read_csv(\"processed_data/\" + file_name)\n",
    "summary_df['IMPORT_KWH_SHIFT1'] = summary_df.groupby(\"MA_DIEMDO\").MILESTONE_IMPORT_KWH.shift(1)\n",
    "summary_df['CONSUMPTION'] = summary_df.MILESTONE_IMPORT_KWH - summary_df.IMPORT_KWH_SHIFT1\n",
    "summary_df = summary_df.rename(columns = {\"index\" : \"TIME\"})\n",
    "summary_df.TIME = pd.to_datetime(summary_df.TIME)\n",
    "\n",
    "summary_df = summary_df[['TIME', 'MA_DIEMDO', 'CONSUMPTION']]"
   ]
  },
  {
   "cell_type": "code",
   "execution_count": 3,
   "metadata": {},
   "outputs": [
    {
     "data": {
      "text/html": [
       "<div>\n",
       "<style scoped>\n",
       "    .dataframe tbody tr th:only-of-type {\n",
       "        vertical-align: middle;\n",
       "    }\n",
       "\n",
       "    .dataframe tbody tr th {\n",
       "        vertical-align: top;\n",
       "    }\n",
       "\n",
       "    .dataframe thead th {\n",
       "        text-align: right;\n",
       "    }\n",
       "</style>\n",
       "<table border=\"1\" class=\"dataframe\">\n",
       "  <thead>\n",
       "    <tr style=\"text-align: right;\">\n",
       "      <th></th>\n",
       "      <th>TIME</th>\n",
       "      <th>MA_DIEMDO</th>\n",
       "      <th>CONSUMPTION</th>\n",
       "    </tr>\n",
       "  </thead>\n",
       "  <tbody>\n",
       "    <tr>\n",
       "      <th>0</th>\n",
       "      <td>2017-01-01 06:00:00</td>\n",
       "      <td>PP01000100340001</td>\n",
       "      <td>NaN</td>\n",
       "    </tr>\n",
       "    <tr>\n",
       "      <th>1</th>\n",
       "      <td>2017-01-01 12:00:00</td>\n",
       "      <td>PP01000100340001</td>\n",
       "      <td>0.913215</td>\n",
       "    </tr>\n",
       "    <tr>\n",
       "      <th>2</th>\n",
       "      <td>2017-01-01 18:00:00</td>\n",
       "      <td>PP01000100340001</td>\n",
       "      <td>1.725953</td>\n",
       "    </tr>\n",
       "    <tr>\n",
       "      <th>3</th>\n",
       "      <td>2017-01-02 00:00:00</td>\n",
       "      <td>PP01000100340001</td>\n",
       "      <td>1.071990</td>\n",
       "    </tr>\n",
       "    <tr>\n",
       "      <th>4</th>\n",
       "      <td>2017-01-02 06:00:00</td>\n",
       "      <td>PP01000100340001</td>\n",
       "      <td>1.071990</td>\n",
       "    </tr>\n",
       "  </tbody>\n",
       "</table>\n",
       "</div>"
      ],
      "text/plain": [
       "                 TIME         MA_DIEMDO  CONSUMPTION\n",
       "0 2017-01-01 06:00:00  PP01000100340001          NaN\n",
       "1 2017-01-01 12:00:00  PP01000100340001     0.913215\n",
       "2 2017-01-01 18:00:00  PP01000100340001     1.725953\n",
       "3 2017-01-02 00:00:00  PP01000100340001     1.071990\n",
       "4 2017-01-02 06:00:00  PP01000100340001     1.071990"
      ]
     },
     "execution_count": 3,
     "metadata": {},
     "output_type": "execute_result"
    }
   ],
   "source": [
    "summary_df.head()"
   ]
  },
  {
   "cell_type": "code",
   "execution_count": 32,
   "metadata": {},
   "outputs": [],
   "source": [
    "# Extract features\n",
    "df_monthly, list_normal_mdd = utils_cl.extract_n_months(summary_df, 1, True)\n",
    "#df_monthly.to_csv(\"processed_data/cluster_normal_data.csv\", encoding='utf-8', index=False)"
   ]
  },
  {
   "cell_type": "code",
   "execution_count": 6,
   "metadata": {
    "scrolled": true
   },
   "outputs": [
    {
     "name": "stdout",
     "output_type": "stream",
     "text": [
      "(983, 17)\n"
     ]
    },
    {
     "data": {
      "text/html": [
       "<div>\n",
       "<style scoped>\n",
       "    .dataframe tbody tr th:only-of-type {\n",
       "        vertical-align: middle;\n",
       "    }\n",
       "\n",
       "    .dataframe tbody tr th {\n",
       "        vertical-align: top;\n",
       "    }\n",
       "\n",
       "    .dataframe thead th {\n",
       "        text-align: right;\n",
       "    }\n",
       "</style>\n",
       "<table border=\"1\" class=\"dataframe\">\n",
       "  <thead>\n",
       "    <tr style=\"text-align: right;\">\n",
       "      <th></th>\n",
       "      <th>index</th>\n",
       "      <th>MA_DIEMDO</th>\n",
       "      <th>2017-01</th>\n",
       "      <th>2017-02</th>\n",
       "      <th>2017-03</th>\n",
       "      <th>2017-04</th>\n",
       "      <th>2017-05</th>\n",
       "      <th>2017-06</th>\n",
       "      <th>2017-07</th>\n",
       "      <th>2017-08</th>\n",
       "      <th>2017-09</th>\n",
       "      <th>2017-10</th>\n",
       "      <th>2017-11</th>\n",
       "      <th>2017-12</th>\n",
       "      <th>2018-01</th>\n",
       "      <th>2018-02</th>\n",
       "      <th>2018-03</th>\n",
       "    </tr>\n",
       "  </thead>\n",
       "  <tbody>\n",
       "    <tr>\n",
       "      <th>978</th>\n",
       "      <td>995</td>\n",
       "      <td>PP07000670496001</td>\n",
       "      <td>0.163460</td>\n",
       "      <td>0.122452</td>\n",
       "      <td>0.159352</td>\n",
       "      <td>0.204797</td>\n",
       "      <td>0.264355</td>\n",
       "      <td>0.244083</td>\n",
       "      <td>0.173682</td>\n",
       "      <td>0.246507</td>\n",
       "      <td>0.182639</td>\n",
       "      <td>0.236500</td>\n",
       "      <td>0.178845</td>\n",
       "      <td>0.157682</td>\n",
       "      <td>0.145092</td>\n",
       "      <td>0.136505</td>\n",
       "      <td>0.148306</td>\n",
       "    </tr>\n",
       "    <tr>\n",
       "      <th>979</th>\n",
       "      <td>996</td>\n",
       "      <td>PP03000840215001</td>\n",
       "      <td>1.810743</td>\n",
       "      <td>1.821003</td>\n",
       "      <td>1.965159</td>\n",
       "      <td>2.276603</td>\n",
       "      <td>2.567051</td>\n",
       "      <td>3.011029</td>\n",
       "      <td>2.652720</td>\n",
       "      <td>3.078603</td>\n",
       "      <td>2.779886</td>\n",
       "      <td>2.307515</td>\n",
       "      <td>2.198229</td>\n",
       "      <td>1.909264</td>\n",
       "      <td>2.023040</td>\n",
       "      <td>2.024914</td>\n",
       "      <td>2.047616</td>\n",
       "    </tr>\n",
       "    <tr>\n",
       "      <th>980</th>\n",
       "      <td>997</td>\n",
       "      <td>PP07000711382001</td>\n",
       "      <td>2.158110</td>\n",
       "      <td>2.100246</td>\n",
       "      <td>2.215214</td>\n",
       "      <td>3.161024</td>\n",
       "      <td>3.178750</td>\n",
       "      <td>3.843851</td>\n",
       "      <td>3.793786</td>\n",
       "      <td>5.578964</td>\n",
       "      <td>3.166059</td>\n",
       "      <td>2.330447</td>\n",
       "      <td>2.032782</td>\n",
       "      <td>2.198324</td>\n",
       "      <td>1.877059</td>\n",
       "      <td>2.284520</td>\n",
       "      <td>3.135608</td>\n",
       "    </tr>\n",
       "    <tr>\n",
       "      <th>981</th>\n",
       "      <td>998</td>\n",
       "      <td>PP09000800592001</td>\n",
       "      <td>3.447920</td>\n",
       "      <td>3.082495</td>\n",
       "      <td>3.017207</td>\n",
       "      <td>3.926898</td>\n",
       "      <td>5.398045</td>\n",
       "      <td>6.633417</td>\n",
       "      <td>5.173168</td>\n",
       "      <td>6.324120</td>\n",
       "      <td>5.929511</td>\n",
       "      <td>4.324661</td>\n",
       "      <td>3.054072</td>\n",
       "      <td>2.682591</td>\n",
       "      <td>2.472876</td>\n",
       "      <td>3.341252</td>\n",
       "      <td>2.858925</td>\n",
       "    </tr>\n",
       "    <tr>\n",
       "      <th>982</th>\n",
       "      <td>999</td>\n",
       "      <td>PP05000523336001</td>\n",
       "      <td>1.744017</td>\n",
       "      <td>2.038061</td>\n",
       "      <td>2.388474</td>\n",
       "      <td>2.256872</td>\n",
       "      <td>2.299805</td>\n",
       "      <td>2.469385</td>\n",
       "      <td>2.341295</td>\n",
       "      <td>2.745995</td>\n",
       "      <td>2.503442</td>\n",
       "      <td>1.982606</td>\n",
       "      <td>1.847509</td>\n",
       "      <td>1.764762</td>\n",
       "      <td>1.719063</td>\n",
       "      <td>1.631941</td>\n",
       "      <td>1.754708</td>\n",
       "    </tr>\n",
       "  </tbody>\n",
       "</table>\n",
       "</div>"
      ],
      "text/plain": [
       "     index         MA_DIEMDO   2017-01   2017-02   2017-03   2017-04  \\\n",
       "978    995  PP07000670496001  0.163460  0.122452  0.159352  0.204797   \n",
       "979    996  PP03000840215001  1.810743  1.821003  1.965159  2.276603   \n",
       "980    997  PP07000711382001  2.158110  2.100246  2.215214  3.161024   \n",
       "981    998  PP09000800592001  3.447920  3.082495  3.017207  3.926898   \n",
       "982    999  PP05000523336001  1.744017  2.038061  2.388474  2.256872   \n",
       "\n",
       "      2017-05   2017-06   2017-07   2017-08   2017-09   2017-10   2017-11  \\\n",
       "978  0.264355  0.244083  0.173682  0.246507  0.182639  0.236500  0.178845   \n",
       "979  2.567051  3.011029  2.652720  3.078603  2.779886  2.307515  2.198229   \n",
       "980  3.178750  3.843851  3.793786  5.578964  3.166059  2.330447  2.032782   \n",
       "981  5.398045  6.633417  5.173168  6.324120  5.929511  4.324661  3.054072   \n",
       "982  2.299805  2.469385  2.341295  2.745995  2.503442  1.982606  1.847509   \n",
       "\n",
       "      2017-12   2018-01   2018-02   2018-03  \n",
       "978  0.157682  0.145092  0.136505  0.148306  \n",
       "979  1.909264  2.023040  2.024914  2.047616  \n",
       "980  2.198324  1.877059  2.284520  3.135608  \n",
       "981  2.682591  2.472876  3.341252  2.858925  \n",
       "982  1.764762  1.719063  1.631941  1.754708  "
      ]
     },
     "execution_count": 6,
     "metadata": {},
     "output_type": "execute_result"
    }
   ],
   "source": [
    "print(df_monthly.shape)\n",
    "df_monthly.tail()"
   ]
  },
  {
   "cell_type": "markdown",
   "metadata": {},
   "source": [
    "## 2. Visualizing Data"
   ]
  },
  {
   "cell_type": "markdown",
   "metadata": {},
   "source": [
    "## 3. Clustering Implementation (Centroid Idea Process)\n",
    "\n",
    " Khung process : **Áp dụng cho các thuật toán Hard - Clustering** <br> \n",
    "* Chuẩn hóa dữ liệu đầu vào\n",
    "* Thực hiện 1 thuật toán phân cụm cho tập dữ liệu đầu vào (Xét dữ liệu đầu vào bị mixed và chưa đc dán nhãn)\n",
    "* Đưa ra Output : danh sách các cluster và tập các center tương ứng\n",
    "* Với mỗi Cluster : tính khoảng cách trung bình từ các điểm trong đến tâm -> *average radius* với mỗi Cluster\n",
    "* Thực hiện kiểm tra bất thường với một *new input* : <br> \n",
    "> 1. Đặt một mốc *thres* (~ 1.0-) để scale các *average radius*\n",
    "> 2. Tính khoảng cách từ *new input* đến các Cluster, có thể ĐN : kc từ *new input* đến tâm Cluster\n",
    "> 3. So sánh kc này ứng với *(average radius)* x *thres*, nếu đều lớn hơn với tất cả các Cluster thì cho là abnormal\n",
    "\n"
   ]
  },
  {
   "cell_type": "code",
   "execution_count": 7,
   "metadata": {},
   "outputs": [],
   "source": [
    "from sklearn.preprocessing import StandardScaler\n",
    "from sklearn.preprocessing import normalize\n",
    "from sklearn.decomposition import PCA\n",
    "\n",
    "X = df_monthly.iloc[:, 2:].values\n",
    "m = X.shape[0] # number of samples\n",
    "n = X.shape[1] # number of features\n",
    "\n",
    "scaler = StandardScaler()\n",
    "X_scaled = scaler.fit_transform(X)\n",
    "X_scaled = pd.DataFrame(X_scaled)\n",
    "\n",
    "X_normalized = normalize(X_scaled)\n",
    "X_normalized = pd.DataFrame(X_normalized)\n",
    "#X_normalized = X_scaled\n",
    "\n",
    "from sklearn.decomposition import PCA\n",
    "pca = PCA(n_components=2)\n",
    "principalComponents = pca.fit(X_normalized)\n",
    "X_principal = pca.fit_transform(X_normalized)\n",
    "X_principal = pd.DataFrame(X_principal)\n",
    "X_principal.columns = ['P1', 'P2']"
   ]
  },
  {
   "cell_type": "code",
   "execution_count": 8,
   "metadata": {},
   "outputs": [],
   "source": [
    "# Split normal set into train set and test set\n",
    "X_normalized_train = X_normalized.sample(frac = 0.8, random_state = 0)\n",
    "X_normalized_test = X_normalized.drop(X_normalized_train.index)"
   ]
  },
  {
   "cell_type": "code",
   "execution_count": 9,
   "metadata": {},
   "outputs": [
    {
     "data": {
      "text/plain": [
       "(786, 15)"
      ]
     },
     "execution_count": 9,
     "metadata": {},
     "output_type": "execute_result"
    }
   ],
   "source": [
    "X_normalized_train.shape"
   ]
  },
  {
   "cell_type": "code",
   "execution_count": 10,
   "metadata": {},
   "outputs": [],
   "source": [
    "#Clustering\n",
    "# Distance using : Euclidean or DTW\n",
    "\n",
    "distance_used = utils_cl.distance_ED\n",
    "#distance_used = utils_cl.distance_DTW\n",
    "\n",
    "n_iters = 500\n",
    "cluster_number = 3\n",
    "Clustering_result_1, centroid_1 = utils_cl.K_Mean(np.array(X_normalized_train), n_iters, cluster_number, metric = 'euclidean')\n",
    "\n",
    "def square(_list):\n",
    "    return [_ele * _ele for _ele in _list]\n",
    "average_radius = []\n",
    "for i, cent in enumerate(centroid_1) :\n",
    "    s = 0\n",
    "    for _p in Clustering_result_1[i+1]:\n",
    "        EDist_cluster_p2c = distance_used(cent, _p)\n",
    "        s += EDist_cluster_p2c\n",
    "    s = s / (len(Clustering_result_1[i+1]))\n",
    "    average_radius.append(s)"
   ]
  },
  {
   "cell_type": "code",
   "execution_count": 11,
   "metadata": {},
   "outputs": [
    {
     "data": {
      "image/png": "[encoded data removed]",
      "text/plain": [
       "<Figure size 960x480 with 1 Axes>"
      ]
     },
     "metadata": {
      "needs_background": "light"
     },
     "output_type": "display_data"
    }
   ],
   "source": [
    "pca_plot = PCA(n_components=2)\n",
    "principalComponents = pca_plot.fit(X)\n",
    "X_principal = pca_plot.fit_transform(X)\n",
    "result_2D = {}\n",
    "i = 0\n",
    "centroid_2D = []\n",
    "for _item in Clustering_result_1 :\n",
    "    result_2D[_item] = []\n",
    "    for _point in Clustering_result_1[_item]:\n",
    "        result_2D[_item].append(principalComponents.transform([_point])[0])\n",
    "    centroid_2D.append(principalComponents.transform([centroid_1[i]])[0])\n",
    "    i+= 1\n",
    "\n",
    "def centroid_plt2D(result, cluster_number, centroid):\n",
    "\n",
    "    plt.figure(figsize = (8, 4), dpi = 120)\n",
    "    if cluster_number > 7:\n",
    "        colors = np.random.choice(list(mpl.colors.XKCD_COLORS.keys()), cluster_number, replace = True)\n",
    "    else :\n",
    "        colors = ['b', 'g', 'r', 'c', 'm', 'y', 'k']\n",
    "    labels=['cluster' + str(i+1) for i in range(cluster_number)]\n",
    "    \n",
    "    for k in range(cluster_number):\n",
    "        d1 = [result[k+1][i][0] for i in range(len(result[k+1]))]\n",
    "        d2 = [result[k+1][i][1] for i in range(len(result[k+1]))]\n",
    "        plt.scatter(d1, d2, c=colors[k], s=5, label=labels[k])\n",
    "        plt.scatter(centroid[k][0], centroid[k][1], s=50, c=colors[k], marker = \"x\")\n",
    "    #plt.scatter([_cent[0] for _cent in centroid], [_cent[1] for _cent in centroid], s=60, c='yellow', marker = 'o', label='Centroids')\n",
    "    plt.xlabel('PCA_Dimension1')\n",
    "    plt.ylabel('PCA_Dimension2')\n",
    "    plt.title(\"Clustering result - \" + str(cluster_number) + \" clusters \")\n",
    "    plt.legend()\n",
    "    plt.show()\n",
    "centroid_plt2D(result_2D, cluster_number, centroid_2D)"
   ]
  },
  {
   "cell_type": "code",
   "execution_count": 1,
   "metadata": {},
   "outputs": [
    {
     "ename": "NameError",
     "evalue": "name 'cluster_number' is not defined",
     "output_type": "error",
     "traceback": [
      "\u001b[1;31m---------------------------------------------------------------------------\u001b[0m",
      "\u001b[1;31mNameError\u001b[0m                                 Traceback (most recent call last)",
      "\u001b[1;32m<ipython-input-1-b448f47d59e0>\u001b[0m in \u001b[0;36m<module>\u001b[1;34m\u001b[0m\n\u001b[0;32m      1\u001b[0m \u001b[1;31m# Visualizing Distribution of each Cluster\u001b[0m\u001b[1;33m\u001b[0m\u001b[1;33m\u001b[0m\u001b[1;33m\u001b[0m\u001b[0m\n\u001b[0;32m      2\u001b[0m \u001b[0mdict_DC\u001b[0m \u001b[1;33m=\u001b[0m \u001b[1;33m{\u001b[0m\u001b[1;33m}\u001b[0m\u001b[1;33m\u001b[0m\u001b[1;33m\u001b[0m\u001b[0m\n\u001b[1;32m----> 3\u001b[1;33m \u001b[1;32mfor\u001b[0m \u001b[0mi\u001b[0m \u001b[1;32min\u001b[0m \u001b[0mrange\u001b[0m\u001b[1;33m(\u001b[0m\u001b[0mcluster_number\u001b[0m\u001b[1;33m)\u001b[0m\u001b[1;33m:\u001b[0m\u001b[1;33m\u001b[0m\u001b[1;33m\u001b[0m\u001b[0m\n\u001b[0m\u001b[0;32m      4\u001b[0m     \u001b[0mlist_distance_cluster_i\u001b[0m \u001b[1;33m=\u001b[0m \u001b[1;33m[\u001b[0m\u001b[1;33m]\u001b[0m\u001b[1;33m\u001b[0m\u001b[1;33m\u001b[0m\u001b[0m\n\u001b[0;32m      5\u001b[0m     \u001b[1;32mfor\u001b[0m \u001b[0m_p\u001b[0m \u001b[1;32min\u001b[0m \u001b[0mClustering_result_1\u001b[0m\u001b[1;33m[\u001b[0m\u001b[0mi\u001b[0m\u001b[1;33m+\u001b[0m\u001b[1;36m1\u001b[0m\u001b[1;33m]\u001b[0m\u001b[1;33m:\u001b[0m\u001b[1;33m\u001b[0m\u001b[1;33m\u001b[0m\u001b[0m\n",
      "\u001b[1;31mNameError\u001b[0m: name 'cluster_number' is not defined"
     ]
    }
   ],
   "source": [
    "# Visualizing Distribution of each Cluster\n",
    "dict_DC = {}\n",
    "for i in range(cluster_number):\n",
    "    list_distance_cluster_i = []\n",
    "    for _p in Clustering_result_1[i+1]:\n",
    "        list_distance_cluster_i.append(distance_used(centroid_1[i], _p))\n",
    "    dict_DC[i+1] = list_distance_cluster_i\n",
    "    \n",
    "def distribution_plotting(cluster_number, is_print_individual = False):\n",
    "    if cluster_number > 7:\n",
    "        colors = np.random.choice(list(mpl.colors.XKCD_COLORS.keys()), cluster_number, replace = True)\n",
    "    else :\n",
    "        colors = ['b', 'g', 'r', 'c', 'm', 'y', 'k']\n",
    "    if is_print_individual : \n",
    "        for i in range(cluster_number):\n",
    "            plt.figure(figsize = (4, 2), dpi = 120)\n",
    "            sns.distplot(dict_DC[i+1])\n",
    "            plt.title(\"Distribution of Distance to Center\"  + str(i+1))\n",
    "        \n",
    "    plt.figure(figsize = (6, 3), dpi = 120)\n",
    "    for i in range(cluster_number):\n",
    "        sns.kdeplot(dict_DC[i+1], label=\"cluster\" + str(i+1), color = colors[i])\n",
    "    plt.legend();\n",
    "    plt.title(\"Distribution of Distance to center in Training set\")\n",
    "distribution_plotting(cluster_number, False)"
   ]
  },
  {
   "cell_type": "code",
   "execution_count": 13,
   "metadata": {},
   "outputs": [
    {
     "data": {
      "application/vnd.jupyter.widget-view+json": {
       "model_id": "32d5d154520f4a8e9e40ad8d163f267b",
       "version_major": 2,
       "version_minor": 0
      },
      "text/plain": [
       "HBox(children=(IntProgress(value=0, max=70), HTML(value='')))"
      ]
     },
     "metadata": {},
     "output_type": "display_data"
    },
    {
     "name": "stderr",
     "output_type": "stream",
     "text": [
      "/home/cpc/utils.py:44: FutureWarning: \n",
      "Passing list-likes to .loc or [] with any missing label will raise\n",
      "KeyError in the future, you can use .reindex() as an alternative.\n",
      "\n",
      "See the documentation here:\n",
      "https://pandas.pydata.org/pandas-docs/stable/user_guide/indexing.html#deprecate-loc-reindex-listlike\n",
      "  diemdo_df = diemdo_df.set_index(\"NEAREST_HOUR\").loc[time_index]\n"
     ]
    },
    {
     "name": "stdout",
     "output_type": "stream",
     "text": [
      "\n"
     ]
    }
   ],
   "source": [
    "# Fraud Data Preaparing\n",
    "test_df = X_normalized_test\n",
    "\n",
    "test_df2 = pd.read_csv(\"processed_data/data_fraud_meter.csv\")\n",
    "test_df2= utils.large_change_handling(test_df2)\n",
    "test_df2 = utils.normalize_data_frequency(test_df2)\n",
    "test_df2['IS_FRAUD'] = True\n",
    "test_df2.reset_index(inplace=True)\n",
    "test_df2['IMPORT_KWH_SHIFT1'] = test_df2.groupby(\"MA_DIEMDO\").MILESTONE_IMPORT_KWH.shift(1)\n",
    "test_df2['CONSUMPTION'] = test_df2.MILESTONE_IMPORT_KWH - test_df2.IMPORT_KWH_SHIFT1\n",
    "test_df2 = test_df2.rename(columns = {\"index\" : \"TIME\"})\n",
    "test_df2.TIME = pd.to_datetime(test_df2.TIME)\n",
    "test_df2, list_fraud_mdd = utils_cl.extract_n_months(test_df2, 1, True)"
   ]
  },
  {
   "cell_type": "code",
   "execution_count": 15,
   "metadata": {},
   "outputs": [
    {
     "data": {
      "text/plain": [
       "60"
      ]
     },
     "execution_count": 15,
     "metadata": {},
     "output_type": "execute_result"
    }
   ],
   "source": [
    "len(list_fraud_mdd)"
   ]
  },
  {
   "cell_type": "code",
   "execution_count": 16,
   "metadata": {},
   "outputs": [],
   "source": [
    "test_df2 = scaler.transform(test_df2.iloc[:, 2:])\n",
    "test_df2 = normalize(test_df2)\n",
    "test_df2 = pd.DataFrame(test_df2)"
   ]
  },
  {
   "cell_type": "code",
   "execution_count": 17,
   "metadata": {},
   "outputs": [],
   "source": [
    "normal_df_test_splitted = test_df\n",
    "fraud_df_test = test_df2"
   ]
  },
  {
   "cell_type": "code",
   "execution_count": 41,
   "metadata": {
    "scrolled": true
   },
   "outputs": [],
   "source": [
    "# Predicting\n",
    "def test_mdd_fraud(test_mdd, thresh_hold_KM = 1.0):\n",
    "    # ED_test2c : distance from test_mdd to each center\n",
    "    ED_test2c = [distance_used(test_mdd, _cent) for _cent in centroid_1 ]\n",
    "    #thresh_hold_KM = .75\n",
    "    distance_cent_th = [_dis*thresh_hold_KM for _dis in average_radius]\n",
    "    result_is_fraud = [ a > b for (a,b) in zip(distance_cent_th, ED_test2c)]\n",
    "    return [ a < b for (a,b) in zip(distance_cent_th, ED_test2c)]\n",
    "\n",
    "\n",
    "def prediction_result(test_set, list_mdd, thresh_KM = 1.0):\n",
    "    total_correct = 0\n",
    "    N = test_set.shape[0]\n",
    "    predicted_normal = []\n",
    "    for i in range(N):\n",
    "        try:\n",
    "            test_mdd_i = test_set.iloc[i, :]\n",
    "        except :\n",
    "            print(\"Fail - \", i)\n",
    "        if sum(test_mdd_fraud(test_mdd_i, thresh_KM)) == cluster_number :\n",
    "            total_correct += 1\n",
    "        else :\n",
    "            predicted_normal.append(list_mdd[i])\n",
    "        #print(test_mdd_fraud(test_mdd_i, thresh_KM))\n",
    "\n",
    "    print(\"Total fraud predicted      : \", total_correct )\n",
    "    print(\"Total test samples         : \", N)\n",
    "    print(total_correct/N)\n",
    "    return predicted_normal"
   ]
  },
  {
   "cell_type": "code",
   "execution_count": 54,
   "metadata": {},
   "outputs": [
    {
     "name": "stdout",
     "output_type": "stream",
     "text": [
      "Total fraud predicted      :  43\n",
      "Total test samples         :  60\n",
      "0.7166666666666667\n"
     ]
    }
   ],
   "source": [
    "thresh_KM = 0.90\n",
    "\n",
    "#test_set = normal_df_test_splitted\n",
    "#list_mdd = list_normal_mdd\n",
    "\n",
    "test_set = fraud_df_test\n",
    "list_mdd = list_fraud_mdd\n",
    "\n",
    "predicted_normal = prediction_result(test_set, list_mdd, thresh_KM)"
   ]
  },
  {
   "cell_type": "code",
   "execution_count": 27,
   "metadata": {
    "scrolled": true
   },
   "outputs": [
    {
     "data": {
      "text/plain": [
       "['PP01000621525001',\n",
       " 'PP05000501075001',\n",
       " 'PP05000515674001',\n",
       " 'PP07000683751001',\n",
       " 'PP09000808816001',\n",
       " 'PP09000837585001',\n",
       " 'PP09000821975001',\n",
       " 'PP07000684209001',\n",
       " 'PP07000682085001',\n",
       " 'PP03000832565001',\n",
       " 'PP07000613734001',\n",
       " 'PP05000504291001',\n",
       " 'PP07000713473001']"
      ]
     },
     "execution_count": 27,
     "metadata": {},
     "output_type": "execute_result"
    }
   ],
   "source": [
    "fraud_predicted_wrong"
   ]
  },
  {
   "cell_type": "code",
   "execution_count": 339,
   "metadata": {},
   "outputs": [],
   "source": [
    "### 1 time running\n",
    "## thresh_hold_KM = 1.00\n",
    "# 3 - 30/47  (0.63)\n",
    "# 5 - 26/47  (0.55)\n",
    "# 10 - 29/47 (0.62)\n",
    "\n",
    "## thresh_hold_KM = 0.8\n",
    "# 3 - 38/47  (0.81)\n",
    "# 5 - 39/47  (0.82)\n",
    "# 10 - 39/47 90.83"
   ]
  },
  {
   "cell_type": "code",
   "execution_count": null,
   "metadata": {},
   "outputs": [],
   "source": [
    "## thresh_hold_KM = 1.0\n",
    "# Fraud_test\n",
    "# 3 - 26/47\n",
    "# 5 - 30/47\n",
    "# 10 - 30/47\n",
    "# Normal_test (frac = 0.9)\n",
    "# 3 -------\n",
    "# 5 - 34/85\n",
    "# 10- 29/35\n",
    "\n",
    "# Normal_test (frac = 0.8)\n",
    "# 3 - 37/170\n",
    "# 5 - 63/170\n",
    "# 10- 68/170"
   ]
  },
  {
   "cell_type": "markdown",
   "metadata": {},
   "source": [
    "## 3'. Clustering Implementation ( Neighbours-eps Idea Process )"
   ]
  },
  {
   "cell_type": "code",
   "execution_count": 17,
   "metadata": {},
   "outputs": [],
   "source": [
    "# Clustering\n",
    "from sklearn.cluster import DBSCAN\n",
    "# DBSCAN\n",
    "eps = 0.097\n",
    "min_samples = 5\n",
    "labels_1 = utils_cl._DBSCAN(X_principal, eps, min_samples)"
   ]
  },
  {
   "cell_type": "code",
   "execution_count": 18,
   "metadata": {},
   "outputs": [
    {
     "data": {
      "image/png": "[encoded data removed]",
      "text/plain": [
       "<Figure size 720x360 with 1 Axes>"
      ]
     },
     "metadata": {
      "needs_background": "light"
     },
     "output_type": "display_data"
    },
    {
     "name": "stdout",
     "output_type": "stream",
     "text": [
      "Number of clusters :  10\n",
      "Number of outliers :  107\n",
      "Number of clustered points :  742\n"
     ]
    }
   ],
   "source": [
    "## Visualizing Result\n",
    "import matplotlib as mpl\n",
    "import matplotlib.pyplot as plt\n",
    "import matplotlib.patches as mpatches\n",
    "\n",
    "# Using PCA for visualizing only\n",
    "\n",
    "def plotting_DBSCAN(labels):\n",
    "    \n",
    "    colors_normal = 'g'\n",
    "    colors_outlier = 'b'\n",
    "    cvec = []\n",
    "    n_outliers = 0\n",
    "    for _lab in labels:\n",
    "        if _lab != -1 :\n",
    "            cvec.append(colors_normal)\n",
    "        else :\n",
    "            cvec.append(colors_outlier)\n",
    "            n_outliers += 1\n",
    "\n",
    "    plt.figure(figsize =(10, 5))\n",
    "    plt.scatter(X_principal['P1'], X_principal['P2'], c = cvec)\n",
    "    # Building the legend\n",
    "    patch_1 = mpatches.Patch(color='g', label='Normal')\n",
    "    patch_2 = mpatches.Patch(color='b', label='Outliers')\n",
    "\n",
    "    plt.legend(handles=[patch_1, patch_2])\n",
    "    plt.show()\n",
    "\n",
    "    n_clusters_ = len(set(labels)) - (1 if -1 in labels else 0)\n",
    "    n_outliers = list(labels).count(-1)\n",
    "    print(\"Number of clusters : \", n_clusters_)\n",
    "    print(\"Number of outliers : \", n_outliers)\n",
    "    print(\"Number of clustered points : \", len(labels) - n_outliers)\n",
    "    \n",
    "plotting_DBSCAN(labels_1)"
   ]
  },
  {
   "cell_type": "code",
   "execution_count": null,
   "metadata": {},
   "outputs": [],
   "source": [
    "\n"
   ]
  }
 ],
 "metadata": {
  "kernelspec": {
   "display_name": "Python 3",
   "language": "python",
   "name": "python3"
  },
  "language_info": {
   "codemirror_mode": {
    "name": "ipython",
    "version": 3
   },
   "file_extension": ".py",
   "mimetype": "text/x-python",
   "name": "python",
   "nbconvert_exporter": "python",
   "pygments_lexer": "ipython3",
   "version": "3.7.6"
  }
 },
 "nbformat": 4,
 "nbformat_minor": 2
}
