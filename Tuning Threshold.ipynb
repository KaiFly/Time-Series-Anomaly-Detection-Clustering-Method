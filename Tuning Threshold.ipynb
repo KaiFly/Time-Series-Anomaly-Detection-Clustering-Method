{
 "cells": [
  {
   "cell_type": "code",
   "execution_count": null,
   "metadata": {},
   "outputs": [],
   "source": [
    "import numpy as np\n",
    "from datetime import timedelta\n",
    "from tqdm import tqdm_notebook\n",
    "import pandas as pd\n",
    "import utils"
   ]
  },
  {
   "cell_type": "code",
   "execution_count": null,
   "metadata": {},
   "outputs": [],
   "source": [
    "normal_df = pd.read_csv('processed_data/adjusted_consumption_sample.csv')"
   ]
  },
  {
   "cell_type": "code",
   "execution_count": null,
   "metadata": {},
   "outputs": [],
   "source": [
    "fraud_df = pd.read_csv(\"processed_data/data_fraud_meter.csv\")"
   ]
  },
  {
   "cell_type": "code",
   "execution_count": null,
   "metadata": {},
   "outputs": [],
   "source": [
    "fraud_df= utils.large_change_handling(fraud_df)"
   ]
  },
  {
   "cell_type": "code",
   "execution_count": null,
   "metadata": {},
   "outputs": [],
   "source": [
    "fraud_df = utils.normalize_data_frequency(fraud_df)"
   ]
  },
  {
   "cell_type": "code",
   "execution_count": null,
   "metadata": {},
   "outputs": [],
   "source": [
    "normal_df.NGAYGIO = pd.to_datetime(normal_df.NGAYGIO)"
   ]
  },
  {
   "cell_type": "code",
   "execution_count": null,
   "metadata": {
    "scrolled": true
   },
   "outputs": [],
   "source": [
    "normal_df = utils.normalize_data_frequency(normal_df)"
   ]
  },
  {
   "cell_type": "code",
   "execution_count": null,
   "metadata": {},
   "outputs": [],
   "source": [
    "normal_df['IS_FRAUD'] = False\n",
    "fraud_df['IS_FRAUD'] = True"
   ]
  },
  {
   "cell_type": "markdown",
   "metadata": {},
   "source": [
    "# Tuning Daily Threshold\n",
    "\n",
    "* **Volatility Threshold**\n",
    "* **Num violations threshold**"
   ]
  },
  {
   "cell_type": "code",
   "execution_count": null,
   "metadata": {},
   "outputs": [],
   "source": [
    "summary_df = pd.concat([normal_df, fraud_df])"
   ]
  },
  {
   "cell_type": "code",
   "execution_count": null,
   "metadata": {},
   "outputs": [],
   "source": [
    "summary_df['IMPORT_KWH_SHIFT1'] = summary_df.groupby(\"MA_DIEMDO\").MILESTONE_IMPORT_KWH.shift(1)\n",
    "summary_df['CONSUMPTION'] = summary_df.MILESTONE_IMPORT_KWH - summary_df.IMPORT_KWH_SHIFT1\n",
    "summary_df['DATE'] = summary_df.index.floor(\"D\")"
   ]
  },
  {
   "cell_type": "code",
   "execution_count": null,
   "metadata": {},
   "outputs": [],
   "source": [
    "aggregated_df = summary_df.groupby([\"MA_DIEMDO\",'DATE','IS_FRAUD']).CONSUMPTION.sum().reset_index()"
   ]
  },
  {
   "cell_type": "code",
   "execution_count": null,
   "metadata": {
    "scrolled": true
   },
   "outputs": [],
   "source": [
    "mean_consumption = aggregated_df.groupby(\"MA_DIEMDO\").CONSUMPTION.mean().reset_index().rename({\"CONSUMPTION\":\"MEAN_CONSUMPTION\"},axis=1)"
   ]
  },
  {
   "cell_type": "code",
   "execution_count": null,
   "metadata": {},
   "outputs": [],
   "source": [
    "aggregated_df = pd.merge(aggregated_df, mean_consumption, on='MA_DIEMDO')"
   ]
  },
  {
   "cell_type": "code",
   "execution_count": null,
   "metadata": {},
   "outputs": [],
   "source": [
    "aggregated_df['PCT_CHANGE'] = (aggregated_df.CONSUMPTION - aggregated_df.MEAN_CONSUMPTION)/aggregated_df.MEAN_CONSUMPTION"
   ]
  },
  {
   "cell_type": "code",
   "execution_count": 57,
   "metadata": {},
   "outputs": [],
   "source": [
    "def gen_tuning_stat(aggregated_df):\n",
    "    results1 = []\n",
    "    results2 = []\n",
    "    for i in tqdm_notebook(range(1,10),total=9):\n",
    "        volatility_threshold = aggregated_df.PCT_CHANGE.quantile(0.1*i)\n",
    "#         print(\"OPTIMIZING VOLATILITY THRESHOLD:\",volatility_threshold)\n",
    "        if volatility_threshold < 0:\n",
    "            aggregated_df['IS_OUTLIER'] = aggregated_df.PCT_CHANGE < volatility_threshold\n",
    "        else:\n",
    "            aggregated_df['IS_OUTLIER'] = aggregated_df.PCT_CHANGE > volatility_threshold\n",
    "        aggregated_df['NUM_OUTLIERS'] = aggregated_df.groupby('MA_DIEMDO').IS_OUTLIER.rolling(7).sum().reset_index(0,drop=True)\n",
    "#         print(\"OPTIMIZING NUM OUTLIERS THRESHOLD...\")\n",
    "        for j in tqdm_notebook(range(1,10),total=9):\n",
    "            num_outliers_threshold = aggregated_df.NUM_OUTLIERS.quantile(0.1*j)\n",
    "            aggregated_df['IS_OUTLIER_2'] = aggregated_df.NUM_OUTLIERS > num_outliers_threshold\n",
    "            aggregated_df['AGG_OUTLIER'] = aggregated_df.IS_OUTLIER_2 & aggregated_df.IS_OUTLIER\n",
    "            stats = aggregated_df.groupby(['IS_FRAUD','MA_DIEMDO']).AGG_OUTLIER.mean().reset_index()\n",
    "            stats['VOL_THRESHOLD'] = volatility_threshold\n",
    "            stats['VOL_PERCENTILE'] = i\n",
    "            stats['NUM_THRESHOLD'] = num_outliers_threshold\n",
    "            stats['NUM_PERCENTILE'] = j\n",
    "            results1.append(stats)\n",
    "            stats = aggregated_df.groupby(['IS_FRAUD']).AGG_OUTLIER.mean().reset_index()\n",
    "            stats['VOL_THRESHOLD'] = volatility_threshold\n",
    "            stats['VOL_PERCENTILE'] = i\n",
    "            stats['NUM_THRESHOLD'] = num_outliers_threshold\n",
    "            stats['NUM_PERCENTILE'] = j\n",
    "            results2.append(stats)\n",
    "\n",
    "    stat = pd.concat(results2)\n",
    "\n",
    "    stat.drop_duplicates(subset=['IS_FRAUD','VOL_THRESHOLD','NUM_THRESHOLD'],inplace=True)\n",
    "    stat=stat.pivot_table(index=['VOL_THRESHOLD','VOL_PERCENTILE','NUM_THRESHOLD','NUM_PERCENTILE'],columns=['IS_FRAUD'],values = ['AGG_OUTLIER']).reset_index()\n",
    "    stat['DIFF']= stat[(   'AGG_OUTLIER', True)] - stat[(   'AGG_OUTLIER', False)]\n",
    "    stat.sort_values(by='DIFF',ascending=False, inplace=True)\n",
    "    return stat"
   ]
  },
  {
   "cell_type": "code",
   "execution_count": 58,
   "metadata": {},
   "outputs": [
    {
     "data": {
      "application/vnd.jupyter.widget-view+json": {
       "model_id": "779e8aabc3674498aa32f367ea7f5676",
       "version_major": 2,
       "version_minor": 0
      },
      "text/plain": [
       "HBox(children=(IntProgress(value=0, max=9), HTML(value='')))"
      ]
     },
     "metadata": {},
     "output_type": "display_data"
    },
    {
     "data": {
      "application/vnd.jupyter.widget-view+json": {
       "model_id": "62be4db8b1da43d9b7a459fa76a81302",
       "version_major": 2,
       "version_minor": 0
      },
      "text/plain": [
       "HBox(children=(IntProgress(value=0, max=9), HTML(value='')))"
      ]
     },
     "metadata": {},
     "output_type": "display_data"
    },
    {
     "data": {
      "application/vnd.jupyter.widget-view+json": {
       "model_id": "a4d20db2c9b842e4bc547ef950e2a3e1",
       "version_major": 2,
       "version_minor": 0
      },
      "text/plain": [
       "HBox(children=(IntProgress(value=0, max=9), HTML(value='')))"
      ]
     },
     "metadata": {},
     "output_type": "display_data"
    },
    {
     "data": {
      "application/vnd.jupyter.widget-view+json": {
       "model_id": "880dcdbd5be0436aab7f03f0bafa3941",
       "version_major": 2,
       "version_minor": 0
      },
      "text/plain": [
       "HBox(children=(IntProgress(value=0, max=9), HTML(value='')))"
      ]
     },
     "metadata": {},
     "output_type": "display_data"
    },
    {
     "data": {
      "application/vnd.jupyter.widget-view+json": {
       "model_id": "153d35eb30a141cea83fd1a5fda54932",
       "version_major": 2,
       "version_minor": 0
      },
      "text/plain": [
       "HBox(children=(IntProgress(value=0, max=9), HTML(value='')))"
      ]
     },
     "metadata": {},
     "output_type": "display_data"
    },
    {
     "data": {
      "application/vnd.jupyter.widget-view+json": {
       "model_id": "4bdf275c6526404aa893c43bea238648",
       "version_major": 2,
       "version_minor": 0
      },
      "text/plain": [
       "HBox(children=(IntProgress(value=0, max=9), HTML(value='')))"
      ]
     },
     "metadata": {},
     "output_type": "display_data"
    },
    {
     "data": {
      "application/vnd.jupyter.widget-view+json": {
       "model_id": "1329ee5a41014e9096c51736620f1fb8",
       "version_major": 2,
       "version_minor": 0
      },
      "text/plain": [
       "HBox(children=(IntProgress(value=0, max=9), HTML(value='')))"
      ]
     },
     "metadata": {},
     "output_type": "display_data"
    },
    {
     "data": {
      "application/vnd.jupyter.widget-view+json": {
       "model_id": "094093decfe140be94e199079163ff44",
       "version_major": 2,
       "version_minor": 0
      },
      "text/plain": [
       "HBox(children=(IntProgress(value=0, max=9), HTML(value='')))"
      ]
     },
     "metadata": {},
     "output_type": "display_data"
    },
    {
     "data": {
      "application/vnd.jupyter.widget-view+json": {
       "model_id": "49575ff766c04d20b39b4d898fd93966",
       "version_major": 2,
       "version_minor": 0
      },
      "text/plain": [
       "HBox(children=(IntProgress(value=0, max=9), HTML(value='')))"
      ]
     },
     "metadata": {},
     "output_type": "display_data"
    },
    {
     "data": {
      "application/vnd.jupyter.widget-view+json": {
       "model_id": "7992738eb6f3453e97aa9156db4376ae",
       "version_major": 2,
       "version_minor": 0
      },
      "text/plain": [
       "HBox(children=(IntProgress(value=0, max=9), HTML(value='')))"
      ]
     },
     "metadata": {},
     "output_type": "display_data"
    },
    {
     "name": "stdout",
     "output_type": "stream",
     "text": [
      "\n"
     ]
    }
   ],
   "source": [
    "stat = gen_tuning_stat(aggregated_df)"
   ]
  },
  {
   "cell_type": "code",
   "execution_count": 54,
   "metadata": {},
   "outputs": [
    {
     "data": {
      "text/html": [
       "<div>\n",
       "<style scoped>\n",
       "    .dataframe tbody tr th:only-of-type {\n",
       "        vertical-align: middle;\n",
       "    }\n",
       "\n",
       "    .dataframe tbody tr th {\n",
       "        vertical-align: top;\n",
       "    }\n",
       "\n",
       "    .dataframe thead tr th {\n",
       "        text-align: left;\n",
       "    }\n",
       "</style>\n",
       "<table border=\"1\" class=\"dataframe\">\n",
       "  <thead>\n",
       "    <tr>\n",
       "      <th></th>\n",
       "      <th>VOL_THRESHOLD</th>\n",
       "      <th>VOL_PERCENTILE</th>\n",
       "      <th>NUM_THRESHOLD</th>\n",
       "      <th>NUM_PERCENTILE</th>\n",
       "      <th colspan=\"2\" halign=\"left\">AGG_OUTLIER</th>\n",
       "      <th>DIFF</th>\n",
       "    </tr>\n",
       "    <tr>\n",
       "      <th>IS_FRAUD</th>\n",
       "      <th></th>\n",
       "      <th></th>\n",
       "      <th></th>\n",
       "      <th></th>\n",
       "      <th>False</th>\n",
       "      <th>True</th>\n",
       "      <th></th>\n",
       "    </tr>\n",
       "  </thead>\n",
       "  <tbody>\n",
       "    <tr>\n",
       "      <th>39</th>\n",
       "      <td>0.254729</td>\n",
       "      <td>8</td>\n",
       "      <td>0.0</td>\n",
       "      <td>1</td>\n",
       "      <td>0.196505</td>\n",
       "      <td>0.240944</td>\n",
       "      <td>0.044439</td>\n",
       "    </tr>\n",
       "    <tr>\n",
       "      <th>0</th>\n",
       "      <td>-0.497412</td>\n",
       "      <td>1</td>\n",
       "      <td>0.0</td>\n",
       "      <td>1</td>\n",
       "      <td>0.094187</td>\n",
       "      <td>0.138435</td>\n",
       "      <td>0.044248</td>\n",
       "    </tr>\n",
       "    <tr>\n",
       "      <th>33</th>\n",
       "      <td>0.135538</td>\n",
       "      <td>7</td>\n",
       "      <td>0.0</td>\n",
       "      <td>1</td>\n",
       "      <td>0.296244</td>\n",
       "      <td>0.338334</td>\n",
       "      <td>0.042090</td>\n",
       "    </tr>\n",
       "    <tr>\n",
       "      <th>3</th>\n",
       "      <td>-0.313018</td>\n",
       "      <td>2</td>\n",
       "      <td>1.0</td>\n",
       "      <td>7</td>\n",
       "      <td>0.173613</td>\n",
       "      <td>0.215168</td>\n",
       "      <td>0.041555</td>\n",
       "    </tr>\n",
       "    <tr>\n",
       "      <th>40</th>\n",
       "      <td>0.254729</td>\n",
       "      <td>8</td>\n",
       "      <td>1.0</td>\n",
       "      <td>7</td>\n",
       "      <td>0.177535</td>\n",
       "      <td>0.217817</td>\n",
       "      <td>0.040282</td>\n",
       "    </tr>\n",
       "  </tbody>\n",
       "</table>\n",
       "</div>"
      ],
      "text/plain": [
       "         VOL_THRESHOLD VOL_PERCENTILE NUM_THRESHOLD NUM_PERCENTILE  \\\n",
       "IS_FRAUD                                                             \n",
       "39            0.254729              8           0.0              1   \n",
       "0            -0.497412              1           0.0              1   \n",
       "33            0.135538              7           0.0              1   \n",
       "3            -0.313018              2           1.0              7   \n",
       "40            0.254729              8           1.0              7   \n",
       "\n",
       "         AGG_OUTLIER                DIFF  \n",
       "IS_FRAUD       False      True            \n",
       "39          0.196505  0.240944  0.044439  \n",
       "0           0.094187  0.138435  0.044248  \n",
       "33          0.296244  0.338334  0.042090  \n",
       "3           0.173613  0.215168  0.041555  \n",
       "40          0.177535  0.217817  0.040282  "
      ]
     },
     "execution_count": 54,
     "metadata": {},
     "output_type": "execute_result"
    }
   ],
   "source": [
    " .head()"
   ]
  },
  {
   "cell_type": "code",
   "execution_count": 26,
   "metadata": {},
   "outputs": [],
   "source": []
  },
  {
   "cell_type": "code",
   "execution_count": 28,
   "metadata": {},
   "outputs": [],
   "source": []
  },
  {
   "cell_type": "code",
   "execution_count": 31,
   "metadata": {},
   "outputs": [],
   "source": []
  },
  {
   "cell_type": "code",
   "execution_count": 32,
   "metadata": {},
   "outputs": [
    {
     "data": {
      "text/html": [
       "<div>\n",
       "<style scoped>\n",
       "    .dataframe tbody tr th:only-of-type {\n",
       "        vertical-align: middle;\n",
       "    }\n",
       "\n",
       "    .dataframe tbody tr th {\n",
       "        vertical-align: top;\n",
       "    }\n",
       "\n",
       "    .dataframe thead tr th {\n",
       "        text-align: left;\n",
       "    }\n",
       "</style>\n",
       "<table border=\"1\" class=\"dataframe\">\n",
       "  <thead>\n",
       "    <tr>\n",
       "      <th></th>\n",
       "      <th>VOL_THRESHOLD</th>\n",
       "      <th>VOL_PERCENTILE</th>\n",
       "      <th>NUM_THRESHOLD</th>\n",
       "      <th>NUM_PERCENTILE</th>\n",
       "      <th colspan=\"2\" halign=\"left\">AGG_OUTLIER</th>\n",
       "      <th>DIFF</th>\n",
       "    </tr>\n",
       "    <tr>\n",
       "      <th>IS_FRAUD</th>\n",
       "      <th></th>\n",
       "      <th></th>\n",
       "      <th></th>\n",
       "      <th></th>\n",
       "      <th>False</th>\n",
       "      <th>True</th>\n",
       "      <th></th>\n",
       "    </tr>\n",
       "  </thead>\n",
       "  <tbody>\n",
       "    <tr>\n",
       "      <th>23</th>\n",
       "      <td>-0.035825</td>\n",
       "      <td>5</td>\n",
       "      <td>5.0</td>\n",
       "      <td>6</td>\n",
       "      <td>0.342321</td>\n",
       "      <td>0.315862</td>\n",
       "      <td>-0.026460</td>\n",
       "    </tr>\n",
       "    <tr>\n",
       "      <th>24</th>\n",
       "      <td>-0.035825</td>\n",
       "      <td>5</td>\n",
       "      <td>6.0</td>\n",
       "      <td>7</td>\n",
       "      <td>0.268497</td>\n",
       "      <td>0.242164</td>\n",
       "      <td>-0.026333</td>\n",
       "    </tr>\n",
       "    <tr>\n",
       "      <th>19</th>\n",
       "      <td>-0.035825</td>\n",
       "      <td>5</td>\n",
       "      <td>0.0</td>\n",
       "      <td>1</td>\n",
       "      <td>0.492551</td>\n",
       "      <td>0.468762</td>\n",
       "      <td>-0.023789</td>\n",
       "    </tr>\n",
       "    <tr>\n",
       "      <th>20</th>\n",
       "      <td>-0.035825</td>\n",
       "      <td>5</td>\n",
       "      <td>1.0</td>\n",
       "      <td>3</td>\n",
       "      <td>0.475584</td>\n",
       "      <td>0.452511</td>\n",
       "      <td>-0.023074</td>\n",
       "    </tr>\n",
       "    <tr>\n",
       "      <th>22</th>\n",
       "      <td>-0.035825</td>\n",
       "      <td>5</td>\n",
       "      <td>3.0</td>\n",
       "      <td>5</td>\n",
       "      <td>0.425602</td>\n",
       "      <td>0.402863</td>\n",
       "      <td>-0.022739</td>\n",
       "    </tr>\n",
       "    <tr>\n",
       "      <th>21</th>\n",
       "      <td>-0.035825</td>\n",
       "      <td>5</td>\n",
       "      <td>2.0</td>\n",
       "      <td>4</td>\n",
       "      <td>0.453490</td>\n",
       "      <td>0.431467</td>\n",
       "      <td>-0.022023</td>\n",
       "    </tr>\n",
       "    <tr>\n",
       "      <th>17</th>\n",
       "      <td>-0.117162</td>\n",
       "      <td>4</td>\n",
       "      <td>6.0</td>\n",
       "      <td>8</td>\n",
       "      <td>0.191655</td>\n",
       "      <td>0.186773</td>\n",
       "      <td>-0.004883</td>\n",
       "    </tr>\n",
       "    <tr>\n",
       "      <th>16</th>\n",
       "      <td>-0.117162</td>\n",
       "      <td>4</td>\n",
       "      <td>5.0</td>\n",
       "      <td>7</td>\n",
       "      <td>0.248780</td>\n",
       "      <td>0.247046</td>\n",
       "      <td>-0.001734</td>\n",
       "    </tr>\n",
       "    <tr>\n",
       "      <th>38</th>\n",
       "      <td>0.135538</td>\n",
       "      <td>7</td>\n",
       "      <td>7.0</td>\n",
       "      <td>9</td>\n",
       "      <td>0.000000</td>\n",
       "      <td>0.000000</td>\n",
       "      <td>0.000000</td>\n",
       "    </tr>\n",
       "    <tr>\n",
       "      <th>32</th>\n",
       "      <td>0.042455</td>\n",
       "      <td>6</td>\n",
       "      <td>7.0</td>\n",
       "      <td>9</td>\n",
       "      <td>0.000000</td>\n",
       "      <td>0.000000</td>\n",
       "      <td>0.000000</td>\n",
       "    </tr>\n",
       "    <tr>\n",
       "      <th>18</th>\n",
       "      <td>-0.117162</td>\n",
       "      <td>4</td>\n",
       "      <td>7.0</td>\n",
       "      <td>9</td>\n",
       "      <td>0.000000</td>\n",
       "      <td>0.000000</td>\n",
       "      <td>0.000000</td>\n",
       "    </tr>\n",
       "    <tr>\n",
       "      <th>11</th>\n",
       "      <td>-0.204604</td>\n",
       "      <td>3</td>\n",
       "      <td>7.0</td>\n",
       "      <td>9</td>\n",
       "      <td>0.000000</td>\n",
       "      <td>0.000000</td>\n",
       "      <td>0.000000</td>\n",
       "    </tr>\n",
       "    <tr>\n",
       "      <th>25</th>\n",
       "      <td>-0.035825</td>\n",
       "      <td>5</td>\n",
       "      <td>7.0</td>\n",
       "      <td>8</td>\n",
       "      <td>0.000000</td>\n",
       "      <td>0.000000</td>\n",
       "      <td>0.000000</td>\n",
       "    </tr>\n",
       "    <tr>\n",
       "      <th>12</th>\n",
       "      <td>-0.117162</td>\n",
       "      <td>4</td>\n",
       "      <td>0.0</td>\n",
       "      <td>1</td>\n",
       "      <td>0.391981</td>\n",
       "      <td>0.393160</td>\n",
       "      <td>0.001179</td>\n",
       "    </tr>\n",
       "    <tr>\n",
       "      <th>13</th>\n",
       "      <td>-0.117162</td>\n",
       "      <td>4</td>\n",
       "      <td>1.0</td>\n",
       "      <td>4</td>\n",
       "      <td>0.372625</td>\n",
       "      <td>0.375599</td>\n",
       "      <td>0.002974</td>\n",
       "    </tr>\n",
       "    <tr>\n",
       "      <th>14</th>\n",
       "      <td>-0.117162</td>\n",
       "      <td>4</td>\n",
       "      <td>2.0</td>\n",
       "      <td>5</td>\n",
       "      <td>0.349369</td>\n",
       "      <td>0.354020</td>\n",
       "      <td>0.004651</td>\n",
       "    </tr>\n",
       "    <tr>\n",
       "      <th>15</th>\n",
       "      <td>-0.117162</td>\n",
       "      <td>4</td>\n",
       "      <td>3.0</td>\n",
       "      <td>6</td>\n",
       "      <td>0.322199</td>\n",
       "      <td>0.327946</td>\n",
       "      <td>0.005747</td>\n",
       "    </tr>\n",
       "    <tr>\n",
       "      <th>5</th>\n",
       "      <td>-0.313018</td>\n",
       "      <td>2</td>\n",
       "      <td>6.0</td>\n",
       "      <td>9</td>\n",
       "      <td>0.083102</td>\n",
       "      <td>0.090990</td>\n",
       "      <td>0.007888</td>\n",
       "    </tr>\n",
       "    <tr>\n",
       "      <th>10</th>\n",
       "      <td>-0.204604</td>\n",
       "      <td>3</td>\n",
       "      <td>5.0</td>\n",
       "      <td>8</td>\n",
       "      <td>0.169052</td>\n",
       "      <td>0.181504</td>\n",
       "      <td>0.012452</td>\n",
       "    </tr>\n",
       "    <tr>\n",
       "      <th>6</th>\n",
       "      <td>-0.204604</td>\n",
       "      <td>3</td>\n",
       "      <td>0.0</td>\n",
       "      <td>1</td>\n",
       "      <td>0.291952</td>\n",
       "      <td>0.314254</td>\n",
       "      <td>0.022303</td>\n",
       "    </tr>\n",
       "    <tr>\n",
       "      <th>7</th>\n",
       "      <td>-0.204604</td>\n",
       "      <td>3</td>\n",
       "      <td>1.0</td>\n",
       "      <td>5</td>\n",
       "      <td>0.271473</td>\n",
       "      <td>0.296544</td>\n",
       "      <td>0.025072</td>\n",
       "    </tr>\n",
       "    <tr>\n",
       "      <th>9</th>\n",
       "      <td>-0.204604</td>\n",
       "      <td>3</td>\n",
       "      <td>3.0</td>\n",
       "      <td>7</td>\n",
       "      <td>0.225749</td>\n",
       "      <td>0.250885</td>\n",
       "      <td>0.025136</td>\n",
       "    </tr>\n",
       "    <tr>\n",
       "      <th>1</th>\n",
       "      <td>-0.497412</td>\n",
       "      <td>1</td>\n",
       "      <td>3.0</td>\n",
       "      <td>9</td>\n",
       "      <td>0.069700</td>\n",
       "      <td>0.096467</td>\n",
       "      <td>0.026767</td>\n",
       "    </tr>\n",
       "    <tr>\n",
       "      <th>8</th>\n",
       "      <td>-0.204604</td>\n",
       "      <td>3</td>\n",
       "      <td>2.0</td>\n",
       "      <td>6</td>\n",
       "      <td>0.249337</td>\n",
       "      <td>0.276364</td>\n",
       "      <td>0.027027</td>\n",
       "    </tr>\n",
       "    <tr>\n",
       "      <th>30</th>\n",
       "      <td>0.042455</td>\n",
       "      <td>6</td>\n",
       "      <td>5.0</td>\n",
       "      <td>7</td>\n",
       "      <td>0.249809</td>\n",
       "      <td>0.276840</td>\n",
       "      <td>0.027031</td>\n",
       "    </tr>\n",
       "    <tr>\n",
       "      <th>29</th>\n",
       "      <td>0.042455</td>\n",
       "      <td>6</td>\n",
       "      <td>3.0</td>\n",
       "      <td>6</td>\n",
       "      <td>0.323930</td>\n",
       "      <td>0.351996</td>\n",
       "      <td>0.028066</td>\n",
       "    </tr>\n",
       "    <tr>\n",
       "      <th>28</th>\n",
       "      <td>0.042455</td>\n",
       "      <td>6</td>\n",
       "      <td>2.0</td>\n",
       "      <td>5</td>\n",
       "      <td>0.352502</td>\n",
       "      <td>0.382028</td>\n",
       "      <td>0.029526</td>\n",
       "    </tr>\n",
       "    <tr>\n",
       "      <th>45</th>\n",
       "      <td>0.479180</td>\n",
       "      <td>9</td>\n",
       "      <td>3.0</td>\n",
       "      <td>9</td>\n",
       "      <td>0.064281</td>\n",
       "      <td>0.094532</td>\n",
       "      <td>0.030251</td>\n",
       "    </tr>\n",
       "    <tr>\n",
       "      <th>27</th>\n",
       "      <td>0.042455</td>\n",
       "      <td>6</td>\n",
       "      <td>1.0</td>\n",
       "      <td>4</td>\n",
       "      <td>0.376769</td>\n",
       "      <td>0.407745</td>\n",
       "      <td>0.030975</td>\n",
       "    </tr>\n",
       "    <tr>\n",
       "      <th>42</th>\n",
       "      <td>0.254729</td>\n",
       "      <td>8</td>\n",
       "      <td>6.0</td>\n",
       "      <td>9</td>\n",
       "      <td>0.080175</td>\n",
       "      <td>0.111230</td>\n",
       "      <td>0.031055</td>\n",
       "    </tr>\n",
       "    <tr>\n",
       "      <th>31</th>\n",
       "      <td>0.042455</td>\n",
       "      <td>6</td>\n",
       "      <td>6.0</td>\n",
       "      <td>8</td>\n",
       "      <td>0.193170</td>\n",
       "      <td>0.224633</td>\n",
       "      <td>0.031463</td>\n",
       "    </tr>\n",
       "    <tr>\n",
       "      <th>36</th>\n",
       "      <td>0.135538</td>\n",
       "      <td>7</td>\n",
       "      <td>3.0</td>\n",
       "      <td>7</td>\n",
       "      <td>0.228426</td>\n",
       "      <td>0.260767</td>\n",
       "      <td>0.032342</td>\n",
       "    </tr>\n",
       "    <tr>\n",
       "      <th>26</th>\n",
       "      <td>0.042455</td>\n",
       "      <td>6</td>\n",
       "      <td>0.0</td>\n",
       "      <td>1</td>\n",
       "      <td>0.396269</td>\n",
       "      <td>0.429622</td>\n",
       "      <td>0.033353</td>\n",
       "    </tr>\n",
       "    <tr>\n",
       "      <th>37</th>\n",
       "      <td>0.135538</td>\n",
       "      <td>7</td>\n",
       "      <td>5.0</td>\n",
       "      <td>8</td>\n",
       "      <td>0.171035</td>\n",
       "      <td>0.204572</td>\n",
       "      <td>0.033537</td>\n",
       "    </tr>\n",
       "    <tr>\n",
       "      <th>4</th>\n",
       "      <td>-0.313018</td>\n",
       "      <td>2</td>\n",
       "      <td>3.0</td>\n",
       "      <td>8</td>\n",
       "      <td>0.139637</td>\n",
       "      <td>0.174539</td>\n",
       "      <td>0.034903</td>\n",
       "    </tr>\n",
       "    <tr>\n",
       "      <th>35</th>\n",
       "      <td>0.135538</td>\n",
       "      <td>7</td>\n",
       "      <td>2.0</td>\n",
       "      <td>6</td>\n",
       "      <td>0.252723</td>\n",
       "      <td>0.288091</td>\n",
       "      <td>0.035368</td>\n",
       "    </tr>\n",
       "    <tr>\n",
       "      <th>41</th>\n",
       "      <td>0.254729</td>\n",
       "      <td>8</td>\n",
       "      <td>3.0</td>\n",
       "      <td>8</td>\n",
       "      <td>0.141192</td>\n",
       "      <td>0.176653</td>\n",
       "      <td>0.035460</td>\n",
       "    </tr>\n",
       "    <tr>\n",
       "      <th>44</th>\n",
       "      <td>0.479180</td>\n",
       "      <td>9</td>\n",
       "      <td>1.0</td>\n",
       "      <td>8</td>\n",
       "      <td>0.084406</td>\n",
       "      <td>0.119892</td>\n",
       "      <td>0.035486</td>\n",
       "    </tr>\n",
       "    <tr>\n",
       "      <th>34</th>\n",
       "      <td>0.135538</td>\n",
       "      <td>7</td>\n",
       "      <td>1.0</td>\n",
       "      <td>5</td>\n",
       "      <td>0.275658</td>\n",
       "      <td>0.314373</td>\n",
       "      <td>0.038715</td>\n",
       "    </tr>\n",
       "    <tr>\n",
       "      <th>2</th>\n",
       "      <td>-0.313018</td>\n",
       "      <td>2</td>\n",
       "      <td>0.0</td>\n",
       "      <td>1</td>\n",
       "      <td>0.192508</td>\n",
       "      <td>0.231300</td>\n",
       "      <td>0.038792</td>\n",
       "    </tr>\n",
       "    <tr>\n",
       "      <th>43</th>\n",
       "      <td>0.479180</td>\n",
       "      <td>9</td>\n",
       "      <td>0.0</td>\n",
       "      <td>1</td>\n",
       "      <td>0.097274</td>\n",
       "      <td>0.136351</td>\n",
       "      <td>0.039077</td>\n",
       "    </tr>\n",
       "    <tr>\n",
       "      <th>40</th>\n",
       "      <td>0.254729</td>\n",
       "      <td>8</td>\n",
       "      <td>1.0</td>\n",
       "      <td>7</td>\n",
       "      <td>0.177535</td>\n",
       "      <td>0.217817</td>\n",
       "      <td>0.040282</td>\n",
       "    </tr>\n",
       "    <tr>\n",
       "      <th>3</th>\n",
       "      <td>-0.313018</td>\n",
       "      <td>2</td>\n",
       "      <td>1.0</td>\n",
       "      <td>7</td>\n",
       "      <td>0.173613</td>\n",
       "      <td>0.215168</td>\n",
       "      <td>0.041555</td>\n",
       "    </tr>\n",
       "    <tr>\n",
       "      <th>33</th>\n",
       "      <td>0.135538</td>\n",
       "      <td>7</td>\n",
       "      <td>0.0</td>\n",
       "      <td>1</td>\n",
       "      <td>0.296244</td>\n",
       "      <td>0.338334</td>\n",
       "      <td>0.042090</td>\n",
       "    </tr>\n",
       "    <tr>\n",
       "      <th>0</th>\n",
       "      <td>-0.497412</td>\n",
       "      <td>1</td>\n",
       "      <td>0.0</td>\n",
       "      <td>1</td>\n",
       "      <td>0.094187</td>\n",
       "      <td>0.138435</td>\n",
       "      <td>0.044248</td>\n",
       "    </tr>\n",
       "    <tr>\n",
       "      <th>39</th>\n",
       "      <td>0.254729</td>\n",
       "      <td>8</td>\n",
       "      <td>0.0</td>\n",
       "      <td>1</td>\n",
       "      <td>0.196505</td>\n",
       "      <td>0.240944</td>\n",
       "      <td>0.044439</td>\n",
       "    </tr>\n",
       "  </tbody>\n",
       "</table>\n",
       "</div>"
      ],
      "text/plain": [
       "         VOL_THRESHOLD VOL_PERCENTILE NUM_THRESHOLD NUM_PERCENTILE  \\\n",
       "IS_FRAUD                                                             \n",
       "23           -0.035825              5           5.0              6   \n",
       "24           -0.035825              5           6.0              7   \n",
       "19           -0.035825              5           0.0              1   \n",
       "20           -0.035825              5           1.0              3   \n",
       "22           -0.035825              5           3.0              5   \n",
       "21           -0.035825              5           2.0              4   \n",
       "17           -0.117162              4           6.0              8   \n",
       "16           -0.117162              4           5.0              7   \n",
       "38            0.135538              7           7.0              9   \n",
       "32            0.042455              6           7.0              9   \n",
       "18           -0.117162              4           7.0              9   \n",
       "11           -0.204604              3           7.0              9   \n",
       "25           -0.035825              5           7.0              8   \n",
       "12           -0.117162              4           0.0              1   \n",
       "13           -0.117162              4           1.0              4   \n",
       "14           -0.117162              4           2.0              5   \n",
       "15           -0.117162              4           3.0              6   \n",
       "5            -0.313018              2           6.0              9   \n",
       "10           -0.204604              3           5.0              8   \n",
       "6            -0.204604              3           0.0              1   \n",
       "7            -0.204604              3           1.0              5   \n",
       "9            -0.204604              3           3.0              7   \n",
       "1            -0.497412              1           3.0              9   \n",
       "8            -0.204604              3           2.0              6   \n",
       "30            0.042455              6           5.0              7   \n",
       "29            0.042455              6           3.0              6   \n",
       "28            0.042455              6           2.0              5   \n",
       "45            0.479180              9           3.0              9   \n",
       "27            0.042455              6           1.0              4   \n",
       "42            0.254729              8           6.0              9   \n",
       "31            0.042455              6           6.0              8   \n",
       "36            0.135538              7           3.0              7   \n",
       "26            0.042455              6           0.0              1   \n",
       "37            0.135538              7           5.0              8   \n",
       "4            -0.313018              2           3.0              8   \n",
       "35            0.135538              7           2.0              6   \n",
       "41            0.254729              8           3.0              8   \n",
       "44            0.479180              9           1.0              8   \n",
       "34            0.135538              7           1.0              5   \n",
       "2            -0.313018              2           0.0              1   \n",
       "43            0.479180              9           0.0              1   \n",
       "40            0.254729              8           1.0              7   \n",
       "3            -0.313018              2           1.0              7   \n",
       "33            0.135538              7           0.0              1   \n",
       "0            -0.497412              1           0.0              1   \n",
       "39            0.254729              8           0.0              1   \n",
       "\n",
       "         AGG_OUTLIER                DIFF  \n",
       "IS_FRAUD       False      True            \n",
       "23          0.342321  0.315862 -0.026460  \n",
       "24          0.268497  0.242164 -0.026333  \n",
       "19          0.492551  0.468762 -0.023789  \n",
       "20          0.475584  0.452511 -0.023074  \n",
       "22          0.425602  0.402863 -0.022739  \n",
       "21          0.453490  0.431467 -0.022023  \n",
       "17          0.191655  0.186773 -0.004883  \n",
       "16          0.248780  0.247046 -0.001734  \n",
       "38          0.000000  0.000000  0.000000  \n",
       "32          0.000000  0.000000  0.000000  \n",
       "18          0.000000  0.000000  0.000000  \n",
       "11          0.000000  0.000000  0.000000  \n",
       "25          0.000000  0.000000  0.000000  \n",
       "12          0.391981  0.393160  0.001179  \n",
       "13          0.372625  0.375599  0.002974  \n",
       "14          0.349369  0.354020  0.004651  \n",
       "15          0.322199  0.327946  0.005747  \n",
       "5           0.083102  0.090990  0.007888  \n",
       "10          0.169052  0.181504  0.012452  \n",
       "6           0.291952  0.314254  0.022303  \n",
       "7           0.271473  0.296544  0.025072  \n",
       "9           0.225749  0.250885  0.025136  \n",
       "1           0.069700  0.096467  0.026767  \n",
       "8           0.249337  0.276364  0.027027  \n",
       "30          0.249809  0.276840  0.027031  \n",
       "29          0.323930  0.351996  0.028066  \n",
       "28          0.352502  0.382028  0.029526  \n",
       "45          0.064281  0.094532  0.030251  \n",
       "27          0.376769  0.407745  0.030975  \n",
       "42          0.080175  0.111230  0.031055  \n",
       "31          0.193170  0.224633  0.031463  \n",
       "36          0.228426  0.260767  0.032342  \n",
       "26          0.396269  0.429622  0.033353  \n",
       "37          0.171035  0.204572  0.033537  \n",
       "4           0.139637  0.174539  0.034903  \n",
       "35          0.252723  0.288091  0.035368  \n",
       "41          0.141192  0.176653  0.035460  \n",
       "44          0.084406  0.119892  0.035486  \n",
       "34          0.275658  0.314373  0.038715  \n",
       "2           0.192508  0.231300  0.038792  \n",
       "43          0.097274  0.136351  0.039077  \n",
       "40          0.177535  0.217817  0.040282  \n",
       "3           0.173613  0.215168  0.041555  \n",
       "33          0.296244  0.338334  0.042090  \n",
       "0           0.094187  0.138435  0.044248  \n",
       "39          0.196505  0.240944  0.044439  "
      ]
     },
     "execution_count": 32,
     "metadata": {},
     "output_type": "execute_result"
    }
   ],
   "source": []
  },
  {
   "cell_type": "code",
   "execution_count": 49,
   "metadata": {
    "scrolled": true
   },
   "outputs": [],
   "source": [
    "temp = aggregated_df.groupby(\"MA_DIEMDO\").IS_OUTLIER.rolling(7).sum()"
   ]
  },
  {
   "cell_type": "code",
   "execution_count": 56,
   "metadata": {},
   "outputs": [
    {
     "data": {
      "text/plain": [
       "0         NaN\n",
       "1         NaN\n",
       "2         NaN\n",
       "3         NaN\n",
       "4         NaN\n",
       "         ... \n",
       "569705    0.0\n",
       "569706    0.0\n",
       "569707    0.0\n",
       "569708    0.0\n",
       "569709    0.0\n",
       "Name: IS_OUTLIER, Length: 569710, dtype: float64"
      ]
     },
     "execution_count": 56,
     "metadata": {},
     "output_type": "execute_result"
    }
   ],
   "source": [
    "aggregated_df.groupby('MA_DIEMDO').IS_OUTLIER.rolling(7).sum()"
   ]
  },
  {
   "cell_type": "code",
   "execution_count": 57,
   "metadata": {},
   "outputs": [],
   "source": [
    "aggregated_df['NUM_OUTLIERS'] = aggregated_df.groupby('MA_DIEMDO').IS_OUTLIER.rolling(7).sum().reset_index(0,drop=True)\n"
   ]
  },
  {
   "cell_type": "code",
   "execution_count": 59,
   "metadata": {},
   "outputs": [
    {
     "data": {
      "text/plain": [
       "<matplotlib.axes._subplots.AxesSubplot at 0x7f445192eb38>"
      ]
     },
     "execution_count": 59,
     "metadata": {},
     "output_type": "execute_result"
    },
    {
     "data": {
      "image/png": "[encoded data removed]",
      "text/plain": [
       "<Figure size 432x288 with 1 Axes>"
      ]
     },
     "metadata": {
      "needs_background": "light"
     },
     "output_type": "display_data"
    }
   ],
   "source": [
    "aggregated_df.NUM_OUTLIERS.hist()"
   ]
  },
  {
   "cell_type": "code",
   "execution_count": 53,
   "metadata": {},
   "outputs": [
    {
     "data": {
      "text/plain": [
       "0           NaN\n",
       "1         False\n",
       "2         False\n",
       "3         False\n",
       "4         False\n",
       "          ...  \n",
       "569705    False\n",
       "569706    False\n",
       "569707    False\n",
       "569708    False\n",
       "569709    False\n",
       "Name: IS_OUTLIER, Length: 569710, dtype: object"
      ]
     },
     "execution_count": 53,
     "metadata": {},
     "output_type": "execute_result"
    }
   ],
   "source": [
    "aggregated_df.groupby('MA_DIEMDO').IS_OUTLIER.shift(1)"
   ]
  },
  {
   "cell_type": "code",
   "execution_count": 41,
   "metadata": {},
   "outputs": [
    {
     "data": {
      "text/html": [
       "<div>\n",
       "<style scoped>\n",
       "    .dataframe tbody tr th:only-of-type {\n",
       "        vertical-align: middle;\n",
       "    }\n",
       "\n",
       "    .dataframe tbody tr th {\n",
       "        vertical-align: top;\n",
       "    }\n",
       "\n",
       "    .dataframe thead th {\n",
       "        text-align: right;\n",
       "    }\n",
       "</style>\n",
       "<table border=\"1\" class=\"dataframe\">\n",
       "  <thead>\n",
       "    <tr style=\"text-align: right;\">\n",
       "      <th></th>\n",
       "      <th>MA_DIEMDO</th>\n",
       "      <th>DATE</th>\n",
       "      <th>IS_FRAUD</th>\n",
       "      <th>CONSUMPTION</th>\n",
       "      <th>MEAN_CONSUMPTION</th>\n",
       "      <th>CHANGE_PCT</th>\n",
       "    </tr>\n",
       "  </thead>\n",
       "  <tbody>\n",
       "    <tr>\n",
       "      <th>0</th>\n",
       "      <td>PP01000100340001</td>\n",
       "      <td>2017-01-01</td>\n",
       "      <td>False</td>\n",
       "      <td>2.639168</td>\n",
       "      <td>3.798207</td>\n",
       "      <td>-0.305154</td>\n",
       "    </tr>\n",
       "    <tr>\n",
       "      <th>1</th>\n",
       "      <td>PP01000100340001</td>\n",
       "      <td>2017-01-02</td>\n",
       "      <td>False</td>\n",
       "      <td>4.366592</td>\n",
       "      <td>3.798207</td>\n",
       "      <td>0.149646</td>\n",
       "    </tr>\n",
       "    <tr>\n",
       "      <th>2</th>\n",
       "      <td>PP01000100340001</td>\n",
       "      <td>2017-01-03</td>\n",
       "      <td>False</td>\n",
       "      <td>3.439982</td>\n",
       "      <td>3.798207</td>\n",
       "      <td>-0.094314</td>\n",
       "    </tr>\n",
       "    <tr>\n",
       "      <th>3</th>\n",
       "      <td>PP01000100340001</td>\n",
       "      <td>2017-01-04</td>\n",
       "      <td>False</td>\n",
       "      <td>2.693481</td>\n",
       "      <td>3.798207</td>\n",
       "      <td>-0.290855</td>\n",
       "    </tr>\n",
       "    <tr>\n",
       "      <th>4</th>\n",
       "      <td>PP01000100340001</td>\n",
       "      <td>2017-01-05</td>\n",
       "      <td>False</td>\n",
       "      <td>2.528870</td>\n",
       "      <td>3.798207</td>\n",
       "      <td>-0.334194</td>\n",
       "    </tr>\n",
       "  </tbody>\n",
       "</table>\n",
       "</div>"
      ],
      "text/plain": [
       "          MA_DIEMDO       DATE  IS_FRAUD  CONSUMPTION  MEAN_CONSUMPTION  \\\n",
       "0  PP01000100340001 2017-01-01     False     2.639168          3.798207   \n",
       "1  PP01000100340001 2017-01-02     False     4.366592          3.798207   \n",
       "2  PP01000100340001 2017-01-03     False     3.439982          3.798207   \n",
       "3  PP01000100340001 2017-01-04     False     2.693481          3.798207   \n",
       "4  PP01000100340001 2017-01-05     False     2.528870          3.798207   \n",
       "\n",
       "   CHANGE_PCT  \n",
       "0   -0.305154  \n",
       "1    0.149646  \n",
       "2   -0.094314  \n",
       "3   -0.290855  \n",
       "4   -0.334194  "
      ]
     },
     "execution_count": 41,
     "metadata": {},
     "output_type": "execute_result"
    }
   ],
   "source": [
    "results = []\n",
    "for i in range(1,10):\n",
    "    volatility_threshold = aggregated_df.PCT_CHANGE.quantile(0.1*i)\n",
    "    print(\"-\"*80)\n",
    "    print(\"OPTIMIZING VOLATILITY THRESHOLD:\",volatility_threshold)\n",
    "    if volatility_threshold < 0:\n",
    "        aggregated_df['IS_OUTLIER'] = aggregated_df.PCT_CHANGE < volatility_threshold\n",
    "    else:\n",
    "        aggregated_df['IS_OUTLIER'] = aggregated_df.PCT_CHANGE > volatility_threshold\n",
    "\n",
    "    consecutive_outlier_df = weekly_df.groupby([\"MA_DIEMDO\",'IS_FRAUD']).agg({\"is_outlier\":utils.max_num_consecutive_outliers}).reset_index()\n",
    "    print(\"OPTIMIZING CONSECUTIVE THRESHOLD...\")\n",
    "    consecutive_outlier_df['NUM_CONSECUTIVE'] = consecutive_outlier_df.is_outlier.str[0]\n",
    "    for j in tqdm_notebook(range(1,10),total=9):\n",
    "        consecutive_threshold = consecutive_outlier_df.NUM_CONSECUTIVE.quantile(0.1*j)\n",
    "        consecutive_outlier_df['IS_OUTLIER'] = consecutive_outlier_df.NUM_CONSECUTIVE > consecutive_threshold\n",
    "        stats = consecutive_outlier_df.groupby(\"IS_FRAUD\").IS_OUTLIER.mean().reset_index()\n",
    "        stats['VOL_THRESHOLD'] = volatility_threshold\n",
    "        stats['VOL_PERCENTILE'] = i\n",
    "        stats['CON_THRESHOLD'] = consecutive_threshold\n",
    "        stats['CON_PERCENTILE'] = j\n",
    "        results.append(stats)\n",
    "    \n",
    "    "
   ]
  },
  {
   "cell_type": "code",
   "execution_count": null,
   "metadata": {},
   "outputs": [],
   "source": [
    "weekly_normal_df = utils.weekly_comsumption(normal_df)\n",
    "weekly_fraud_df = utils.weekly_comsumption(fraud_df)"
   ]
  },
  {
   "cell_type": "code",
   "execution_count": null,
   "metadata": {},
   "outputs": [],
   "source": [
    "weekly_fraud_df['IS_FRAUD'] = True\n",
    "weekly_normal_df['IS_FRAUD'] = False"
   ]
  },
  {
   "cell_type": "code",
   "execution_count": null,
   "metadata": {},
   "outputs": [],
   "source": [
    "weekly_df = pd.concat([weekly_fraud_df,weekly_normal_df])"
   ]
  },
  {
   "cell_type": "markdown",
   "metadata": {},
   "source": [
    "## Rule 1: compare to Last Week consumption"
   ]
  },
  {
   "cell_type": "code",
   "execution_count": null,
   "metadata": {},
   "outputs": [],
   "source": [
    "weekly_fraud_df.head()"
   ]
  },
  {
   "cell_type": "code",
   "execution_count": null,
   "metadata": {},
   "outputs": [],
   "source": [
    "mean_weekly_consumption = weekly_df.groupby(\"MA_DIEMDO\").CONSUMPTION.mean().reset_index().rename({\"CONSUMPTION\":\"MEAN_CONSUMPTION\"},axis=1)\n"
   ]
  },
  {
   "cell_type": "code",
   "execution_count": null,
   "metadata": {},
   "outputs": [],
   "source": [
    "weekly_df = pd.merge(weekly_df, mean_weekly_consumption, on='MA_DIEMDO')"
   ]
  },
  {
   "cell_type": "code",
   "execution_count": null,
   "metadata": {},
   "outputs": [],
   "source": [
    "weekly_df.head()"
   ]
  },
  {
   "cell_type": "code",
   "execution_count": null,
   "metadata": {},
   "outputs": [],
   "source": [
    "weekly_normal_df.head()"
   ]
  },
  {
   "cell_type": "code",
   "execution_count": null,
   "metadata": {},
   "outputs": [],
   "source": [
    "weekly_df.dropna(subset=['CONSP_LAST_WEEK'],inplace=True)"
   ]
  },
  {
   "cell_type": "code",
   "execution_count": null,
   "metadata": {},
   "outputs": [],
   "source": [
    "weekly_df['PCT_CHANGE'] = (weekly_df.CONSUMPTION - weekly_df.MEAN_CONSUMPTION)/weekly_df.MEAN_CONSUMPTION"
   ]
  },
  {
   "cell_type": "code",
   "execution_count": null,
   "metadata": {},
   "outputs": [],
   "source": []
  },
  {
   "cell_type": "code",
   "execution_count": null,
   "metadata": {},
   "outputs": [],
   "source": [
    "result = pd.concat(results).drop_duplicates(subset=['VOL_THRESHOLD','CON_THRESHOLD','IS_FRAUD'])"
   ]
  },
  {
   "cell_type": "code",
   "execution_count": null,
   "metadata": {},
   "outputs": [],
   "source": [
    "result.pivot_table(index=['VOL_THRESHOLD','VOL_PERCENTILE','CON_THRESHOLD','CON_PERCENTILE'],columns=['IS_FRAUD'],values = ['IS_OUTLIER'])"
   ]
  },
  {
   "cell_type": "code",
   "execution_count": null,
   "metadata": {},
   "outputs": [],
   "source": [
    "    if volatility_threshold < 0:\n",
    "        weekly_df['is_outlier'] = weekly_df.PCT_CHANGE < volatility_threshold\n",
    "    else:\n",
    "        weekly_df['is_outlier'] = weekly_df.PCT_CHANGE > volatility_threshold\n",
    "\n",
    "    consecutive_outlier_df = weekly_df.groupby([\"MA_DIEMDO\",'IS_FRAUD']).agg({\"is_outlier\":utils.max_num_consecutive_outliers}).reset_index()\n",
    "    consecutive_outlier_df['NUM_CONSECUTIVE']consecutive_outlier_df.is_outlier.str[0]"
   ]
  },
  {
   "cell_type": "code",
   "execution_count": null,
   "metadata": {},
   "outputs": [],
   "source": [
    "weekly_df[weekly_df.IS_FRAUD].PCT_CHANGE.hist()"
   ]
  },
  {
   "cell_type": "code",
   "execution_count": null,
   "metadata": {},
   "outputs": [],
   "source": [
    "weekly_df[~weekly_df.IS_FRAUD & (weekly_df.PCT_CHANGE<0)].PCT_CHANGE.hist()"
   ]
  },
  {
   "cell_type": "code",
   "execution_count": null,
   "metadata": {},
   "outputs": [],
   "source": [
    "."
   ]
  },
  {
   "cell_type": "code",
   "execution_count": null,
   "metadata": {},
   "outputs": [],
   "source": []
  }
 ],
 "metadata": {
  "kernelspec": {
   "display_name": "Python 3",
   "language": "python",
   "name": "python3"
  },
  "language_info": {
   "codemirror_mode": {
    "name": "ipython",
    "version": 3
   },
   "file_extension": ".py",
   "mimetype": "text/x-python",
   "name": "python",
   "nbconvert_exporter": "python",
   "pygments_lexer": "ipython3",
   "version": "3.7.3"
  }
 },
 "nbformat": 4,
 "nbformat_minor": 2
}
